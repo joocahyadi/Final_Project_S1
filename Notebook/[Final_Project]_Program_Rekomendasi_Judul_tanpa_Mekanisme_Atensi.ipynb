{
  "nbformat": 4,
  "nbformat_minor": 0,
  "metadata": {
    "colab": {
      "provenance": [],
      "gpuType": "T4"
    },
    "kernelspec": {
      "name": "python3",
      "display_name": "Python 3"
    },
    "language_info": {
      "name": "python"
    }
  },
  "cells": [
    {
      "cell_type": "markdown",
      "source": [
        "# Title Recommendation for Indonesian News Article Using Long Short-Term Memory with Attention Mechanism - [2nd Notebook]\n",
        "### Final Project of Joshia Cahyadi - 10119086\n",
        "---\n",
        "\n",
        "*Notebook* ini adalah *notebook* kedua dari 4 *notebook* lainnya. Terdapat 5 hal yang dilakukan pada *notebook* ini:\n",
        "1. Mengolah data teks lebih lanjut (*tokenization* dan *padding*),\n",
        "2. Mendefinisikan dan membangun model tanpa mekanisme atensi,\n",
        "3. Melatih model tanpa mekanisme atensi,\n",
        "4. Melakukan prediksi pada data uji (*test data*),\n",
        "5. Menghitung dan menganalisis nilai BERTScore sebagai metrik evaluasi (*evaluation metric*)."
      ],
      "metadata": {
        "id": "k6LB17V9t7Sq"
      }
    },
    {
      "cell_type": "markdown",
      "source": [
        "# Melakukan Inisialisasi Libraries"
      ],
      "metadata": {
        "id": "aFMrE5LclxhX"
      }
    },
    {
      "cell_type": "code",
      "source": [
        "!pip install bert_score==0.3.13"
      ],
      "metadata": {
        "colab": {
          "base_uri": "https://localhost:8080/"
        },
        "id": "y3EaAzkGgSuc",
        "outputId": "28d73b4d-bb86-4afb-da41-85bbaf816b0e"
      },
      "execution_count": null,
      "outputs": [
        {
          "output_type": "stream",
          "name": "stdout",
          "text": [
            "Collecting bert_score==0.3.13\n",
            "  Downloading bert_score-0.3.13-py3-none-any.whl (61 kB)\n",
            "\u001b[?25l     \u001b[90m━━━━━━━━━━━━━━━━━━━━━━━━━━━━━━━━━━━━━━━━\u001b[0m \u001b[32m0.0/61.1 kB\u001b[0m \u001b[31m?\u001b[0m eta \u001b[36m-:--:--\u001b[0m\r\u001b[2K     \u001b[90m━━━━━━━━━━━━━━━━━━━━━━━━━━━━━━━━━━━━━━━━\u001b[0m \u001b[32m61.1/61.1 kB\u001b[0m \u001b[31m2.7 MB/s\u001b[0m eta \u001b[36m0:00:00\u001b[0m\n",
            "\u001b[?25hRequirement already satisfied: torch>=1.0.0 in /usr/local/lib/python3.10/dist-packages (from bert_score==0.3.13) (2.0.1+cu118)\n",
            "Requirement already satisfied: pandas>=1.0.1 in /usr/local/lib/python3.10/dist-packages (from bert_score==0.3.13) (1.5.3)\n",
            "Collecting transformers>=3.0.0 (from bert_score==0.3.13)\n",
            "  Downloading transformers-4.30.2-py3-none-any.whl (7.2 MB)\n",
            "\u001b[2K     \u001b[90m━━━━━━━━━━━━━━━━━━━━━━━━━━━━━━━━━━━━━━━━\u001b[0m \u001b[32m7.2/7.2 MB\u001b[0m \u001b[31m55.1 MB/s\u001b[0m eta \u001b[36m0:00:00\u001b[0m\n",
            "\u001b[?25hRequirement already satisfied: numpy in /usr/local/lib/python3.10/dist-packages (from bert_score==0.3.13) (1.22.4)\n",
            "Requirement already satisfied: requests in /usr/local/lib/python3.10/dist-packages (from bert_score==0.3.13) (2.27.1)\n",
            "Requirement already satisfied: tqdm>=4.31.1 in /usr/local/lib/python3.10/dist-packages (from bert_score==0.3.13) (4.65.0)\n",
            "Requirement already satisfied: matplotlib in /usr/local/lib/python3.10/dist-packages (from bert_score==0.3.13) (3.7.1)\n",
            "Requirement already satisfied: packaging>=20.9 in /usr/local/lib/python3.10/dist-packages (from bert_score==0.3.13) (23.1)\n",
            "Requirement already satisfied: python-dateutil>=2.8.1 in /usr/local/lib/python3.10/dist-packages (from pandas>=1.0.1->bert_score==0.3.13) (2.8.2)\n",
            "Requirement already satisfied: pytz>=2020.1 in /usr/local/lib/python3.10/dist-packages (from pandas>=1.0.1->bert_score==0.3.13) (2022.7.1)\n",
            "Requirement already satisfied: filelock in /usr/local/lib/python3.10/dist-packages (from torch>=1.0.0->bert_score==0.3.13) (3.12.2)\n",
            "Requirement already satisfied: typing-extensions in /usr/local/lib/python3.10/dist-packages (from torch>=1.0.0->bert_score==0.3.13) (4.6.3)\n",
            "Requirement already satisfied: sympy in /usr/local/lib/python3.10/dist-packages (from torch>=1.0.0->bert_score==0.3.13) (1.11.1)\n",
            "Requirement already satisfied: networkx in /usr/local/lib/python3.10/dist-packages (from torch>=1.0.0->bert_score==0.3.13) (3.1)\n",
            "Requirement already satisfied: jinja2 in /usr/local/lib/python3.10/dist-packages (from torch>=1.0.0->bert_score==0.3.13) (3.1.2)\n",
            "Requirement already satisfied: triton==2.0.0 in /usr/local/lib/python3.10/dist-packages (from torch>=1.0.0->bert_score==0.3.13) (2.0.0)\n",
            "Requirement already satisfied: cmake in /usr/local/lib/python3.10/dist-packages (from triton==2.0.0->torch>=1.0.0->bert_score==0.3.13) (3.25.2)\n",
            "Requirement already satisfied: lit in /usr/local/lib/python3.10/dist-packages (from triton==2.0.0->torch>=1.0.0->bert_score==0.3.13) (16.0.6)\n",
            "Collecting huggingface-hub<1.0,>=0.14.1 (from transformers>=3.0.0->bert_score==0.3.13)\n",
            "  Downloading huggingface_hub-0.16.1-py3-none-any.whl (268 kB)\n",
            "\u001b[2K     \u001b[90m━━━━━━━━━━━━━━━━━━━━━━━━━━━━━━━━━━━━━━\u001b[0m \u001b[32m268.5/268.5 kB\u001b[0m \u001b[31m24.4 MB/s\u001b[0m eta \u001b[36m0:00:00\u001b[0m\n",
            "\u001b[?25hRequirement already satisfied: pyyaml>=5.1 in /usr/local/lib/python3.10/dist-packages (from transformers>=3.0.0->bert_score==0.3.13) (6.0)\n",
            "Requirement already satisfied: regex!=2019.12.17 in /usr/local/lib/python3.10/dist-packages (from transformers>=3.0.0->bert_score==0.3.13) (2022.10.31)\n",
            "Collecting tokenizers!=0.11.3,<0.14,>=0.11.1 (from transformers>=3.0.0->bert_score==0.3.13)\n",
            "  Downloading tokenizers-0.13.3-cp310-cp310-manylinux_2_17_x86_64.manylinux2014_x86_64.whl (7.8 MB)\n",
            "\u001b[2K     \u001b[90m━━━━━━━━━━━━━━━━━━━━━━━━━━━━━━━━━━━━━━━━\u001b[0m \u001b[32m7.8/7.8 MB\u001b[0m \u001b[31m90.7 MB/s\u001b[0m eta \u001b[36m0:00:00\u001b[0m\n",
            "\u001b[?25hCollecting safetensors>=0.3.1 (from transformers>=3.0.0->bert_score==0.3.13)\n",
            "  Downloading safetensors-0.3.1-cp310-cp310-manylinux_2_17_x86_64.manylinux2014_x86_64.whl (1.3 MB)\n",
            "\u001b[2K     \u001b[90m━━━━━━━━━━━━━━━━━━━━━━━━━━━━━━━━━━━━━━━━\u001b[0m \u001b[32m1.3/1.3 MB\u001b[0m \u001b[31m72.1 MB/s\u001b[0m eta \u001b[36m0:00:00\u001b[0m\n",
            "\u001b[?25hRequirement already satisfied: contourpy>=1.0.1 in /usr/local/lib/python3.10/dist-packages (from matplotlib->bert_score==0.3.13) (1.1.0)\n",
            "Requirement already satisfied: cycler>=0.10 in /usr/local/lib/python3.10/dist-packages (from matplotlib->bert_score==0.3.13) (0.11.0)\n",
            "Requirement already satisfied: fonttools>=4.22.0 in /usr/local/lib/python3.10/dist-packages (from matplotlib->bert_score==0.3.13) (4.40.0)\n",
            "Requirement already satisfied: kiwisolver>=1.0.1 in /usr/local/lib/python3.10/dist-packages (from matplotlib->bert_score==0.3.13) (1.4.4)\n",
            "Requirement already satisfied: pillow>=6.2.0 in /usr/local/lib/python3.10/dist-packages (from matplotlib->bert_score==0.3.13) (8.4.0)\n",
            "Requirement already satisfied: pyparsing>=2.3.1 in /usr/local/lib/python3.10/dist-packages (from matplotlib->bert_score==0.3.13) (3.1.0)\n",
            "Requirement already satisfied: urllib3<1.27,>=1.21.1 in /usr/local/lib/python3.10/dist-packages (from requests->bert_score==0.3.13) (1.26.16)\n",
            "Requirement already satisfied: certifi>=2017.4.17 in /usr/local/lib/python3.10/dist-packages (from requests->bert_score==0.3.13) (2023.5.7)\n",
            "Requirement already satisfied: charset-normalizer~=2.0.0 in /usr/local/lib/python3.10/dist-packages (from requests->bert_score==0.3.13) (2.0.12)\n",
            "Requirement already satisfied: idna<4,>=2.5 in /usr/local/lib/python3.10/dist-packages (from requests->bert_score==0.3.13) (3.4)\n",
            "Requirement already satisfied: fsspec in /usr/local/lib/python3.10/dist-packages (from huggingface-hub<1.0,>=0.14.1->transformers>=3.0.0->bert_score==0.3.13) (2023.6.0)\n",
            "Requirement already satisfied: six>=1.5 in /usr/local/lib/python3.10/dist-packages (from python-dateutil>=2.8.1->pandas>=1.0.1->bert_score==0.3.13) (1.16.0)\n",
            "Requirement already satisfied: MarkupSafe>=2.0 in /usr/local/lib/python3.10/dist-packages (from jinja2->torch>=1.0.0->bert_score==0.3.13) (2.1.3)\n",
            "Requirement already satisfied: mpmath>=0.19 in /usr/local/lib/python3.10/dist-packages (from sympy->torch>=1.0.0->bert_score==0.3.13) (1.3.0)\n",
            "Installing collected packages: tokenizers, safetensors, huggingface-hub, transformers, bert_score\n",
            "Successfully installed bert_score-0.3.13 huggingface-hub-0.16.1 safetensors-0.3.1 tokenizers-0.13.3 transformers-4.30.2\n"
          ]
        }
      ]
    },
    {
      "cell_type": "code",
      "execution_count": null,
      "metadata": {
        "id": "aahm1frxlqfH"
      },
      "outputs": [],
      "source": [
        "# Libraries untuk manipulasi data\n",
        "import pandas as pd\n",
        "import numpy as np\n",
        "\n",
        "# Libraries untuk interaksi dengan files\n",
        "import io\n",
        "import json\n",
        "\n",
        "# Libraries untuk split data antara data training dan data validasi\n",
        "from sklearn.model_selection import train_test_split\n",
        "\n",
        "# Libraries untuk menampilkan grafik\n",
        "import matplotlib.pyplot as plt\n",
        "import seaborn as sns\n",
        "\n",
        "# Libraries untuk estetika print\n",
        "import textwrap\n",
        "\n",
        "# Libraries untuk menghitung BERTScore\n",
        "# import bert_score"
      ]
    },
    {
      "cell_type": "code",
      "source": [
        "from google.colab import drive\n",
        "drive.mount('/content/drive')"
      ],
      "metadata": {
        "id": "HU83zOtMl4KK",
        "colab": {
          "base_uri": "https://localhost:8080/"
        },
        "outputId": "0ce4a300-1ced-4dfd-d8c2-c4964f5d1fb1"
      },
      "execution_count": null,
      "outputs": [
        {
          "output_type": "stream",
          "name": "stdout",
          "text": [
            "Mounted at /content/drive\n"
          ]
        }
      ]
    },
    {
      "cell_type": "markdown",
      "source": [
        "# Load Dataset"
      ],
      "metadata": {
        "id": "w2yGZYSol4o9"
      }
    },
    {
      "cell_type": "code",
      "source": [
        "# Menginisialisasi data yang telah dibersihkan sebelumnya\n",
        "df = pd.read_csv('/content/drive/MyDrive/Tugas Akhir 2/Files/Data Artikel 2 v3.csv')\n",
        "df = df[['title','content_html']]"
      ],
      "metadata": {
        "id": "koyW98zrl6TZ"
      },
      "execution_count": null,
      "outputs": []
    },
    {
      "cell_type": "code",
      "source": [
        "df"
      ],
      "metadata": {
        "colab": {
          "base_uri": "https://localhost:8080/",
          "height": 423
        },
        "id": "jrMo8pqgdS91",
        "outputId": "a584f750-62ad-4ef2-8cc8-af0b99a6d562"
      },
      "execution_count": null,
      "outputs": [
        {
          "output_type": "execute_result",
          "data": {
            "text/plain": [
              "                                                    title  \\\n",
              "0       <start> tips agar resolusi tahun baru bisa men...   \n",
              "1       <start> pantau tahun baru, kapolda metro jaya ...   \n",
              "2       <start> terompet dan kembang api bersahutan sa...   \n",
              "3       <start> awas! copet berkeliaran di ancol malam...   \n",
              "4       <start> dua gol kejutan manchester united di m...   \n",
              "...                                                   ...   \n",
              "425239  <start> 1 januari, 107.000 kendaraan diprediks...   \n",
              "425240  <start> disebut akan ke barcelona, coutinho ab...   \n",
              "425241  <start> anies dan rhoma irama adu pantun hingg...   \n",
              "425242  <start> usai duet dengan rhoma, anies harap ja...   \n",
              "425243  <start> melihat keramaian malam tahun baru di ...   \n",
              "\n",
              "                                             content_html  \n",
              "0       hal seperti pekerjaan karir, jodoh keluarga, k...  \n",
              "1       kapolda metro jaya irjen mochamad iriawan mema...  \n",
              "2       akhirnya tiba. kedatangan tahun yang baru ini ...  \n",
              "3       belasan orang mengantre di pos pengamanan sub ...  \n",
              "4       manchester united mendulang poin sempurna atas...  \n",
              "...                                                   ...  \n",
              "425239  puncak perayaan tahun baru diprediksi akan ter...  \n",
              "425240  kabar perpindahan gelandang philippe coutinho ...  \n",
              "425241  gubernur dki anies baswedan naik panggung di m...  \n",
              "425242  gubernur dki jakarta bernyanyi bersama rhoma i...  \n",
              "425243  tugu pal putih menjadi salah satu tujuan utama...  \n",
              "\n",
              "[424319 rows x 2 columns]"
            ],
            "text/html": [
              "\n",
              "  <div id=\"df-9946c5b3-0492-4585-adfd-0854118b095b\">\n",
              "    <div class=\"colab-df-container\">\n",
              "      <div>\n",
              "<style scoped>\n",
              "    .dataframe tbody tr th:only-of-type {\n",
              "        vertical-align: middle;\n",
              "    }\n",
              "\n",
              "    .dataframe tbody tr th {\n",
              "        vertical-align: top;\n",
              "    }\n",
              "\n",
              "    .dataframe thead th {\n",
              "        text-align: right;\n",
              "    }\n",
              "</style>\n",
              "<table border=\"1\" class=\"dataframe\">\n",
              "  <thead>\n",
              "    <tr style=\"text-align: right;\">\n",
              "      <th></th>\n",
              "      <th>title</th>\n",
              "      <th>content_html</th>\n",
              "    </tr>\n",
              "  </thead>\n",
              "  <tbody>\n",
              "    <tr>\n",
              "      <th>0</th>\n",
              "      <td>&lt;start&gt; tips agar resolusi tahun baru bisa men...</td>\n",
              "      <td>hal seperti pekerjaan karir, jodoh keluarga, k...</td>\n",
              "    </tr>\n",
              "    <tr>\n",
              "      <th>1</th>\n",
              "      <td>&lt;start&gt; pantau tahun baru, kapolda metro jaya ...</td>\n",
              "      <td>kapolda metro jaya irjen mochamad iriawan mema...</td>\n",
              "    </tr>\n",
              "    <tr>\n",
              "      <th>2</th>\n",
              "      <td>&lt;start&gt; terompet dan kembang api bersahutan sa...</td>\n",
              "      <td>akhirnya tiba. kedatangan tahun yang baru ini ...</td>\n",
              "    </tr>\n",
              "    <tr>\n",
              "      <th>3</th>\n",
              "      <td>&lt;start&gt; awas! copet berkeliaran di ancol malam...</td>\n",
              "      <td>belasan orang mengantre di pos pengamanan sub ...</td>\n",
              "    </tr>\n",
              "    <tr>\n",
              "      <th>4</th>\n",
              "      <td>&lt;start&gt; dua gol kejutan manchester united di m...</td>\n",
              "      <td>manchester united mendulang poin sempurna atas...</td>\n",
              "    </tr>\n",
              "    <tr>\n",
              "      <th>...</th>\n",
              "      <td>...</td>\n",
              "      <td>...</td>\n",
              "    </tr>\n",
              "    <tr>\n",
              "      <th>425239</th>\n",
              "      <td>&lt;start&gt; 1 januari, 107.000 kendaraan diprediks...</td>\n",
              "      <td>puncak perayaan tahun baru diprediksi akan ter...</td>\n",
              "    </tr>\n",
              "    <tr>\n",
              "      <th>425240</th>\n",
              "      <td>&lt;start&gt; disebut akan ke barcelona, coutinho ab...</td>\n",
              "      <td>kabar perpindahan gelandang philippe coutinho ...</td>\n",
              "    </tr>\n",
              "    <tr>\n",
              "      <th>425241</th>\n",
              "      <td>&lt;start&gt; anies dan rhoma irama adu pantun hingg...</td>\n",
              "      <td>gubernur dki anies baswedan naik panggung di m...</td>\n",
              "    </tr>\n",
              "    <tr>\n",
              "      <th>425242</th>\n",
              "      <td>&lt;start&gt; usai duet dengan rhoma, anies harap ja...</td>\n",
              "      <td>gubernur dki jakarta bernyanyi bersama rhoma i...</td>\n",
              "    </tr>\n",
              "    <tr>\n",
              "      <th>425243</th>\n",
              "      <td>&lt;start&gt; melihat keramaian malam tahun baru di ...</td>\n",
              "      <td>tugu pal putih menjadi salah satu tujuan utama...</td>\n",
              "    </tr>\n",
              "  </tbody>\n",
              "</table>\n",
              "<p>424319 rows × 2 columns</p>\n",
              "</div>\n",
              "      <button class=\"colab-df-convert\" onclick=\"convertToInteractive('df-9946c5b3-0492-4585-adfd-0854118b095b')\"\n",
              "              title=\"Convert this dataframe to an interactive table.\"\n",
              "              style=\"display:none;\">\n",
              "        \n",
              "  <svg xmlns=\"http://www.w3.org/2000/svg\" height=\"24px\"viewBox=\"0 0 24 24\"\n",
              "       width=\"24px\">\n",
              "    <path d=\"M0 0h24v24H0V0z\" fill=\"none\"/>\n",
              "    <path d=\"M18.56 5.44l.94 2.06.94-2.06 2.06-.94-2.06-.94-.94-2.06-.94 2.06-2.06.94zm-11 1L8.5 8.5l.94-2.06 2.06-.94-2.06-.94L8.5 2.5l-.94 2.06-2.06.94zm10 10l.94 2.06.94-2.06 2.06-.94-2.06-.94-.94-2.06-.94 2.06-2.06.94z\"/><path d=\"M17.41 7.96l-1.37-1.37c-.4-.4-.92-.59-1.43-.59-.52 0-1.04.2-1.43.59L10.3 9.45l-7.72 7.72c-.78.78-.78 2.05 0 2.83L4 21.41c.39.39.9.59 1.41.59.51 0 1.02-.2 1.41-.59l7.78-7.78 2.81-2.81c.8-.78.8-2.07 0-2.86zM5.41 20L4 18.59l7.72-7.72 1.47 1.35L5.41 20z\"/>\n",
              "  </svg>\n",
              "      </button>\n",
              "      \n",
              "  <style>\n",
              "    .colab-df-container {\n",
              "      display:flex;\n",
              "      flex-wrap:wrap;\n",
              "      gap: 12px;\n",
              "    }\n",
              "\n",
              "    .colab-df-convert {\n",
              "      background-color: #E8F0FE;\n",
              "      border: none;\n",
              "      border-radius: 50%;\n",
              "      cursor: pointer;\n",
              "      display: none;\n",
              "      fill: #1967D2;\n",
              "      height: 32px;\n",
              "      padding: 0 0 0 0;\n",
              "      width: 32px;\n",
              "    }\n",
              "\n",
              "    .colab-df-convert:hover {\n",
              "      background-color: #E2EBFA;\n",
              "      box-shadow: 0px 1px 2px rgba(60, 64, 67, 0.3), 0px 1px 3px 1px rgba(60, 64, 67, 0.15);\n",
              "      fill: #174EA6;\n",
              "    }\n",
              "\n",
              "    [theme=dark] .colab-df-convert {\n",
              "      background-color: #3B4455;\n",
              "      fill: #D2E3FC;\n",
              "    }\n",
              "\n",
              "    [theme=dark] .colab-df-convert:hover {\n",
              "      background-color: #434B5C;\n",
              "      box-shadow: 0px 1px 3px 1px rgba(0, 0, 0, 0.15);\n",
              "      filter: drop-shadow(0px 1px 2px rgba(0, 0, 0, 0.3));\n",
              "      fill: #FFFFFF;\n",
              "    }\n",
              "  </style>\n",
              "\n",
              "      <script>\n",
              "        const buttonEl =\n",
              "          document.querySelector('#df-9946c5b3-0492-4585-adfd-0854118b095b button.colab-df-convert');\n",
              "        buttonEl.style.display =\n",
              "          google.colab.kernel.accessAllowed ? 'block' : 'none';\n",
              "\n",
              "        async function convertToInteractive(key) {\n",
              "          const element = document.querySelector('#df-9946c5b3-0492-4585-adfd-0854118b095b');\n",
              "          const dataTable =\n",
              "            await google.colab.kernel.invokeFunction('convertToInteractive',\n",
              "                                                     [key], {});\n",
              "          if (!dataTable) return;\n",
              "\n",
              "          const docLinkHtml = 'Like what you see? Visit the ' +\n",
              "            '<a target=\"_blank\" href=https://colab.research.google.com/notebooks/data_table.ipynb>data table notebook</a>'\n",
              "            + ' to learn more about interactive tables.';\n",
              "          element.innerHTML = '';\n",
              "          dataTable['output_type'] = 'display_data';\n",
              "          await google.colab.output.renderOutput(dataTable, element);\n",
              "          const docLink = document.createElement('div');\n",
              "          docLink.innerHTML = docLinkHtml;\n",
              "          element.appendChild(docLink);\n",
              "        }\n",
              "      </script>\n",
              "    </div>\n",
              "  </div>\n",
              "  "
            ]
          },
          "metadata": {},
          "execution_count": 13
        }
      ]
    },
    {
      "cell_type": "code",
      "source": [
        "# Menghilangkan baris yang identik\n",
        "df = df.drop_duplicates()"
      ],
      "metadata": {
        "id": "pqt0zIL-mEPv"
      },
      "execution_count": null,
      "outputs": []
    },
    {
      "cell_type": "code",
      "source": [
        "# Definisikan fungsi tag_title untuk melakukan tagging pada judul\n",
        "def tag_title(title):\n",
        "  tagged_article = '<start> ' + title + ' <end>'\n",
        "  return tagged_article\n",
        "\n",
        "# Definisikan fungsi lower_title untuk melakukan lowercase pada semua karakter/huruf pada judul\n",
        "def lower_title(title):\n",
        "  lowered_title = title.lower()\n",
        "  return lowered_title"
      ],
      "metadata": {
        "id": "d1-cwT8zmKzM"
      },
      "execution_count": null,
      "outputs": []
    },
    {
      "cell_type": "code",
      "source": [
        "# Mengaplikasikan fungsi tag_title ke semua data\n",
        "df['title'] = df['title'].apply(lambda row: lower_title(tag_title(row)))"
      ],
      "metadata": {
        "id": "EtNRQcdUmQyA"
      },
      "execution_count": null,
      "outputs": []
    },
    {
      "cell_type": "code",
      "source": [
        "# Memisahkan data untuk training dan testing model encoder-decoder sequence-to-sequence tanpa mekanisme atensi\n",
        "df_training = df.sample(300000, random_state=0)\n",
        "df_all = df.merge(df_training, on=['title','content_html'], how='left', indicator=True)\n",
        "df_predict = df_all[df_all['_merge'] == 'left_only'][['title','content_html']]"
      ],
      "metadata": {
        "id": "0F9IWlKLmS1F"
      },
      "execution_count": null,
      "outputs": []
    },
    {
      "cell_type": "code",
      "source": [
        "# Membuat dataframe untuk validasi\n",
        "df_validating = df_predict.sample(30000, random_state=0)"
      ],
      "metadata": {
        "id": "MRQIK5HRmegT"
      },
      "execution_count": null,
      "outputs": []
    },
    {
      "cell_type": "code",
      "source": [
        "# Mengambil kolom 'content_html' dan 'title' untuk training\n",
        "article_training = df_training['content_html']\n",
        "title_training = df_training['title']"
      ],
      "metadata": {
        "id": "5ww0Use1mum1"
      },
      "execution_count": null,
      "outputs": []
    },
    {
      "cell_type": "code",
      "source": [
        "# Mengambil kolom 'content_html' dan 'title' untuk validasi\n",
        "article_validating = df_validating['content_html']\n",
        "title_validating = df_validating['title']"
      ],
      "metadata": {
        "id": "mHsetFkRmvIv"
      },
      "execution_count": null,
      "outputs": []
    },
    {
      "cell_type": "code",
      "source": [
        "# Membuat dataframe untuk tes hasil prediksi\n",
        "df_test = df_predict.merge(df_validating, how='left', on=['title','content_html'], indicator=True)\n",
        "df_test = df_test[df_test['_merge'] == 'left_only'][['title','content_html']]"
      ],
      "metadata": {
        "id": "I2bfHCr6mx5E"
      },
      "execution_count": null,
      "outputs": []
    },
    {
      "cell_type": "code",
      "source": [
        "df_test"
      ],
      "metadata": {
        "colab": {
          "base_uri": "https://localhost:8080/",
          "height": 423
        },
        "id": "7pz3ncTsdN5d",
        "outputId": "ce367b20-d70a-4dab-cadd-3baf8bbe3af7"
      },
      "execution_count": null,
      "outputs": [
        {
          "output_type": "execute_result",
          "data": {
            "text/plain": [
              "                                                    title  \\\n",
              "0       <start> pantau tahun baru, kapolda metro jaya ...   \n",
              "1       <start> awas! copet berkeliaran di ancol malam...   \n",
              "2       <start> dua gol kejutan manchester united di m...   \n",
              "4       <start> warga kecewa tidak ada panggung hibura...   \n",
              "5       <start> ucapan selamat tahun baru 2017 dari pa...   \n",
              "...                                                   ...   \n",
              "124311  <start> polisi as tangkap pria bersenjata jela...   \n",
              "124312  <start> demi jualan di monas, pedagang mengaku...   \n",
              "124314  <start> nike bocorkan transfer coutinho ke bar...   \n",
              "124315  <start> sandiaga akan saksikan hitung mundur p...   \n",
              "124316  <start> 75 gong disiapkan di car free night so...   \n",
              "\n",
              "                                             content_html  \n",
              "0       kapolda metro jaya irjen mochamad iriawan mema...  \n",
              "1       belasan orang mengantre di pos pengamanan sub ...  \n",
              "2       manchester united mendulang poin sempurna atas...  \n",
              "4       perayaan malam pergantian tahun baru di pada t...  \n",
              "5       panglima kodam jaya mayjen teddy lhaksmana dan...  \n",
              "...                                                   ...  \n",
              "124311  kepolisian , amerika serikat menangkap seorang...  \n",
              "124312  sejumlah pedagang terciduk petugas pengamanan ...  \n",
              "124314  penantian panjang philippe coutinho untuk bers...  \n",
              "124315  wakil gubernur dki jakarta sandiaga uno besert...  \n",
              "124316  puluhan ribu pengunjung car free night memadat...  \n",
              "\n",
              "[94319 rows x 2 columns]"
            ],
            "text/html": [
              "\n",
              "  <div id=\"df-24133c1a-f83e-4e8d-a841-ff16c57a4f69\">\n",
              "    <div class=\"colab-df-container\">\n",
              "      <div>\n",
              "<style scoped>\n",
              "    .dataframe tbody tr th:only-of-type {\n",
              "        vertical-align: middle;\n",
              "    }\n",
              "\n",
              "    .dataframe tbody tr th {\n",
              "        vertical-align: top;\n",
              "    }\n",
              "\n",
              "    .dataframe thead th {\n",
              "        text-align: right;\n",
              "    }\n",
              "</style>\n",
              "<table border=\"1\" class=\"dataframe\">\n",
              "  <thead>\n",
              "    <tr style=\"text-align: right;\">\n",
              "      <th></th>\n",
              "      <th>title</th>\n",
              "      <th>content_html</th>\n",
              "    </tr>\n",
              "  </thead>\n",
              "  <tbody>\n",
              "    <tr>\n",
              "      <th>0</th>\n",
              "      <td>&lt;start&gt; pantau tahun baru, kapolda metro jaya ...</td>\n",
              "      <td>kapolda metro jaya irjen mochamad iriawan mema...</td>\n",
              "    </tr>\n",
              "    <tr>\n",
              "      <th>1</th>\n",
              "      <td>&lt;start&gt; awas! copet berkeliaran di ancol malam...</td>\n",
              "      <td>belasan orang mengantre di pos pengamanan sub ...</td>\n",
              "    </tr>\n",
              "    <tr>\n",
              "      <th>2</th>\n",
              "      <td>&lt;start&gt; dua gol kejutan manchester united di m...</td>\n",
              "      <td>manchester united mendulang poin sempurna atas...</td>\n",
              "    </tr>\n",
              "    <tr>\n",
              "      <th>4</th>\n",
              "      <td>&lt;start&gt; warga kecewa tidak ada panggung hibura...</td>\n",
              "      <td>perayaan malam pergantian tahun baru di pada t...</td>\n",
              "    </tr>\n",
              "    <tr>\n",
              "      <th>5</th>\n",
              "      <td>&lt;start&gt; ucapan selamat tahun baru 2017 dari pa...</td>\n",
              "      <td>panglima kodam jaya mayjen teddy lhaksmana dan...</td>\n",
              "    </tr>\n",
              "    <tr>\n",
              "      <th>...</th>\n",
              "      <td>...</td>\n",
              "      <td>...</td>\n",
              "    </tr>\n",
              "    <tr>\n",
              "      <th>124311</th>\n",
              "      <td>&lt;start&gt; polisi as tangkap pria bersenjata jela...</td>\n",
              "      <td>kepolisian , amerika serikat menangkap seorang...</td>\n",
              "    </tr>\n",
              "    <tr>\n",
              "      <th>124312</th>\n",
              "      <td>&lt;start&gt; demi jualan di monas, pedagang mengaku...</td>\n",
              "      <td>sejumlah pedagang terciduk petugas pengamanan ...</td>\n",
              "    </tr>\n",
              "    <tr>\n",
              "      <th>124314</th>\n",
              "      <td>&lt;start&gt; nike bocorkan transfer coutinho ke bar...</td>\n",
              "      <td>penantian panjang philippe coutinho untuk bers...</td>\n",
              "    </tr>\n",
              "    <tr>\n",
              "      <th>124315</th>\n",
              "      <td>&lt;start&gt; sandiaga akan saksikan hitung mundur p...</td>\n",
              "      <td>wakil gubernur dki jakarta sandiaga uno besert...</td>\n",
              "    </tr>\n",
              "    <tr>\n",
              "      <th>124316</th>\n",
              "      <td>&lt;start&gt; 75 gong disiapkan di car free night so...</td>\n",
              "      <td>puluhan ribu pengunjung car free night memadat...</td>\n",
              "    </tr>\n",
              "  </tbody>\n",
              "</table>\n",
              "<p>94319 rows × 2 columns</p>\n",
              "</div>\n",
              "      <button class=\"colab-df-convert\" onclick=\"convertToInteractive('df-24133c1a-f83e-4e8d-a841-ff16c57a4f69')\"\n",
              "              title=\"Convert this dataframe to an interactive table.\"\n",
              "              style=\"display:none;\">\n",
              "        \n",
              "  <svg xmlns=\"http://www.w3.org/2000/svg\" height=\"24px\"viewBox=\"0 0 24 24\"\n",
              "       width=\"24px\">\n",
              "    <path d=\"M0 0h24v24H0V0z\" fill=\"none\"/>\n",
              "    <path d=\"M18.56 5.44l.94 2.06.94-2.06 2.06-.94-2.06-.94-.94-2.06-.94 2.06-2.06.94zm-11 1L8.5 8.5l.94-2.06 2.06-.94-2.06-.94L8.5 2.5l-.94 2.06-2.06.94zm10 10l.94 2.06.94-2.06 2.06-.94-2.06-.94-.94-2.06-.94 2.06-2.06.94z\"/><path d=\"M17.41 7.96l-1.37-1.37c-.4-.4-.92-.59-1.43-.59-.52 0-1.04.2-1.43.59L10.3 9.45l-7.72 7.72c-.78.78-.78 2.05 0 2.83L4 21.41c.39.39.9.59 1.41.59.51 0 1.02-.2 1.41-.59l7.78-7.78 2.81-2.81c.8-.78.8-2.07 0-2.86zM5.41 20L4 18.59l7.72-7.72 1.47 1.35L5.41 20z\"/>\n",
              "  </svg>\n",
              "      </button>\n",
              "      \n",
              "  <style>\n",
              "    .colab-df-container {\n",
              "      display:flex;\n",
              "      flex-wrap:wrap;\n",
              "      gap: 12px;\n",
              "    }\n",
              "\n",
              "    .colab-df-convert {\n",
              "      background-color: #E8F0FE;\n",
              "      border: none;\n",
              "      border-radius: 50%;\n",
              "      cursor: pointer;\n",
              "      display: none;\n",
              "      fill: #1967D2;\n",
              "      height: 32px;\n",
              "      padding: 0 0 0 0;\n",
              "      width: 32px;\n",
              "    }\n",
              "\n",
              "    .colab-df-convert:hover {\n",
              "      background-color: #E2EBFA;\n",
              "      box-shadow: 0px 1px 2px rgba(60, 64, 67, 0.3), 0px 1px 3px 1px rgba(60, 64, 67, 0.15);\n",
              "      fill: #174EA6;\n",
              "    }\n",
              "\n",
              "    [theme=dark] .colab-df-convert {\n",
              "      background-color: #3B4455;\n",
              "      fill: #D2E3FC;\n",
              "    }\n",
              "\n",
              "    [theme=dark] .colab-df-convert:hover {\n",
              "      background-color: #434B5C;\n",
              "      box-shadow: 0px 1px 3px 1px rgba(0, 0, 0, 0.15);\n",
              "      filter: drop-shadow(0px 1px 2px rgba(0, 0, 0, 0.3));\n",
              "      fill: #FFFFFF;\n",
              "    }\n",
              "  </style>\n",
              "\n",
              "      <script>\n",
              "        const buttonEl =\n",
              "          document.querySelector('#df-24133c1a-f83e-4e8d-a841-ff16c57a4f69 button.colab-df-convert');\n",
              "        buttonEl.style.display =\n",
              "          google.colab.kernel.accessAllowed ? 'block' : 'none';\n",
              "\n",
              "        async function convertToInteractive(key) {\n",
              "          const element = document.querySelector('#df-24133c1a-f83e-4e8d-a841-ff16c57a4f69');\n",
              "          const dataTable =\n",
              "            await google.colab.kernel.invokeFunction('convertToInteractive',\n",
              "                                                     [key], {});\n",
              "          if (!dataTable) return;\n",
              "\n",
              "          const docLinkHtml = 'Like what you see? Visit the ' +\n",
              "            '<a target=\"_blank\" href=https://colab.research.google.com/notebooks/data_table.ipynb>data table notebook</a>'\n",
              "            + ' to learn more about interactive tables.';\n",
              "          element.innerHTML = '';\n",
              "          dataTable['output_type'] = 'display_data';\n",
              "          await google.colab.output.renderOutput(dataTable, element);\n",
              "          const docLink = document.createElement('div');\n",
              "          docLink.innerHTML = docLinkHtml;\n",
              "          element.appendChild(docLink);\n",
              "        }\n",
              "      </script>\n",
              "    </div>\n",
              "  </div>\n",
              "  "
            ]
          },
          "metadata": {},
          "execution_count": 12
        }
      ]
    },
    {
      "cell_type": "code",
      "source": [
        "import gc\n",
        "\n",
        "del df_training\n",
        "del df_all\n",
        "del df\n",
        "\n",
        "gc.collect()"
      ],
      "metadata": {
        "colab": {
          "base_uri": "https://localhost:8080/"
        },
        "id": "kub3Vw20gp7a",
        "outputId": "2cf209d9-6c38-4fb5-e521-012926e214df"
      },
      "execution_count": null,
      "outputs": [
        {
          "output_type": "execute_result",
          "data": {
            "text/plain": [
              "124"
            ]
          },
          "metadata": {},
          "execution_count": 42
        }
      ]
    },
    {
      "cell_type": "code",
      "source": [
        "df_test.to_csv('/content/drive/MyDrive/Tugas Akhir 2/Files/Data Test Artikel 2 v3.csv')"
      ],
      "metadata": {
        "id": "Npc52wuvdgoi"
      },
      "execution_count": null,
      "outputs": []
    },
    {
      "cell_type": "markdown",
      "source": [
        "# Pengolahan Data"
      ],
      "metadata": {
        "id": "WktJiHmHm6Sb"
      }
    },
    {
      "cell_type": "code",
      "source": [
        "# Inisialisasi beberapa libraries yang dibutuhkan\n",
        "from tensorflow.keras.preprocessing.text import Tokenizer\n",
        "from tensorflow.keras.preprocessing.sequence import pad_sequences"
      ],
      "metadata": {
        "id": "Gav4F3ylm-MK"
      },
      "execution_count": null,
      "outputs": []
    },
    {
      "cell_type": "markdown",
      "source": [
        "## Tokenisasi"
      ],
      "metadata": {
        "id": "6ZnpDTtCm-tz"
      }
    },
    {
      "cell_type": "code",
      "source": [
        "# Melakukan tokenisasi untuk data training dan validasi artikel berita\n",
        "\n",
        "## Mendefinisikan tokenizer\n",
        "article_tokenizer = Tokenizer(oov_token='<unk>', filters='\"#$%&()*+-/:;=@[\\\\]^_`{|}~\\t\\n')\n",
        "article_tokenizer.fit_on_texts(list(article_training))\n",
        "\n",
        "## Menerapkan tokenizer yang telah didefinisikan pada data artikel yang digunakan untuk training\n",
        "article_training_tokenized = article_tokenizer.texts_to_sequences(article_training)\n",
        "article_validating_tokenized = article_tokenizer.texts_to_sequences(article_validating)\n",
        "\n",
        "## Menampilkan jumlah kosakata pada data training artikel\n",
        "print('Jumlah kosakata yang ada pada data training artikel:', len(article_tokenizer.word_index) + 1, 'kosakata.')"
      ],
      "metadata": {
        "id": "1q9rf_lcnG0d",
        "colab": {
          "base_uri": "https://localhost:8080/"
        },
        "outputId": "c166fc2b-971e-4cf4-fdc2-bde14f4ad144"
      },
      "execution_count": null,
      "outputs": [
        {
          "output_type": "stream",
          "name": "stdout",
          "text": [
            "Jumlah kosakata yang ada pada data training artikel: 665676 kosakata.\n"
          ]
        }
      ]
    },
    {
      "cell_type": "code",
      "source": [
        "# Melakukan tokenisasi untuk data training dan validasi judul berita\n",
        "\n",
        "## Mendefinisikan tokenizer\n",
        "title_tokenizer = Tokenizer(oov_token='<unk>', filters='\"#$%&()*+-/:;=@[\\\\]^_`{|}~\\t\\n')\n",
        "title_tokenizer.fit_on_texts(list(title_training))\n",
        "\n",
        "## Mendefinisikan fungsi untuk judul\n",
        "def getting_copies_for_title(titles, tokenizer):\n",
        "  '''\n",
        "  Fungsi ini digunakan untuk memisahkan judul menjadi 2 bagian:\n",
        "  1. Bagian yang digunakan untuk menghitung nilai loss dari hasil perbandingan kata hasil output decoder dengan kata sebenarnya.\n",
        "  2. Bagian yang digunakan sebagai kata input selanjutnya bagi decoder.\n",
        "  '''\n",
        "\n",
        "  # Menerapkan tokenizer yang telah didefinisikan pada data judul yang digunakan untuk training\n",
        "  tokenized_title = tokenizer.texts_to_sequences(titles)\n",
        "\n",
        "  # Memisahkan judul menjadi bagian input dan target\n",
        "  title_decoder_input = [title[:-1] for title in tokenized_title]\n",
        "  title_decoder_target = [title[1:] for title in tokenized_title]\n",
        "\n",
        "  return title_decoder_input, title_decoder_target\n",
        "\n",
        "## Mendapatkan bagian input dan target untuk data training bagian judul\n",
        "title_training_tokenized_input, title_training_tokenized_target = getting_copies_for_title(title_training, title_tokenizer)\n",
        "title_validating_tokenized_input, title_validating_tokenized_target = getting_copies_for_title(title_validating, title_tokenizer)"
      ],
      "metadata": {
        "id": "Ju2oyFnFnMhg"
      },
      "execution_count": null,
      "outputs": []
    },
    {
      "cell_type": "code",
      "source": [
        "# Menampilkan jumlah kosakata pada data training judul\n",
        "print('Jumlah kosakata yang ada pada data training judul:', len(title_tokenizer.word_index)+1)"
      ],
      "metadata": {
        "colab": {
          "base_uri": "https://localhost:8080/"
        },
        "id": "KERZX4pYQoPS",
        "outputId": "575635f1-eae4-4d4b-e3e0-ace6b8314702"
      },
      "execution_count": null,
      "outputs": [
        {
          "output_type": "stream",
          "name": "stdout",
          "text": [
            "Jumlah kosakata yang ada pada data training judul: 86847\n"
          ]
        }
      ]
    },
    {
      "cell_type": "markdown",
      "source": [
        "## Padding"
      ],
      "metadata": {
        "id": "wcFAUPRSnwts"
      }
    },
    {
      "cell_type": "code",
      "source": [
        "# Mendefinisikan panjang maksimal dari setiap artikel dan judul\n",
        "max_len_content = 500\n",
        "max_len_title = 15"
      ],
      "metadata": {
        "id": "HzrCOCthnxZn"
      },
      "execution_count": null,
      "outputs": []
    },
    {
      "cell_type": "code",
      "source": [
        "# Melakukan padding pada data training\n",
        "article_training_padded = pad_sequences(article_training_tokenized, maxlen=max_len_content, padding='post')\n",
        "title_training_padded_input = pad_sequences(title_training_tokenized_input, maxlen=max_len_title, padding='post')\n",
        "title_training_padded_target = pad_sequences(title_training_tokenized_target, maxlen=max_len_title, padding='post')"
      ],
      "metadata": {
        "id": "JKGJ0cZvnzlc"
      },
      "execution_count": null,
      "outputs": []
    },
    {
      "cell_type": "code",
      "source": [
        "# Melakukan padding pada data validasi\n",
        "article_validating_padded = pad_sequences(article_validating_tokenized, maxlen=max_len_content, padding='post')\n",
        "title_validating_padded_input = pad_sequences(title_validating_tokenized_input, maxlen=max_len_title, padding='post')\n",
        "title_validating_padded_target = pad_sequences(title_validating_tokenized_target, maxlen=max_len_title, padding='post')"
      ],
      "metadata": {
        "id": "0v71WAhwn4pw"
      },
      "execution_count": null,
      "outputs": []
    },
    {
      "cell_type": "markdown",
      "source": [
        "# Model"
      ],
      "metadata": {
        "id": "99k72NSXoAGu"
      }
    },
    {
      "cell_type": "code",
      "source": [
        "# Definisikan beberapa hyperparameter yang akan digunakan\n",
        "input_size_article = len(article_tokenizer.word_index)+1\n",
        "input_size_title = len(title_tokenizer.word_index)+1\n",
        "hidden_size = 200\n",
        "embedding_dim = 150\n",
        "batch_size = 128\n",
        "epochs = 10\n",
        "dropout_rate = 0.4"
      ],
      "metadata": {
        "id": "4HpeXFxLn9Wn"
      },
      "execution_count": null,
      "outputs": []
    },
    {
      "cell_type": "code",
      "source": [
        "# Inisialisasi library TensorFlow untuk melatih model\n",
        "import tensorflow as tf\n",
        "\n",
        "from tensorflow.keras.layers import Layer, Input, LSTM, Embedding, Dense, Bidirectional, Concatenate\n",
        "from tensorflow.keras.models import Model, load_model\n",
        "from tensorflow.keras.callbacks import EarlyStopping\n",
        "from tensorflow.linalg import matmul\n",
        "from tensorflow.keras.activations import softmax\n",
        "from tensorflow import expand_dims, squeeze, concat, cast\n",
        "from tensorflow.keras.losses import SparseCategoricalCrossentropy\n",
        "from tensorflow.math import not_equal\n",
        "from tensorflow.data import Dataset\n",
        "\n",
        "from keras import backend as K\n",
        "\n",
        "K.clear_session()"
      ],
      "metadata": {
        "id": "MQLAPPPio084"
      },
      "execution_count": null,
      "outputs": []
    },
    {
      "cell_type": "markdown",
      "source": [
        "## Encoder"
      ],
      "metadata": {
        "id": "naYzTY4UpAAe"
      }
    },
    {
      "cell_type": "code",
      "source": [
        "# Definisikan arsitektur encoder\n",
        "class Encoder(Model):\n",
        "  def __init__(self, input_dim, hidden_size, embedding_dim):\n",
        "    super(Encoder, self).__init__()\n",
        "\n",
        "    # Menginisialisasi Embedding, LSTM 1, LSTM 2, dan Concatenate layer dari Encoder\n",
        "    self.encoder_embedding = Embedding(input_dim=input_dim, output_dim=embedding_dim, name='EncoderEmbedding')\n",
        "    self.encoder_lstm1 = Bidirectional(LSTM(units=hidden_size, return_sequences=True, return_state=True, dropout=dropout_rate), name='BidirectionalLSTM1')\n",
        "    self.encoder_lstm2 = Bidirectional(LSTM(units=hidden_size, return_sequences=True, return_state=True, dropout=dropout_rate), name='BidirectionalLSTM2')\n",
        "    self.concatenate_layer = Concatenate()\n",
        "\n",
        "  def call(self, encoder_input):\n",
        "\n",
        "    # Menerapkan Embedding pada input sequence\n",
        "    encoder_embedding_output = self.encoder_embedding(encoder_input)\n",
        "\n",
        "    # Menerapkan LSTM 1 dan LSTM 2 pada hasil embedding\n",
        "    encoder_lstm1_output, encoder_lstm1_hidden_forward, encoder_lstm1_hidden_backward, encoder_lstm1_cell_forward, encoder_lstm1_cell_backward = self.encoder_lstm1(encoder_embedding_output)\n",
        "    encoder_lstm2_output, encoder_lstm2_hidden_forward, encoder_lstm2_hidden_backward, encoder_lstm2_cell_forward, encoder_lstm2_cell_backward = self.encoder_lstm2(encoder_lstm1_output)\n",
        "\n",
        "    # Melakukan konkatenasi untuk hidden dan cell state dari forward dan backward step\n",
        "    encoder_final_hidden = self.concatenate_layer([encoder_lstm2_hidden_forward, encoder_lstm2_hidden_backward])\n",
        "    encoder_final_cell = self.concatenate_layer([encoder_lstm2_cell_forward, encoder_lstm2_cell_backward])\n",
        "\n",
        "    # Mengembalikan hasil Encoder\n",
        "    return encoder_final_hidden, encoder_final_cell"
      ],
      "metadata": {
        "id": "-GqAA770o90i"
      },
      "execution_count": null,
      "outputs": []
    },
    {
      "cell_type": "markdown",
      "source": [
        "## Decoder"
      ],
      "metadata": {
        "id": "dR-inTaopFNW"
      }
    },
    {
      "cell_type": "code",
      "source": [
        "# Definisikan arsitektur decoder\n",
        "class Decoder(Model):\n",
        "  def __init__(self, input_dim, hidden_size, embedding_dim):\n",
        "    super(Decoder, self).__init__()\n",
        "\n",
        "    # Menginisialisasi Embedding, LSTM, Attention, Attentional, dan Dense layer untuk Decoder\n",
        "    self.decoder_embedding = Embedding(input_dim=input_dim, output_dim=embedding_dim, name='DecoderEmbedding')\n",
        "    self.decoder_lstm1 = LSTM(units=hidden_size*2, return_sequences=True, return_state=True, dropout=dropout_rate, name='DecoderLSTM1')\n",
        "    # self.attention = Attention()\n",
        "    # self.attentional_hidden_state_layer = Dense(units=hidden_size, activation='tanh', name='AttentionalHiddenStateLayer')\n",
        "    self.decoder_dense = Dense(units=input_size_title, name='DecoderDense')\n",
        "\n",
        "  def call(self, decoder_inputs):\n",
        "\n",
        "    decoder_input, encoder_final_states = decoder_inputs\n",
        "\n",
        "    # Menerapkan Embedding pada input sequence\n",
        "    decoder_embedding_output = self.decoder_embedding(decoder_input)\n",
        "\n",
        "    # Menerapkan LSTM pada hasil embedding\n",
        "    decoder_lstm1_output, decoder_lstm1_hidden, decoder_lstm1_cell = self.decoder_lstm1(decoder_embedding_output, initial_state=encoder_final_states)\n",
        "\n",
        "    # Mendapatkan hasil logits\n",
        "    logits = self.decoder_dense(decoder_lstm1_output)\n",
        "\n",
        "    # Mengembalikan hasil logits, hidden state, dan cell state dari decoder\n",
        "    return logits, decoder_lstm1_hidden, decoder_lstm1_cell"
      ],
      "metadata": {
        "id": "k1lRCF58pJT2"
      },
      "execution_count": null,
      "outputs": []
    },
    {
      "cell_type": "markdown",
      "source": [
        "## Fungsi Loss"
      ],
      "metadata": {
        "id": "lLCA8uBypRqb"
      }
    },
    {
      "cell_type": "code",
      "source": [
        "# Definisikan fungsi loss\n",
        "def scce_mask_loss_function(targets, predictions):\n",
        "\n",
        "  # Inisialisasi fungsi Sparse Categorical Cross Entropy\n",
        "  scce_loss = SparseCategoricalCrossentropy(from_logits=True)\n",
        "\n",
        "  # Mendefinisikan mask agar padding tidak ikut dalam menentukan besarnya loss\n",
        "  weight_mask = cast(not_equal(targets, 0), dtype=tf.float32)\n",
        "\n",
        "  # Mengembalikan nilai loss\n",
        "  return scce_loss(targets, predictions, sample_weight=weight_mask)"
      ],
      "metadata": {
        "id": "TjgOwHOmpS8Q"
      },
      "execution_count": null,
      "outputs": []
    },
    {
      "cell_type": "markdown",
      "source": [
        "## Fungsi untuk Melatih Model"
      ],
      "metadata": {
        "id": "tzwjpKw2pdze"
      }
    },
    {
      "cell_type": "code",
      "source": [
        "# Definisikan fungsi untuk melatih dan melakukan validasi pada model\n",
        "class SequencetoSequenceTrainingFunction(Model):\n",
        "  def __init__(self, encoder, decoder):\n",
        "    super(SequencetoSequenceTrainingFunction, self).__init__()\n",
        "\n",
        "    # Menginisialisasi encoder dan decoder yang telah dibuat sebelumnya\n",
        "    self.encoder = encoder\n",
        "    self.decoder = decoder\n",
        "\n",
        "  # Bagian untuk melatih model\n",
        "  @tf.function\n",
        "  def train_step(self, data):\n",
        "    encoder_input, decoder_input, decoder_target = data\n",
        "\n",
        "    # Inisialisasi nilai loss\n",
        "    loss_val = 0.\n",
        "\n",
        "    # Inisialisasi panjang sequence yang harus didecode oleh decoder\n",
        "    decoding_length = decoder_target.shape[1]\n",
        "\n",
        "    with tf.GradientTape() as tape:\n",
        "\n",
        "      # Memasukkan artikel berita ke dalam encoder\n",
        "      # Mendapatkan hasil berupa:\n",
        "      #  1. Hidden state dari setiap timestep yang akan digunakan untuk mekanisme atensi\n",
        "      #  2. Final hidden state dan final cell state yang akan digunakan untuk inisialisasi hidden state dan cell state dari decoder\n",
        "      decoder_hidden, decoder_cell = self.encoder(encoder_input)\n",
        "\n",
        "      # Looping untuk proses decoding\n",
        "      for i in range(decoding_length):\n",
        "\n",
        "        # Inisialisasi input selanjutnya yang akan masuk ke decoder\n",
        "        next_decoding_input = expand_dims(decoder_input[:, i], 1)\n",
        "\n",
        "        # Memasukkan next_decoding_input ke dalam decoder\n",
        "        # Mendapatkan hasil berupa:\n",
        "        #  1. logits: sebuah vektor dengan ukuran (1 x input_size_title) yang berisi nilai hasil perhitungan decoder\n",
        "        #  2. Hidden state dan cell state yang akan diterukan ke decoder timestep berikutnya\n",
        "        logits, decoder_hidden, decoder_cell = self.decoder([next_decoding_input, (decoder_hidden, decoder_cell)])\n",
        "\n",
        "        # Mengakumulasi nilai loss\n",
        "        loss_val += self.loss(decoder_target[:, i], logits)\n",
        "\n",
        "    # Mendapatkan semua variabel yang dapat ditrain dalam model\n",
        "    trainable_vars = encoder.trainable_variables + decoder.trainable_variables\n",
        "\n",
        "    # Menghitung gradient untuk backpropagation\n",
        "    gradients = tape.gradient(loss_val, trainable_vars)\n",
        "\n",
        "    # Mengaplikasikan gradient ke semua variabel yang dapat ditrain\n",
        "    self.optimizer.apply_gradients(zip(gradients, trainable_vars))\n",
        "\n",
        "    # Mengembalikan nilai loss untuk setiap epoch\n",
        "    return {'Loss': loss_val/decoding_length}\n",
        "\n",
        "  # Bagian untuk validasi model\n",
        "  @tf.function\n",
        "  def test_step(self, data_validation):\n",
        "    encoder_input_test, decoder_input_test, decoder_target_test = data_validation\n",
        "\n",
        "    loss_val_test = 0.\n",
        "\n",
        "    decoding_length_test = decoder_target_test.shape[1]\n",
        "\n",
        "    decoder_hidden_test, decoder_cell_test = self.encoder(encoder_input_test, training=False)\n",
        "\n",
        "    for i in range(decoding_length_test):\n",
        "      next_decoding_input_test = expand_dims(decoder_input_test[:, i], 1)\n",
        "      logits_test, decoder_hidden_test, decoder_cell_test = self.decoder([next_decoding_input_test, (decoder_hidden_test, decoder_cell_test)], training=False)\n",
        "      loss_val_test += self.loss(decoder_target_test[:, i], logits_test)\n",
        "\n",
        "    return {'val_loss': loss_val_test/decoding_length_test}"
      ],
      "metadata": {
        "id": "WJZwk3WnpgQg"
      },
      "execution_count": null,
      "outputs": []
    },
    {
      "cell_type": "markdown",
      "source": [
        "# Melatih Model"
      ],
      "metadata": {
        "id": "n-RbOD8Ap0qB"
      }
    },
    {
      "cell_type": "code",
      "source": [
        "# Inisialisasi dataset menggunakan tensorflow datasets\n",
        "\n",
        "## Inisialisasi dataset untuk training\n",
        "training_dataset = Dataset.from_tensor_slices((article_training_padded,\n",
        "                                               title_training_padded_input,\n",
        "                                               title_training_padded_target)).batch(batch_size, drop_remainder=True)\n",
        "\n",
        "## Inisialisasi dataset untuk validasi\n",
        "validation_dataset = Dataset.from_tensor_slices((article_validating_padded,\n",
        "                                                 title_validating_padded_input,\n",
        "                                                 title_validating_padded_target)).batch(batch_size, drop_remainder=True)"
      ],
      "metadata": {
        "id": "PyOjO12Kp2bD"
      },
      "execution_count": null,
      "outputs": []
    },
    {
      "cell_type": "code",
      "source": [
        "# Inisialisasi encoder, decoder, dan optimizer\n",
        "encoder = Encoder(input_dim=input_size_article, hidden_size=hidden_size, embedding_dim=embedding_dim)\n",
        "decoder = Decoder(input_dim=input_size_title, hidden_size=hidden_size, embedding_dim=embedding_dim)\n",
        "optimizer = tf.keras.optimizers.Adam()\n",
        "\n",
        "# Inisialisasi model keseluruhan\n",
        "model = SequencetoSequenceTrainingFunction(encoder=encoder, decoder=decoder)\n",
        "\n",
        "# Compile model\n",
        "model.compile(optimizer=optimizer, loss=scce_mask_loss_function)"
      ],
      "metadata": {
        "id": "Hg558qJ_qFcZ"
      },
      "execution_count": null,
      "outputs": []
    },
    {
      "cell_type": "code",
      "source": [
        "# Melatih model\n",
        "history = model.fit(training_dataset, validation_data=validation_dataset, epochs=epochs)"
      ],
      "metadata": {
        "id": "MMJShd66qXyS",
        "colab": {
          "base_uri": "https://localhost:8080/"
        },
        "outputId": "8c7e7f3d-d448-4329-ab66-9ce60b08eda7"
      },
      "execution_count": null,
      "outputs": [
        {
          "output_type": "stream",
          "name": "stdout",
          "text": [
            "Epoch 1/10\n",
            "2343/2343 [==============================] - ETA: 0s - Loss: 4.6092"
          ]
        },
        {
          "output_type": "stream",
          "name": "stderr",
          "text": [
            "WARNING:tensorflow:`evaluate()` received a value for `sample_weight`, but `weighted_metrics` were not provided.  Did you mean to pass metrics to `weighted_metrics` in `compile()`?  If this is intentional you can pass `weighted_metrics=[]` to `compile()` in order to silence this warning.\n"
          ]
        },
        {
          "output_type": "stream",
          "name": "stdout",
          "text": [
            "\b\b\b\b\b\b\b\b\b\b\b\b\b\b\b\b\b\b\b\b\b\b\b\b\b\b\b\b\b\b\b\b\b\b\b\b\b\b\b\b\b\b\b\b\b\b\b\b\b\b\b\b\b\b\b\b\b\b\b\b\b\b\b\b\b\b\b\r2343/2343 [==============================] - 1491s 621ms/step - Loss: 4.6089 - val_val_loss: 4.0096\n",
            "Epoch 2/10\n",
            "2343/2343 [==============================] - ETA: 0s - Loss: 3.5777"
          ]
        },
        {
          "output_type": "stream",
          "name": "stderr",
          "text": [
            "WARNING:tensorflow:`evaluate()` received a value for `sample_weight`, but `weighted_metrics` were not provided.  Did you mean to pass metrics to `weighted_metrics` in `compile()`?  If this is intentional you can pass `weighted_metrics=[]` to `compile()` in order to silence this warning.\n"
          ]
        },
        {
          "output_type": "stream",
          "name": "stdout",
          "text": [
            "\b\b\b\b\b\b\b\b\b\b\b\b\b\b\b\b\b\b\b\b\b\b\b\b\b\b\b\b\b\b\b\b\b\b\b\b\b\b\b\b\b\b\b\b\b\b\b\b\b\b\b\b\b\b\b\b\b\b\b\b\b\b\b\b\b\b\b\r2343/2343 [==============================] - 1291s 551ms/step - Loss: 3.5775 - val_val_loss: 3.5305\n",
            "Epoch 3/10\n",
            "2343/2343 [==============================] - ETA: 0s - Loss: 3.0863"
          ]
        },
        {
          "output_type": "stream",
          "name": "stderr",
          "text": [
            "WARNING:tensorflow:`evaluate()` received a value for `sample_weight`, but `weighted_metrics` were not provided.  Did you mean to pass metrics to `weighted_metrics` in `compile()`?  If this is intentional you can pass `weighted_metrics=[]` to `compile()` in order to silence this warning.\n"
          ]
        },
        {
          "output_type": "stream",
          "name": "stdout",
          "text": [
            "\b\b\b\b\b\b\b\b\b\b\b\b\b\b\b\b\b\b\b\b\b\b\b\b\b\b\b\b\b\b\b\b\b\b\b\b\b\b\b\b\b\b\b\b\b\b\b\b\b\b\b\b\b\b\b\b\b\b\b\b\b\b\b\b\b\b\b\r2343/2343 [==============================] - 1293s 552ms/step - Loss: 3.0861 - val_val_loss: 3.3478\n",
            "Epoch 4/10\n",
            "2343/2343 [==============================] - ETA: 0s - Loss: 2.7465"
          ]
        },
        {
          "output_type": "stream",
          "name": "stderr",
          "text": [
            "WARNING:tensorflow:`evaluate()` received a value for `sample_weight`, but `weighted_metrics` were not provided.  Did you mean to pass metrics to `weighted_metrics` in `compile()`?  If this is intentional you can pass `weighted_metrics=[]` to `compile()` in order to silence this warning.\n"
          ]
        },
        {
          "output_type": "stream",
          "name": "stdout",
          "text": [
            "\b\b\b\b\b\b\b\b\b\b\b\b\b\b\b\b\b\b\b\b\b\b\b\b\b\b\b\b\b\b\b\b\b\b\b\b\b\b\b\b\b\b\b\b\b\b\b\b\b\b\b\b\b\b\b\b\b\b\b\b\b\b\b\b\b\b\b\r2343/2343 [==============================] - 1293s 552ms/step - Loss: 2.7464 - val_val_loss: 3.2935\n",
            "Epoch 5/10\n",
            "2343/2343 [==============================] - ETA: 0s - Loss: 2.4785"
          ]
        },
        {
          "output_type": "stream",
          "name": "stderr",
          "text": [
            "WARNING:tensorflow:`evaluate()` received a value for `sample_weight`, but `weighted_metrics` were not provided.  Did you mean to pass metrics to `weighted_metrics` in `compile()`?  If this is intentional you can pass `weighted_metrics=[]` to `compile()` in order to silence this warning.\n"
          ]
        },
        {
          "output_type": "stream",
          "name": "stdout",
          "text": [
            "\b\b\b\b\b\b\b\b\b\b\b\b\b\b\b\b\b\b\b\b\b\b\b\b\b\b\b\b\b\b\b\b\b\b\b\b\b\b\b\b\b\b\b\b\b\b\b\b\b\b\b\b\b\b\b\b\b\b\b\b\b\b\b\b\b\b\b\r2343/2343 [==============================] - 1294s 552ms/step - Loss: 2.4784 - val_val_loss: 3.3050\n",
            "Epoch 6/10\n",
            "2343/2343 [==============================] - ETA: 0s - Loss: 2.2687"
          ]
        },
        {
          "output_type": "stream",
          "name": "stderr",
          "text": [
            "WARNING:tensorflow:`evaluate()` received a value for `sample_weight`, but `weighted_metrics` were not provided.  Did you mean to pass metrics to `weighted_metrics` in `compile()`?  If this is intentional you can pass `weighted_metrics=[]` to `compile()` in order to silence this warning.\n"
          ]
        },
        {
          "output_type": "stream",
          "name": "stdout",
          "text": [
            "\b\b\b\b\b\b\b\b\b\b\b\b\b\b\b\b\b\b\b\b\b\b\b\b\b\b\b\b\b\b\b\b\b\b\b\b\b\b\b\b\b\b\b\b\b\b\b\b\b\b\b\b\b\b\b\b\b\b\b\b\b\b\b\b\b\b\b\r2343/2343 [==============================] - 1295s 553ms/step - Loss: 2.2686 - val_val_loss: 3.3406\n",
            "Epoch 7/10\n",
            "2343/2343 [==============================] - ETA: 0s - Loss: 2.0971"
          ]
        },
        {
          "output_type": "stream",
          "name": "stderr",
          "text": [
            "WARNING:tensorflow:`evaluate()` received a value for `sample_weight`, but `weighted_metrics` were not provided.  Did you mean to pass metrics to `weighted_metrics` in `compile()`?  If this is intentional you can pass `weighted_metrics=[]` to `compile()` in order to silence this warning.\n"
          ]
        },
        {
          "output_type": "stream",
          "name": "stdout",
          "text": [
            "\b\b\b\b\b\b\b\b\b\b\b\b\b\b\b\b\b\b\b\b\b\b\b\b\b\b\b\b\b\b\b\b\b\b\b\b\b\b\b\b\b\b\b\b\b\b\b\b\b\b\b\b\b\b\b\b\b\b\b\b\b\b\b\b\b\b\b\r2343/2343 [==============================] - 1295s 553ms/step - Loss: 2.0970 - val_val_loss: 3.3818\n",
            "Epoch 8/10\n",
            "2343/2343 [==============================] - ETA: 0s - Loss: 1.9504"
          ]
        },
        {
          "output_type": "stream",
          "name": "stderr",
          "text": [
            "WARNING:tensorflow:`evaluate()` received a value for `sample_weight`, but `weighted_metrics` were not provided.  Did you mean to pass metrics to `weighted_metrics` in `compile()`?  If this is intentional you can pass `weighted_metrics=[]` to `compile()` in order to silence this warning.\n"
          ]
        },
        {
          "output_type": "stream",
          "name": "stdout",
          "text": [
            "\b\b\b\b\b\b\b\b\b\b\b\b\b\b\b\b\b\b\b\b\b\b\b\b\b\b\b\b\b\b\b\b\b\b\b\b\b\b\b\b\b\b\b\b\b\b\b\b\b\b\b\b\b\b\b\b\b\b\b\b\b\b\b\b\b\b\b\r2343/2343 [==============================] - 1295s 553ms/step - Loss: 1.9503 - val_val_loss: 3.4305\n",
            "Epoch 9/10\n",
            "2343/2343 [==============================] - ETA: 0s - Loss: 1.8211"
          ]
        },
        {
          "output_type": "stream",
          "name": "stderr",
          "text": [
            "WARNING:tensorflow:`evaluate()` received a value for `sample_weight`, but `weighted_metrics` were not provided.  Did you mean to pass metrics to `weighted_metrics` in `compile()`?  If this is intentional you can pass `weighted_metrics=[]` to `compile()` in order to silence this warning.\n"
          ]
        },
        {
          "output_type": "stream",
          "name": "stdout",
          "text": [
            "\b\b\b\b\b\b\b\b\b\b\b\b\b\b\b\b\b\b\b\b\b\b\b\b\b\b\b\b\b\b\b\b\b\b\b\b\b\b\b\b\b\b\b\b\b\b\b\b\b\b\b\b\b\b\b\b\b\b\b\b\b\b\b\b\b\b\b\r2343/2343 [==============================] - 1295s 553ms/step - Loss: 1.8210 - val_val_loss: 3.5100\n",
            "Epoch 10/10\n",
            "2343/2343 [==============================] - ETA: 0s - Loss: 1.7056"
          ]
        },
        {
          "output_type": "stream",
          "name": "stderr",
          "text": [
            "WARNING:tensorflow:`evaluate()` received a value for `sample_weight`, but `weighted_metrics` were not provided.  Did you mean to pass metrics to `weighted_metrics` in `compile()`?  If this is intentional you can pass `weighted_metrics=[]` to `compile()` in order to silence this warning.\n"
          ]
        },
        {
          "output_type": "stream",
          "name": "stdout",
          "text": [
            "\b\b\b\b\b\b\b\b\b\b\b\b\b\b\b\b\b\b\b\b\b\b\b\b\b\b\b\b\b\b\b\b\b\b\b\b\b\b\b\b\b\b\b\b\b\b\b\b\b\b\b\b\b\b\b\b\b\b\b\b\b\b\b\b\b\b\b\r2343/2343 [==============================] - 1294s 552ms/step - Loss: 1.7055 - val_val_loss: 3.5586\n"
          ]
        }
      ]
    },
    {
      "cell_type": "code",
      "source": [
        "history.history['val_val_loss']"
      ],
      "metadata": {
        "colab": {
          "base_uri": "https://localhost:8080/"
        },
        "id": "6Cs655kdE8rH",
        "outputId": "2ec21168-9207-414c-8a55-af702f4d771b"
      },
      "execution_count": null,
      "outputs": [
        {
          "output_type": "execute_result",
          "data": {
            "text/plain": [
              "[4.009582042694092,\n",
              " 3.53049635887146,\n",
              " 3.347769260406494,\n",
              " 3.2935006618499756,\n",
              " 3.305041790008545,\n",
              " 3.340557098388672,\n",
              " 3.3818321228027344,\n",
              " 3.4305245876312256,\n",
              " 3.510035753250122,\n",
              " 3.5585832595825195]"
            ]
          },
          "metadata": {},
          "execution_count": 31
        }
      ]
    },
    {
      "cell_type": "code",
      "source": [
        "# Loss manual\n",
        "loss_manual = [4.6089, 3.5775, 3.0861, 2.7464, 2.4784, 2.2686, 2.0970, 1.9503, 1.8210, 1.7055]"
      ],
      "metadata": {
        "id": "Z1bqBXM8FQXR"
      },
      "execution_count": null,
      "outputs": []
    },
    {
      "cell_type": "code",
      "source": [
        "# Plot hasil latihan model\n",
        "import matplotlib.pyplot as plt\n",
        "plt.plot(loss_manual, label='latihan')\n",
        "plt.plot(history.history['val_val_loss'], label='validasi')\n",
        "plt.title('Hasil Proses Melatih Model tanpa Mekanisme Atensi')\n",
        "plt.xticks([i for i in range(10)])\n",
        "plt.xlabel('Epoch')\n",
        "plt.ylabel('Loss')\n",
        "plt.legend()\n",
        "plt.grid()\n",
        "plt.show()"
      ],
      "metadata": {
        "id": "Xxb03rRgqb4X",
        "colab": {
          "base_uri": "https://localhost:8080/",
          "height": 472
        },
        "outputId": "286700c1-7d1d-47d6-f94d-c29b5273fed4"
      },
      "execution_count": null,
      "outputs": [
        {
          "output_type": "display_data",
          "data": {
            "text/plain": [
              "<Figure size 640x480 with 1 Axes>"
            ],
            "image/png": "[encoded data removed]"
          },
          "metadata": {}
        }
      ]
    },
    {
      "cell_type": "code",
      "source": [
        "# Save encoder dan decoder\n",
        "encoder.save_weights(\"/content/drive/MyDrive/Tugas Akhir 2/Model/Model Final/encoder_weights_v6_subclassing_new_data_v3_without_attention\")\n",
        "decoder.save_weights(\"/content/drive/MyDrive/Tugas Akhir 2/Model/Model Final/decoder_weights_v6_subclassing_new_data_v3_without_attention\")"
      ],
      "metadata": {
        "id": "OQH-2yjoJEDi"
      },
      "execution_count": null,
      "outputs": []
    },
    {
      "cell_type": "code",
      "source": [
        "# Save tokenizer\n",
        "## Save article tokenizer\n",
        "article_tokenizer_json = article_tokenizer.to_json()\n",
        "with io.open('/content/drive/MyDrive/Tugas Akhir 2/Model/Tokenizer/article_tokenizer_v6_subclassing_new_data_v3_without_attention.json', 'w', encoding='utf-8') as f:\n",
        "  f.write(json.dumps(article_tokenizer_json, ensure_ascii=False))\n",
        "\n",
        "## Save title tokenizer\n",
        "title_tokenizer_json = title_tokenizer.to_json()\n",
        "with io.open('/content/drive/MyDrive/Tugas Akhir 2/Model/Tokenizer/title_tokenizer_v6_subclassing_new_data_v3_without_attention.json', 'w', encoding='utf-8') as f:\n",
        "  f.write(json.dumps(title_tokenizer_json, ensure_ascii=False))"
      ],
      "metadata": {
        "id": "hfuBfcXnJLJP"
      },
      "execution_count": null,
      "outputs": []
    },
    {
      "cell_type": "markdown",
      "source": [
        "# Load Model"
      ],
      "metadata": {
        "id": "wyLh5I5iK_lA"
      }
    },
    {
      "cell_type": "code",
      "source": [
        "# Load tokenizer\n",
        "\n",
        "# Article tokenizer\n",
        "with open('/content/drive/MyDrive/Tugas Akhir 2/Model/Tokenizer/article_tokenizer_v6_subclassing_new_data_v3_without_attention.json') as f:\n",
        "  data = json.load(f)\n",
        "  article_tokenizer = tf.keras.preprocessing.text.tokenizer_from_json(data)\n",
        "\n",
        "# Title tokenizer\n",
        "with open('/content/drive/MyDrive/Tugas Akhir 2/Model/Tokenizer/title_tokenizer_v6_subclassing_new_data_v3_without_attention.json') as f:\n",
        "  data = json.load(f)\n",
        "  title_tokenizer = tf.keras.preprocessing.text.tokenizer_from_json(data)"
      ],
      "metadata": {
        "id": "NBLVUjRJLIGG"
      },
      "execution_count": null,
      "outputs": []
    },
    {
      "cell_type": "code",
      "source": [
        "encoder = Encoder(input_dim=input_size_article, hidden_size=hidden_size, embedding_dim=embedding_dim)\n",
        "decoder = Decoder(input_dim=input_size_title, hidden_size=hidden_size, embedding_dim=embedding_dim)"
      ],
      "metadata": {
        "id": "sH4nZFkZLA2V"
      },
      "execution_count": null,
      "outputs": []
    },
    {
      "cell_type": "code",
      "source": [
        "# Load model\n",
        "encoder.load_weights('/content/drive/MyDrive/Tugas Akhir 2/Model/Model Final/encoder_weights_v6_subclassing_new_data_v3_without_attention')\n",
        "decoder.load_weights('/content/drive/MyDrive/Tugas Akhir 2/Model/Model Final/decoder_weights_v6_subclassing_new_data_v3_without_attention')"
      ],
      "metadata": {
        "colab": {
          "base_uri": "https://localhost:8080/"
        },
        "id": "4JPFJvIJLDSh",
        "outputId": "e18b58e5-cb23-4c1e-cc91-801d0d2f86bd"
      },
      "execution_count": null,
      "outputs": [
        {
          "output_type": "execute_result",
          "data": {
            "text/plain": [
              "<tensorflow.python.checkpoint.checkpoint.CheckpointLoadStatus at 0x794dd79ec8e0>"
            ]
          },
          "metadata": {},
          "execution_count": 9
        }
      ]
    },
    {
      "cell_type": "markdown",
      "source": [
        "# Melakukan prediksi"
      ],
      "metadata": {
        "id": "Ea_0TLJZqiph"
      }
    },
    {
      "cell_type": "code",
      "source": [
        "# Definisikan fungsi untuk melakukan prediksi\n",
        "\n",
        "## Fungsi ini akan menerima masukan berupa artikel berita\n",
        "## Fungsi ini akan menghasilkan keluaran berupa judul berita\n",
        "\n",
        "def generate_title_without_attention(input_text, article_tokenizer=article_tokenizer, title_tokenizer=title_tokenizer, encoder=encoder, decoder=decoder, max_title_length=15):\n",
        "  input_sequence = article_tokenizer.texts_to_sequences([input_text])\n",
        "  input_sequence = pad_sequences(input_sequence, maxlen=max_len_content, padding='post')\n",
        "\n",
        "  # Inisialisasi kata pertama untuk decoder (sebagai tanda bagi decoder untuk mulai men-generate kata demi kata penyusun judul/title)\n",
        "  current_word = '<start>'\n",
        "\n",
        "  # Inisialisasi list untuk menampung kata-kata penyusun judul/title\n",
        "  title_container = []\n",
        "\n",
        "  # Mendapatkan state final (hidden state dan cell state) dari encoder yang akan dijadikan input untuk decoder\n",
        "  hidden_state, cell_state = encoder.predict(input_sequence)\n",
        "\n",
        "  while len(title_container) < max_title_length:\n",
        "\n",
        "    # Inisialisasi vektor penampung untuk kata yang akan digunakan sebagai input untuk decoder\n",
        "    input_word = np.zeros((1,1))\n",
        "\n",
        "    # Mendapatkan index dari kata tersebut dan memasukkannnya ke dalam vektor penampung\n",
        "    input_word[0, 0] = title_tokenizer.word_index[current_word]\n",
        "\n",
        "    # Mendapatkan hasil dari decoder yang isinya\n",
        "    #   1. Distribusi peluang dari semua kata yang mungkin digunakan sebagai judul\n",
        "    #   2. Hidden State dan Cell State dari decoder\n",
        "    decoder_output, hidden_state, cell_state = decoder.predict([input_word, (hidden_state,cell_state)], verbose=None)\n",
        "\n",
        "    # Mendapatkan posisi (index) dari kata yang memiliki peluang tertinggi\n",
        "    resulting_word_index = np.argmax(decoder_output[0])\n",
        "\n",
        "    # Mendapatkan kata yang sebenarnya\n",
        "    resulting_word = title_tokenizer.index_word[resulting_word_index]\n",
        "\n",
        "    # Mengganti isi dari variabel current word dengan kata yang baru saja digenerate oleh Decoder, dan akan digunakan untuk input selanjutnya\n",
        "    current_word = resulting_word\n",
        "\n",
        "    # Jika kata yang digenerate oleh Decoder adalah \"__end__\", maka hal ini menandakan bahwa proses generate title sudah selesai\n",
        "    if current_word == '<end>':\n",
        "      break\n",
        "\n",
        "    title_container.append(resulting_word)\n",
        "\n",
        "  return \" \".join(title_container)"
      ],
      "metadata": {
        "id": "kdQ39qdyqj0x"
      },
      "execution_count": null,
      "outputs": []
    },
    {
      "cell_type": "code",
      "source": [
        "df_test['content_html'].iloc[0]"
      ],
      "metadata": {
        "colab": {
          "base_uri": "https://localhost:8080/",
          "height": 123
        },
        "id": "IruuTl4keG8j",
        "outputId": "2648ae9d-0fa6-4683-a3f1-de2dd6eab56e"
      },
      "execution_count": null,
      "outputs": [
        {
          "output_type": "execute_result",
          "data": {
            "text/plain": [
              "'kapolda metro jaya irjen mochamad iriawan memantau langsung ke beberapa titik pusat perayaan tahun baru di jakarta, sabtu . menggunakan sepeda motor trail, iriawan ditemani anaknya yang masih kecil. anak iriawan terlihat membonceng, mengenakan seragam brimob hitam dan menggunakan helm hitam. saya mau memantau langsung ya acara pergantian tahun naik motor ya. mau ke thamrin, monas, kota tua, dan terakhir ke ancol. karena pusatnya kan di sana, ujar iriawan. tanpa menggunakan jaket, iriawan dan putranya berangkat dari polda metro jaya dikawal sejumlah anggota kepolisian untuk mengawal menggunakan motor trail. ia mengatakan, hingga saat ini situasi masih terpantau aman dan kondusif. ia mengucapkan selamat tahun baru kepada masyarakat dan meminta masyarakat untuk bersenang senang menikmati pergantian tahun. sepanjang situasi yang ada, alhamdulillah aman, ujar iriawan'"
            ],
            "application/vnd.google.colaboratory.intrinsic+json": {
              "type": "string"
            }
          },
          "metadata": {},
          "execution_count": 34
        }
      ]
    },
    {
      "cell_type": "code",
      "source": [
        "generate_title_without_attention(df_test['content_html'].iloc[0])"
      ],
      "metadata": {
        "colab": {
          "base_uri": "https://localhost:8080/",
          "height": 53
        },
        "id": "MdSZ_btneR2t",
        "outputId": "c32905f9-4e5d-4eb9-d3af-ce6d80cc4822"
      },
      "execution_count": null,
      "outputs": [
        {
          "output_type": "stream",
          "name": "stdout",
          "text": [
            "1/1 [==============================] - 0s 244ms/step\n"
          ]
        },
        {
          "output_type": "execute_result",
          "data": {
            "text/plain": [
              "'kapolda metro jaya foto foto motor yang jatuh di jlnt casablanca'"
            ],
            "application/vnd.google.colaboratory.intrinsic+json": {
              "type": "string"
            }
          },
          "metadata": {},
          "execution_count": 35
        }
      ]
    },
    {
      "cell_type": "code",
      "source": [
        "df_test['content_html'].iloc[18]"
      ],
      "metadata": {
        "colab": {
          "base_uri": "https://localhost:8080/",
          "height": 192
        },
        "id": "nanUIwPqfmtn",
        "outputId": "06b1c8fc-42f9-436f-f1c4-770631ddebed"
      },
      "execution_count": null,
      "outputs": [
        {
          "output_type": "execute_result",
          "data": {
            "text/plain": [
              "'banyak sampah berserakan usai perayaan malam pergantian tahun sejumlah tempat di ibu kota. menurut kadis kebersihan dki jakarta isnawa adji, total sampah diperkirakan mencapai 225 ton. mulai pukul 00.30 wib sebanyak 6000 phl pasukan oranye dinas kebersihan langsung melakukan giat pembersihan sampah di semua jalur dan titik konsentrasi massa di malam pergantian tahun baru 2017. total sampah yang berhasil dibersihkan capai 225 ton, ujar isnawa saat dihubungi detikcom, minggu . foto dok. dinas kebersihan dki jakarta isnawa menjelaskan, sebanyak 70 truk pengangkut sampah dan truk compactor telah dikerahkan untuk mengangkut sampah sampah yang berserakan usai perayaan akhir tahun itu. beberapa yang menjadi fokus pembersihan di antaranya bundaran hi, medan merdeka, patung tani, kemayoran, gelora bung karno, monas, kawasan kota tua, imam bonjol, cikini, kembangan sampai taman mini. bahkan kita sudah kerahkan 40 road sweeper, 200 gerobak motor serta 30 pick up lintas untuk mengangkut sampah, jelas isnawa. isnawa menargetkan pembersihan sampah di jakarta bisa selesai sebelum pukul 7.00 wib pagi. sampah sampah itu nantinya akan dibuang ke bantargebang. target pembersihan selesai jam 06.00 wib atau sebelum jam 07.00 wib pagi dan jakarta sudah bersih kembali. sisa sisa sampah anorganik nantinya dibuang ke bantargebang atau disalurkan ke bank bank sampah, pungkasnya'"
            ],
            "application/vnd.google.colaboratory.intrinsic+json": {
              "type": "string"
            }
          },
          "metadata": {},
          "execution_count": 37
        }
      ]
    },
    {
      "cell_type": "code",
      "source": [
        "df_test['title'].iloc[18]"
      ],
      "metadata": {
        "colab": {
          "base_uri": "https://localhost:8080/",
          "height": 36
        },
        "id": "vtzFVn2Zf0B3",
        "outputId": "5239e6d0-3774-4b97-ea48-4b19c2bdee67"
      },
      "execution_count": null,
      "outputs": [
        {
          "output_type": "execute_result",
          "data": {
            "text/plain": [
              "'<start> usai malam tahun baru, sampah di jakarta capai 225 ton <end>'"
            ],
            "application/vnd.google.colaboratory.intrinsic+json": {
              "type": "string"
            }
          },
          "metadata": {},
          "execution_count": 38
        }
      ]
    },
    {
      "cell_type": "code",
      "source": [
        "generate_title_without_attention(df_test['content_html'].iloc[18])"
      ],
      "metadata": {
        "colab": {
          "base_uri": "https://localhost:8080/",
          "height": 53
        },
        "id": "v3yNx0uXeXH-",
        "outputId": "f2b0ed53-bb02-4d50-a0eb-cf135f3aefb3"
      },
      "execution_count": null,
      "outputs": [
        {
          "output_type": "stream",
          "name": "stdout",
          "text": [
            "1/1 [==============================] - 0s 426ms/step\n"
          ]
        },
        {
          "output_type": "execute_result",
          "data": {
            "text/plain": [
              "'sampah di jakarta timur jebol, pasukan oranye diturunkan'"
            ],
            "application/vnd.google.colaboratory.intrinsic+json": {
              "type": "string"
            }
          },
          "metadata": {},
          "execution_count": 36
        }
      ]
    },
    {
      "cell_type": "code",
      "source": [
        "sample_for_prediction = df_test.sample(1000, random_state=0)"
      ],
      "metadata": {
        "id": "L0qJ3MAUfkKG"
      },
      "execution_count": null,
      "outputs": []
    },
    {
      "cell_type": "code",
      "source": [
        "sample_for_prediction['title_wo_attention'] = sample_for_prediction['content_html'].apply(lambda row: generate_title_without_attention(row))"
      ],
      "metadata": {
        "colab": {
          "base_uri": "https://localhost:8080/"
        },
        "id": "s2IPLJORgJR2",
        "outputId": "5048c06f-7f6a-4a71-bb1c-6b2ff6796af1"
      },
      "execution_count": null,
      "outputs": [
        {
          "output_type": "stream",
          "name": "stdout",
          "text": [
            "1/1 [==============================] - 1s 614ms/step\n",
            "1/1 [==============================] - 1s 623ms/step\n",
            "1/1 [==============================] - 0s 270ms/step\n",
            "1/1 [==============================] - 0s 247ms/step\n",
            "1/1 [==============================] - 0s 257ms/step\n",
            "1/1 [==============================] - 0s 253ms/step\n",
            "1/1 [==============================] - 0s 276ms/step\n",
            "1/1 [==============================] - 0s 266ms/step\n",
            "1/1 [==============================] - 0s 259ms/step\n",
            "1/1 [==============================] - 0s 265ms/step\n",
            "1/1 [==============================] - 0s 249ms/step\n",
            "1/1 [==============================] - 0s 384ms/step\n",
            "1/1 [==============================] - 0s 381ms/step\n",
            "1/1 [==============================] - 0s 422ms/step\n",
            "1/1 [==============================] - 0s 254ms/step\n",
            "1/1 [==============================] - 0s 248ms/step\n",
            "1/1 [==============================] - 0s 246ms/step\n",
            "1/1 [==============================] - 0s 249ms/step\n",
            "1/1 [==============================] - 0s 249ms/step\n",
            "1/1 [==============================] - 0s 247ms/step\n",
            "1/1 [==============================] - 0s 241ms/step\n",
            "1/1 [==============================] - 0s 254ms/step\n",
            "1/1 [==============================] - 0s 348ms/step\n",
            "1/1 [==============================] - 0s 389ms/step\n",
            "1/1 [==============================] - 0s 407ms/step\n",
            "1/1 [==============================] - 0s 254ms/step\n",
            "1/1 [==============================] - 0s 248ms/step\n",
            "1/1 [==============================] - 0s 247ms/step\n",
            "1/1 [==============================] - 0s 245ms/step\n",
            "1/1 [==============================] - 0s 263ms/step\n",
            "1/1 [==============================] - 0s 260ms/step\n",
            "1/1 [==============================] - 0s 244ms/step\n",
            "1/1 [==============================] - 0s 252ms/step\n",
            "1/1 [==============================] - 0s 412ms/step\n",
            "1/1 [==============================] - 0s 403ms/step\n",
            "1/1 [==============================] - 0s 427ms/step\n",
            "1/1 [==============================] - 0s 313ms/step\n",
            "1/1 [==============================] - 0s 260ms/step\n",
            "1/1 [==============================] - 0s 253ms/step\n",
            "1/1 [==============================] - 0s 254ms/step\n",
            "1/1 [==============================] - 0s 249ms/step\n",
            "1/1 [==============================] - 0s 248ms/step\n",
            "1/1 [==============================] - 0s 255ms/step\n",
            "1/1 [==============================] - 0s 253ms/step\n",
            "1/1 [==============================] - 0s 255ms/step\n",
            "1/1 [==============================] - 0s 395ms/step\n",
            "1/1 [==============================] - 0s 398ms/step\n",
            "1/1 [==============================] - 0s 383ms/step\n",
            "1/1 [==============================] - 0s 392ms/step\n",
            "1/1 [==============================] - 0s 254ms/step\n",
            "1/1 [==============================] - 0s 246ms/step\n",
            "1/1 [==============================] - 0s 249ms/step\n",
            "1/1 [==============================] - 0s 243ms/step\n",
            "1/1 [==============================] - 0s 256ms/step\n",
            "1/1 [==============================] - 0s 260ms/step\n",
            "1/1 [==============================] - 0s 254ms/step\n",
            "1/1 [==============================] - 0s 249ms/step\n",
            "1/1 [==============================] - 0s 395ms/step\n",
            "1/1 [==============================] - 0s 387ms/step\n",
            "1/1 [==============================] - 0s 435ms/step\n",
            "1/1 [==============================] - 0s 249ms/step\n",
            "1/1 [==============================] - 0s 238ms/step\n",
            "1/1 [==============================] - 0s 248ms/step\n",
            "1/1 [==============================] - 0s 248ms/step\n",
            "1/1 [==============================] - 0s 272ms/step\n",
            "1/1 [==============================] - 0s 252ms/step\n",
            "1/1 [==============================] - 0s 262ms/step\n",
            "1/1 [==============================] - 0s 253ms/step\n",
            "1/1 [==============================] - 0s 411ms/step\n",
            "1/1 [==============================] - 2s 2s/step\n",
            "1/1 [==============================] - 0s 267ms/step\n",
            "1/1 [==============================] - 0s 251ms/step\n",
            "1/1 [==============================] - 0s 255ms/step\n",
            "1/1 [==============================] - 0s 246ms/step\n",
            "1/1 [==============================] - 0s 259ms/step\n",
            "1/1 [==============================] - 0s 268ms/step\n",
            "1/1 [==============================] - 0s 256ms/step\n",
            "1/1 [==============================] - 0s 248ms/step\n",
            "1/1 [==============================] - 0s 417ms/step\n",
            "1/1 [==============================] - 0s 391ms/step\n",
            "1/1 [==============================] - 0s 431ms/step\n",
            "1/1 [==============================] - 0s 256ms/step\n",
            "1/1 [==============================] - 0s 262ms/step\n",
            "1/1 [==============================] - 0s 246ms/step\n",
            "1/1 [==============================] - 0s 247ms/step\n",
            "1/1 [==============================] - 0s 262ms/step\n",
            "1/1 [==============================] - 0s 244ms/step\n",
            "1/1 [==============================] - 0s 253ms/step\n",
            "1/1 [==============================] - 0s 259ms/step\n",
            "1/1 [==============================] - 0s 351ms/step\n",
            "1/1 [==============================] - 0s 385ms/step\n",
            "1/1 [==============================] - 0s 403ms/step\n",
            "1/1 [==============================] - 0s 406ms/step\n",
            "1/1 [==============================] - 0s 259ms/step\n",
            "1/1 [==============================] - 0s 251ms/step\n",
            "1/1 [==============================] - 0s 265ms/step\n",
            "1/1 [==============================] - 0s 266ms/step\n",
            "1/1 [==============================] - 0s 257ms/step\n",
            "1/1 [==============================] - 0s 251ms/step\n",
            "1/1 [==============================] - 0s 252ms/step\n",
            "1/1 [==============================] - 0s 275ms/step\n",
            "1/1 [==============================] - 0s 405ms/step\n",
            "1/1 [==============================] - 0s 422ms/step\n",
            "1/1 [==============================] - 0s 425ms/step\n",
            "1/1 [==============================] - 0s 274ms/step\n",
            "1/1 [==============================] - 0s 253ms/step\n",
            "1/1 [==============================] - 0s 246ms/step\n",
            "1/1 [==============================] - 0s 293ms/step\n",
            "1/1 [==============================] - 0s 270ms/step\n",
            "1/1 [==============================] - 0s 259ms/step\n",
            "1/1 [==============================] - 0s 257ms/step\n",
            "1/1 [==============================] - 0s 242ms/step\n",
            "1/1 [==============================] - 0s 398ms/step\n",
            "1/1 [==============================] - 0s 415ms/step\n",
            "1/1 [==============================] - 0s 248ms/step\n",
            "1/1 [==============================] - 0s 244ms/step\n",
            "1/1 [==============================] - 0s 255ms/step\n",
            "1/1 [==============================] - 0s 261ms/step\n",
            "1/1 [==============================] - 0s 252ms/step\n",
            "1/1 [==============================] - 0s 239ms/step\n",
            "1/1 [==============================] - 0s 261ms/step\n",
            "1/1 [==============================] - 0s 251ms/step\n",
            "1/1 [==============================] - 0s 387ms/step\n",
            "1/1 [==============================] - 0s 385ms/step\n",
            "1/1 [==============================] - 0s 448ms/step\n",
            "1/1 [==============================] - 0s 257ms/step\n",
            "1/1 [==============================] - 0s 249ms/step\n",
            "1/1 [==============================] - 0s 249ms/step\n",
            "1/1 [==============================] - 0s 238ms/step\n",
            "1/1 [==============================] - 0s 251ms/step\n",
            "1/1 [==============================] - 0s 253ms/step\n",
            "1/1 [==============================] - 0s 254ms/step\n",
            "1/1 [==============================] - 0s 259ms/step\n",
            "1/1 [==============================] - 0s 311ms/step\n",
            "1/1 [==============================] - 0s 383ms/step\n",
            "1/1 [==============================] - 0s 393ms/step\n",
            "1/1 [==============================] - 0s 423ms/step\n",
            "1/1 [==============================] - 0s 251ms/step\n",
            "1/1 [==============================] - 0s 244ms/step\n",
            "1/1 [==============================] - 0s 259ms/step\n",
            "1/1 [==============================] - 0s 268ms/step\n",
            "1/1 [==============================] - 0s 248ms/step\n",
            "1/1 [==============================] - 0s 238ms/step\n",
            "1/1 [==============================] - 0s 253ms/step\n",
            "1/1 [==============================] - 0s 241ms/step\n",
            "1/1 [==============================] - 0s 248ms/step\n",
            "1/1 [==============================] - 0s 387ms/step\n",
            "1/1 [==============================] - 0s 399ms/step\n",
            "1/1 [==============================] - 0s 427ms/step\n",
            "1/1 [==============================] - 0s 254ms/step\n",
            "1/1 [==============================] - 0s 251ms/step\n",
            "1/1 [==============================] - 0s 259ms/step\n",
            "1/1 [==============================] - 0s 279ms/step\n",
            "1/1 [==============================] - 0s 241ms/step\n",
            "1/1 [==============================] - 0s 243ms/step\n",
            "1/1 [==============================] - 0s 247ms/step\n",
            "1/1 [==============================] - 0s 248ms/step\n",
            "1/1 [==============================] - 0s 354ms/step\n",
            "1/1 [==============================] - 0s 401ms/step\n",
            "1/1 [==============================] - 0s 393ms/step\n",
            "1/1 [==============================] - 0s 386ms/step\n",
            "1/1 [==============================] - 0s 262ms/step\n",
            "1/1 [==============================] - 0s 244ms/step\n",
            "1/1 [==============================] - 0s 258ms/step\n",
            "1/1 [==============================] - 0s 249ms/step\n",
            "1/1 [==============================] - 0s 243ms/step\n",
            "1/1 [==============================] - 0s 249ms/step\n",
            "1/1 [==============================] - 0s 244ms/step\n",
            "1/1 [==============================] - 0s 248ms/step\n",
            "1/1 [==============================] - 0s 392ms/step\n",
            "1/1 [==============================] - 0s 405ms/step\n",
            "1/1 [==============================] - 0s 399ms/step\n",
            "1/1 [==============================] - 0s 249ms/step\n",
            "1/1 [==============================] - 0s 283ms/step\n",
            "1/1 [==============================] - 0s 267ms/step\n",
            "1/1 [==============================] - 0s 255ms/step\n",
            "1/1 [==============================] - 0s 248ms/step\n",
            "1/1 [==============================] - 0s 247ms/step\n",
            "1/1 [==============================] - 0s 275ms/step\n",
            "1/1 [==============================] - 0s 252ms/step\n",
            "1/1 [==============================] - 0s 320ms/step\n",
            "1/1 [==============================] - 0s 370ms/step\n",
            "1/1 [==============================] - 0s 420ms/step\n",
            "1/1 [==============================] - 0s 436ms/step\n",
            "1/1 [==============================] - 0s 259ms/step\n",
            "1/1 [==============================] - 0s 260ms/step\n",
            "1/1 [==============================] - 0s 251ms/step\n",
            "1/1 [==============================] - 0s 247ms/step\n",
            "1/1 [==============================] - 0s 273ms/step\n",
            "1/1 [==============================] - 0s 251ms/step\n",
            "1/1 [==============================] - 0s 258ms/step\n",
            "1/1 [==============================] - 0s 240ms/step\n",
            "1/1 [==============================] - 0s 383ms/step\n",
            "1/1 [==============================] - 0s 415ms/step\n",
            "1/1 [==============================] - 0s 381ms/step\n",
            "1/1 [==============================] - 0s 328ms/step\n",
            "1/1 [==============================] - 0s 256ms/step\n",
            "1/1 [==============================] - 0s 253ms/step\n",
            "1/1 [==============================] - 0s 255ms/step\n",
            "1/1 [==============================] - 0s 262ms/step\n",
            "1/1 [==============================] - 0s 256ms/step\n",
            "1/1 [==============================] - 0s 262ms/step\n",
            "1/1 [==============================] - 0s 424ms/step\n",
            "1/1 [==============================] - 0s 423ms/step\n",
            "1/1 [==============================] - 0s 410ms/step\n",
            "1/1 [==============================] - 0s 372ms/step\n",
            "1/1 [==============================] - 0s 260ms/step\n",
            "1/1 [==============================] - 0s 248ms/step\n",
            "1/1 [==============================] - 0s 243ms/step\n",
            "1/1 [==============================] - 0s 273ms/step\n",
            "1/1 [==============================] - 0s 252ms/step\n",
            "1/1 [==============================] - 0s 247ms/step\n",
            "1/1 [==============================] - 0s 243ms/step\n",
            "1/1 [==============================] - 0s 423ms/step\n",
            "1/1 [==============================] - 0s 407ms/step\n",
            "1/1 [==============================] - 0s 432ms/step\n",
            "1/1 [==============================] - 0s 265ms/step\n",
            "1/1 [==============================] - 0s 254ms/step\n",
            "1/1 [==============================] - 0s 254ms/step\n",
            "1/1 [==============================] - 0s 249ms/step\n",
            "1/1 [==============================] - 0s 252ms/step\n",
            "1/1 [==============================] - 0s 263ms/step\n",
            "1/1 [==============================] - 0s 255ms/step\n",
            "1/1 [==============================] - 0s 264ms/step\n",
            "1/1 [==============================] - 0s 259ms/step\n",
            "1/1 [==============================] - 0s 398ms/step\n",
            "1/1 [==============================] - 0s 396ms/step\n",
            "1/1 [==============================] - 0s 421ms/step\n",
            "1/1 [==============================] - 0s 249ms/step\n",
            "1/1 [==============================] - 0s 258ms/step\n",
            "1/1 [==============================] - 0s 243ms/step\n",
            "1/1 [==============================] - 0s 242ms/step\n",
            "1/1 [==============================] - 0s 243ms/step\n",
            "1/1 [==============================] - 0s 245ms/step\n",
            "1/1 [==============================] - 0s 257ms/step\n",
            "1/1 [==============================] - 0s 263ms/step\n",
            "1/1 [==============================] - 0s 282ms/step\n",
            "1/1 [==============================] - 0s 422ms/step\n",
            "1/1 [==============================] - 0s 402ms/step\n",
            "1/1 [==============================] - 0s 398ms/step\n",
            "1/1 [==============================] - 0s 243ms/step\n",
            "1/1 [==============================] - 0s 246ms/step\n",
            "1/1 [==============================] - 0s 252ms/step\n",
            "1/1 [==============================] - 0s 245ms/step\n",
            "1/1 [==============================] - 0s 246ms/step\n",
            "1/1 [==============================] - 0s 240ms/step\n",
            "1/1 [==============================] - 0s 253ms/step\n",
            "1/1 [==============================] - 0s 249ms/step\n",
            "1/1 [==============================] - 0s 402ms/step\n",
            "1/1 [==============================] - 0s 391ms/step\n",
            "1/1 [==============================] - 0s 421ms/step\n",
            "1/1 [==============================] - 0s 262ms/step\n",
            "1/1 [==============================] - 0s 260ms/step\n",
            "1/1 [==============================] - 0s 260ms/step\n",
            "1/1 [==============================] - 0s 266ms/step\n",
            "1/1 [==============================] - 0s 259ms/step\n",
            "1/1 [==============================] - 0s 258ms/step\n",
            "1/1 [==============================] - 0s 249ms/step\n",
            "1/1 [==============================] - 0s 248ms/step\n",
            "1/1 [==============================] - 0s 250ms/step\n",
            "1/1 [==============================] - 0s 405ms/step\n",
            "1/1 [==============================] - 0s 393ms/step\n",
            "1/1 [==============================] - 0s 462ms/step\n",
            "1/1 [==============================] - 0s 235ms/step\n",
            "1/1 [==============================] - 0s 250ms/step\n",
            "1/1 [==============================] - 0s 253ms/step\n",
            "1/1 [==============================] - 0s 243ms/step\n",
            "1/1 [==============================] - 0s 257ms/step\n",
            "1/1 [==============================] - 0s 250ms/step\n",
            "1/1 [==============================] - 0s 248ms/step\n",
            "1/1 [==============================] - 0s 237ms/step\n",
            "1/1 [==============================] - 0s 245ms/step\n",
            "1/1 [==============================] - 0s 377ms/step\n",
            "1/1 [==============================] - 0s 392ms/step\n",
            "1/1 [==============================] - 0s 419ms/step\n",
            "1/1 [==============================] - 0s 249ms/step\n",
            "1/1 [==============================] - 0s 245ms/step\n",
            "1/1 [==============================] - 0s 241ms/step\n",
            "1/1 [==============================] - 0s 248ms/step\n",
            "1/1 [==============================] - 0s 249ms/step\n",
            "1/1 [==============================] - 0s 236ms/step\n",
            "1/1 [==============================] - 0s 245ms/step\n",
            "1/1 [==============================] - 0s 259ms/step\n",
            "1/1 [==============================] - 0s 385ms/step\n",
            "1/1 [==============================] - 0s 420ms/step\n",
            "1/1 [==============================] - 0s 398ms/step\n",
            "1/1 [==============================] - 0s 248ms/step\n",
            "1/1 [==============================] - 0s 247ms/step\n",
            "1/1 [==============================] - 0s 244ms/step\n",
            "1/1 [==============================] - 0s 249ms/step\n",
            "1/1 [==============================] - 0s 256ms/step\n",
            "1/1 [==============================] - 0s 264ms/step\n",
            "1/1 [==============================] - 0s 256ms/step\n",
            "1/1 [==============================] - 0s 264ms/step\n",
            "1/1 [==============================] - 0s 244ms/step\n",
            "1/1 [==============================] - 0s 468ms/step\n",
            "1/1 [==============================] - 0s 272ms/step\n",
            "1/1 [==============================] - 0s 299ms/step\n",
            "1/1 [==============================] - 0s 256ms/step\n",
            "1/1 [==============================] - 0s 251ms/step\n",
            "1/1 [==============================] - 0s 263ms/step\n",
            "1/1 [==============================] - 0s 266ms/step\n",
            "1/1 [==============================] - 0s 266ms/step\n",
            "1/1 [==============================] - 0s 416ms/step\n",
            "1/1 [==============================] - 0s 371ms/step\n",
            "1/1 [==============================] - 0s 392ms/step\n",
            "1/1 [==============================] - 0s 256ms/step\n",
            "1/1 [==============================] - 0s 267ms/step\n",
            "1/1 [==============================] - 0s 257ms/step\n",
            "1/1 [==============================] - 0s 252ms/step\n",
            "1/1 [==============================] - 0s 236ms/step\n",
            "1/1 [==============================] - 0s 241ms/step\n",
            "1/1 [==============================] - 0s 251ms/step\n",
            "1/1 [==============================] - 0s 241ms/step\n",
            "1/1 [==============================] - 0s 247ms/step\n",
            "1/1 [==============================] - 0s 408ms/step\n",
            "1/1 [==============================] - 0s 394ms/step\n",
            "1/1 [==============================] - 0s 434ms/step\n",
            "1/1 [==============================] - 0s 238ms/step\n",
            "1/1 [==============================] - 0s 250ms/step\n",
            "1/1 [==============================] - 0s 261ms/step\n",
            "1/1 [==============================] - 0s 244ms/step\n",
            "1/1 [==============================] - 0s 247ms/step\n",
            "1/1 [==============================] - 0s 264ms/step\n",
            "1/1 [==============================] - 0s 249ms/step\n",
            "1/1 [==============================] - 0s 262ms/step\n",
            "1/1 [==============================] - 0s 251ms/step\n",
            "1/1 [==============================] - 0s 396ms/step\n",
            "1/1 [==============================] - 0s 399ms/step\n",
            "1/1 [==============================] - 0s 411ms/step\n",
            "1/1 [==============================] - 0s 244ms/step\n",
            "1/1 [==============================] - 0s 249ms/step\n",
            "1/1 [==============================] - 0s 266ms/step\n",
            "1/1 [==============================] - 0s 262ms/step\n",
            "1/1 [==============================] - 0s 258ms/step\n",
            "1/1 [==============================] - 0s 265ms/step\n",
            "1/1 [==============================] - 0s 250ms/step\n",
            "1/1 [==============================] - 0s 247ms/step\n",
            "1/1 [==============================] - 0s 246ms/step\n",
            "1/1 [==============================] - 0s 405ms/step\n",
            "1/1 [==============================] - 0s 407ms/step\n",
            "1/1 [==============================] - 0s 419ms/step\n",
            "1/1 [==============================] - 0s 261ms/step\n",
            "1/1 [==============================] - 0s 248ms/step\n",
            "1/1 [==============================] - 0s 246ms/step\n",
            "1/1 [==============================] - 0s 244ms/step\n",
            "1/1 [==============================] - 0s 261ms/step\n",
            "1/1 [==============================] - 0s 258ms/step\n",
            "1/1 [==============================] - 0s 246ms/step\n",
            "1/1 [==============================] - 0s 237ms/step\n",
            "1/1 [==============================] - 0s 409ms/step\n",
            "1/1 [==============================] - 0s 382ms/step\n",
            "1/1 [==============================] - 0s 367ms/step\n",
            "1/1 [==============================] - 0s 386ms/step\n",
            "1/1 [==============================] - 0s 257ms/step\n",
            "1/1 [==============================] - 0s 265ms/step\n",
            "1/1 [==============================] - 0s 243ms/step\n",
            "1/1 [==============================] - 0s 247ms/step\n",
            "1/1 [==============================] - 0s 245ms/step\n",
            "1/1 [==============================] - 0s 254ms/step\n",
            "1/1 [==============================] - 0s 245ms/step\n",
            "1/1 [==============================] - 0s 254ms/step\n",
            "1/1 [==============================] - 0s 384ms/step\n",
            "1/1 [==============================] - 0s 412ms/step\n",
            "1/1 [==============================] - 0s 248ms/step\n",
            "1/1 [==============================] - 0s 263ms/step\n",
            "1/1 [==============================] - 0s 247ms/step\n",
            "1/1 [==============================] - 0s 260ms/step\n",
            "1/1 [==============================] - 0s 256ms/step\n",
            "1/1 [==============================] - 0s 247ms/step\n",
            "1/1 [==============================] - 0s 239ms/step\n",
            "1/1 [==============================] - 0s 325ms/step\n",
            "1/1 [==============================] - 0s 245ms/step\n",
            "1/1 [==============================] - 0s 396ms/step\n",
            "1/1 [==============================] - 0s 404ms/step\n",
            "1/1 [==============================] - 0s 444ms/step\n",
            "1/1 [==============================] - 0s 254ms/step\n",
            "1/1 [==============================] - 0s 246ms/step\n",
            "1/1 [==============================] - 0s 261ms/step\n",
            "1/1 [==============================] - 0s 256ms/step\n",
            "1/1 [==============================] - 0s 245ms/step\n",
            "1/1 [==============================] - 0s 243ms/step\n",
            "1/1 [==============================] - 0s 257ms/step\n",
            "1/1 [==============================] - 0s 251ms/step\n",
            "1/1 [==============================] - 0s 381ms/step\n",
            "1/1 [==============================] - 0s 385ms/step\n",
            "1/1 [==============================] - 0s 426ms/step\n",
            "1/1 [==============================] - 0s 262ms/step\n",
            "1/1 [==============================] - 0s 247ms/step\n",
            "1/1 [==============================] - 0s 251ms/step\n",
            "1/1 [==============================] - 0s 247ms/step\n",
            "1/1 [==============================] - 0s 260ms/step\n",
            "1/1 [==============================] - 0s 259ms/step\n",
            "1/1 [==============================] - 1s 664ms/step\n",
            "1/1 [==============================] - 0s 249ms/step\n",
            "1/1 [==============================] - 0s 415ms/step\n",
            "1/1 [==============================] - 0s 389ms/step\n",
            "1/1 [==============================] - 0s 307ms/step\n",
            "1/1 [==============================] - 0s 261ms/step\n",
            "1/1 [==============================] - 0s 258ms/step\n",
            "1/1 [==============================] - 0s 275ms/step\n",
            "1/1 [==============================] - 0s 257ms/step\n",
            "1/1 [==============================] - 0s 261ms/step\n",
            "1/1 [==============================] - 0s 253ms/step\n",
            "1/1 [==============================] - 0s 281ms/step\n",
            "1/1 [==============================] - 0s 396ms/step\n",
            "1/1 [==============================] - 0s 405ms/step\n",
            "1/1 [==============================] - 0s 443ms/step\n",
            "1/1 [==============================] - 0s 249ms/step\n",
            "1/1 [==============================] - 0s 250ms/step\n",
            "1/1 [==============================] - 0s 237ms/step\n",
            "1/1 [==============================] - 0s 264ms/step\n",
            "1/1 [==============================] - 0s 271ms/step\n",
            "1/1 [==============================] - 0s 258ms/step\n",
            "1/1 [==============================] - 0s 242ms/step\n",
            "1/1 [==============================] - 0s 249ms/step\n",
            "1/1 [==============================] - 0s 371ms/step\n",
            "1/1 [==============================] - 0s 402ms/step\n",
            "1/1 [==============================] - 0s 387ms/step\n",
            "1/1 [==============================] - 0s 391ms/step\n",
            "1/1 [==============================] - 0s 267ms/step\n",
            "1/1 [==============================] - 0s 253ms/step\n",
            "1/1 [==============================] - 0s 250ms/step\n",
            "1/1 [==============================] - 0s 250ms/step\n",
            "1/1 [==============================] - 0s 249ms/step\n",
            "1/1 [==============================] - 0s 255ms/step\n",
            "1/1 [==============================] - 0s 249ms/step\n",
            "1/1 [==============================] - 0s 239ms/step\n",
            "1/1 [==============================] - 0s 379ms/step\n",
            "1/1 [==============================] - 0s 384ms/step\n",
            "1/1 [==============================] - 0s 426ms/step\n",
            "1/1 [==============================] - 0s 235ms/step\n",
            "1/1 [==============================] - 0s 248ms/step\n",
            "1/1 [==============================] - 0s 247ms/step\n",
            "1/1 [==============================] - 0s 252ms/step\n",
            "1/1 [==============================] - 0s 268ms/step\n",
            "1/1 [==============================] - 0s 253ms/step\n",
            "1/1 [==============================] - 0s 256ms/step\n",
            "1/1 [==============================] - 0s 249ms/step\n",
            "1/1 [==============================] - 0s 404ms/step\n",
            "1/1 [==============================] - 0s 399ms/step\n",
            "1/1 [==============================] - 0s 402ms/step\n",
            "1/1 [==============================] - 0s 246ms/step\n",
            "1/1 [==============================] - 0s 255ms/step\n",
            "1/1 [==============================] - 0s 250ms/step\n",
            "1/1 [==============================] - 0s 255ms/step\n",
            "1/1 [==============================] - 0s 249ms/step\n",
            "1/1 [==============================] - 0s 252ms/step\n",
            "1/1 [==============================] - 0s 250ms/step\n",
            "1/1 [==============================] - 0s 346ms/step\n",
            "1/1 [==============================] - 0s 411ms/step\n",
            "1/1 [==============================] - 0s 409ms/step\n",
            "1/1 [==============================] - 0s 272ms/step\n",
            "1/1 [==============================] - 0s 253ms/step\n",
            "1/1 [==============================] - 0s 261ms/step\n",
            "1/1 [==============================] - 0s 253ms/step\n",
            "1/1 [==============================] - 0s 262ms/step\n",
            "1/1 [==============================] - 0s 245ms/step\n",
            "1/1 [==============================] - 0s 248ms/step\n",
            "1/1 [==============================] - 0s 260ms/step\n",
            "1/1 [==============================] - 0s 249ms/step\n",
            "1/1 [==============================] - 0s 392ms/step\n",
            "1/1 [==============================] - 0s 397ms/step\n",
            "1/1 [==============================] - 0s 452ms/step\n",
            "1/1 [==============================] - 0s 258ms/step\n",
            "1/1 [==============================] - 0s 248ms/step\n",
            "1/1 [==============================] - 0s 246ms/step\n",
            "1/1 [==============================] - 0s 247ms/step\n",
            "1/1 [==============================] - 0s 263ms/step\n",
            "1/1 [==============================] - 0s 264ms/step\n",
            "1/1 [==============================] - 0s 271ms/step\n",
            "1/1 [==============================] - 0s 271ms/step\n",
            "1/1 [==============================] - 0s 249ms/step\n",
            "1/1 [==============================] - 0s 412ms/step\n",
            "1/1 [==============================] - 0s 422ms/step\n",
            "1/1 [==============================] - 0s 422ms/step\n",
            "1/1 [==============================] - 0s 260ms/step\n",
            "1/1 [==============================] - 0s 250ms/step\n",
            "1/1 [==============================] - 0s 245ms/step\n",
            "1/1 [==============================] - 0s 249ms/step\n",
            "1/1 [==============================] - 0s 252ms/step\n",
            "1/1 [==============================] - 0s 248ms/step\n",
            "1/1 [==============================] - 0s 263ms/step\n",
            "1/1 [==============================] - 0s 266ms/step\n",
            "1/1 [==============================] - 0s 244ms/step\n",
            "1/1 [==============================] - 0s 409ms/step\n",
            "1/1 [==============================] - 0s 417ms/step\n",
            "1/1 [==============================] - 0s 469ms/step\n",
            "1/1 [==============================] - 0s 248ms/step\n",
            "1/1 [==============================] - 0s 250ms/step\n",
            "1/1 [==============================] - 0s 257ms/step\n",
            "1/1 [==============================] - 0s 263ms/step\n",
            "1/1 [==============================] - 0s 240ms/step\n",
            "1/1 [==============================] - 0s 261ms/step\n",
            "1/1 [==============================] - 0s 263ms/step\n",
            "1/1 [==============================] - 0s 418ms/step\n",
            "1/1 [==============================] - 0s 445ms/step\n",
            "1/1 [==============================] - 0s 329ms/step\n",
            "1/1 [==============================] - 0s 259ms/step\n",
            "1/1 [==============================] - 0s 272ms/step\n",
            "1/1 [==============================] - 0s 295ms/step\n",
            "1/1 [==============================] - 0s 266ms/step\n",
            "1/1 [==============================] - 0s 249ms/step\n",
            "1/1 [==============================] - 0s 266ms/step\n",
            "1/1 [==============================] - 0s 404ms/step\n",
            "1/1 [==============================] - 0s 401ms/step\n",
            "1/1 [==============================] - 0s 464ms/step\n",
            "1/1 [==============================] - 0s 252ms/step\n",
            "1/1 [==============================] - 0s 256ms/step\n",
            "1/1 [==============================] - 0s 256ms/step\n",
            "1/1 [==============================] - 0s 259ms/step\n",
            "1/1 [==============================] - 0s 263ms/step\n",
            "1/1 [==============================] - 0s 267ms/step\n",
            "1/1 [==============================] - 0s 248ms/step\n",
            "1/1 [==============================] - 0s 253ms/step\n",
            "1/1 [==============================] - 0s 275ms/step\n",
            "1/1 [==============================] - 0s 418ms/step\n",
            "1/1 [==============================] - 0s 407ms/step\n",
            "1/1 [==============================] - 0s 426ms/step\n",
            "1/1 [==============================] - 0s 247ms/step\n",
            "1/1 [==============================] - 0s 254ms/step\n",
            "1/1 [==============================] - 0s 262ms/step\n",
            "1/1 [==============================] - 0s 257ms/step\n",
            "1/1 [==============================] - 0s 262ms/step\n",
            "1/1 [==============================] - 0s 267ms/step\n",
            "1/1 [==============================] - 0s 245ms/step\n",
            "1/1 [==============================] - 0s 258ms/step\n",
            "1/1 [==============================] - 0s 418ms/step\n",
            "1/1 [==============================] - 0s 412ms/step\n",
            "1/1 [==============================] - 0s 343ms/step\n",
            "1/1 [==============================] - 0s 246ms/step\n",
            "1/1 [==============================] - 0s 250ms/step\n",
            "1/1 [==============================] - 0s 252ms/step\n",
            "1/1 [==============================] - 0s 258ms/step\n",
            "1/1 [==============================] - 0s 246ms/step\n",
            "1/1 [==============================] - 0s 248ms/step\n",
            "1/1 [==============================] - 0s 262ms/step\n",
            "1/1 [==============================] - 0s 262ms/step\n",
            "1/1 [==============================] - 0s 417ms/step\n",
            "1/1 [==============================] - 0s 382ms/step\n",
            "1/1 [==============================] - 0s 243ms/step\n",
            "1/1 [==============================] - 0s 248ms/step\n",
            "1/1 [==============================] - 0s 260ms/step\n",
            "1/1 [==============================] - 0s 283ms/step\n",
            "1/1 [==============================] - 0s 267ms/step\n",
            "1/1 [==============================] - 0s 253ms/step\n",
            "1/1 [==============================] - 0s 265ms/step\n",
            "1/1 [==============================] - 0s 257ms/step\n",
            "1/1 [==============================] - 0s 248ms/step\n",
            "1/1 [==============================] - 0s 364ms/step\n",
            "1/1 [==============================] - 0s 405ms/step\n",
            "1/1 [==============================] - 0s 409ms/step\n",
            "1/1 [==============================] - 0s 387ms/step\n",
            "1/1 [==============================] - 0s 256ms/step\n",
            "1/1 [==============================] - 0s 266ms/step\n",
            "1/1 [==============================] - 0s 253ms/step\n",
            "1/1 [==============================] - 0s 252ms/step\n",
            "1/1 [==============================] - 0s 255ms/step\n",
            "1/1 [==============================] - 0s 250ms/step\n",
            "1/1 [==============================] - 0s 264ms/step\n",
            "1/1 [==============================] - 0s 256ms/step\n",
            "1/1 [==============================] - 0s 406ms/step\n",
            "1/1 [==============================] - 0s 429ms/step\n",
            "1/1 [==============================] - 0s 404ms/step\n",
            "1/1 [==============================] - 0s 254ms/step\n",
            "1/1 [==============================] - 0s 240ms/step\n",
            "1/1 [==============================] - 0s 244ms/step\n",
            "1/1 [==============================] - 0s 244ms/step\n",
            "1/1 [==============================] - 0s 239ms/step\n",
            "1/1 [==============================] - 0s 252ms/step\n",
            "1/1 [==============================] - 0s 260ms/step\n",
            "1/1 [==============================] - 0s 247ms/step\n",
            "1/1 [==============================] - 0s 357ms/step\n",
            "1/1 [==============================] - 0s 399ms/step\n",
            "1/1 [==============================] - 0s 400ms/step\n",
            "1/1 [==============================] - 0s 423ms/step\n",
            "1/1 [==============================] - 0s 271ms/step\n",
            "1/1 [==============================] - 0s 263ms/step\n",
            "1/1 [==============================] - 0s 256ms/step\n",
            "1/1 [==============================] - 0s 251ms/step\n",
            "1/1 [==============================] - 0s 250ms/step\n",
            "1/1 [==============================] - 0s 257ms/step\n",
            "1/1 [==============================] - 0s 257ms/step\n",
            "1/1 [==============================] - 0s 291ms/step\n",
            "1/1 [==============================] - 0s 400ms/step\n",
            "1/1 [==============================] - 0s 454ms/step\n",
            "1/1 [==============================] - 0s 293ms/step\n",
            "1/1 [==============================] - 0s 253ms/step\n",
            "1/1 [==============================] - 0s 261ms/step\n",
            "1/1 [==============================] - 0s 244ms/step\n",
            "1/1 [==============================] - 0s 242ms/step\n",
            "1/1 [==============================] - 0s 252ms/step\n",
            "1/1 [==============================] - 0s 263ms/step\n",
            "1/1 [==============================] - 0s 297ms/step\n",
            "1/1 [==============================] - 0s 423ms/step\n",
            "1/1 [==============================] - 0s 421ms/step\n",
            "1/1 [==============================] - 0s 253ms/step\n",
            "1/1 [==============================] - 0s 259ms/step\n",
            "1/1 [==============================] - 0s 256ms/step\n",
            "1/1 [==============================] - 0s 270ms/step\n",
            "1/1 [==============================] - 0s 260ms/step\n",
            "1/1 [==============================] - 0s 241ms/step\n",
            "1/1 [==============================] - 0s 246ms/step\n",
            "1/1 [==============================] - 0s 248ms/step\n",
            "1/1 [==============================] - 0s 397ms/step\n",
            "1/1 [==============================] - 0s 401ms/step\n",
            "1/1 [==============================] - 0s 414ms/step\n",
            "1/1 [==============================] - 0s 251ms/step\n",
            "1/1 [==============================] - 0s 242ms/step\n",
            "1/1 [==============================] - 0s 246ms/step\n",
            "1/1 [==============================] - 0s 258ms/step\n",
            "1/1 [==============================] - 0s 264ms/step\n",
            "1/1 [==============================] - 0s 250ms/step\n",
            "1/1 [==============================] - 0s 244ms/step\n",
            "1/1 [==============================] - 0s 252ms/step\n",
            "1/1 [==============================] - 0s 345ms/step\n",
            "1/1 [==============================] - 0s 411ms/step\n",
            "1/1 [==============================] - 0s 421ms/step\n",
            "1/1 [==============================] - 0s 385ms/step\n",
            "1/1 [==============================] - 0s 252ms/step\n",
            "1/1 [==============================] - 0s 249ms/step\n",
            "1/1 [==============================] - 0s 259ms/step\n",
            "1/1 [==============================] - 0s 269ms/step\n",
            "1/1 [==============================] - 0s 249ms/step\n",
            "1/1 [==============================] - 0s 254ms/step\n",
            "1/1 [==============================] - 0s 284ms/step\n",
            "1/1 [==============================] - 0s 257ms/step\n",
            "1/1 [==============================] - 0s 376ms/step\n",
            "1/1 [==============================] - 0s 413ms/step\n",
            "1/1 [==============================] - 0s 361ms/step\n",
            "1/1 [==============================] - 0s 251ms/step\n",
            "1/1 [==============================] - 0s 256ms/step\n",
            "1/1 [==============================] - 0s 260ms/step\n",
            "1/1 [==============================] - 0s 260ms/step\n",
            "1/1 [==============================] - 0s 256ms/step\n",
            "1/1 [==============================] - 0s 256ms/step\n",
            "1/1 [==============================] - 0s 251ms/step\n",
            "1/1 [==============================] - 0s 253ms/step\n",
            "1/1 [==============================] - 0s 391ms/step\n",
            "1/1 [==============================] - 0s 399ms/step\n",
            "1/1 [==============================] - 0s 433ms/step\n",
            "1/1 [==============================] - 0s 284ms/step\n",
            "1/1 [==============================] - 0s 244ms/step\n",
            "1/1 [==============================] - 0s 253ms/step\n",
            "1/1 [==============================] - 0s 248ms/step\n",
            "1/1 [==============================] - 0s 262ms/step\n",
            "1/1 [==============================] - 0s 248ms/step\n",
            "1/1 [==============================] - 0s 255ms/step\n",
            "1/1 [==============================] - 0s 253ms/step\n",
            "1/1 [==============================] - 0s 251ms/step\n",
            "1/1 [==============================] - 0s 393ms/step\n",
            "1/1 [==============================] - 0s 394ms/step\n",
            "1/1 [==============================] - 0s 411ms/step\n",
            "1/1 [==============================] - 0s 244ms/step\n",
            "1/1 [==============================] - 0s 245ms/step\n",
            "1/1 [==============================] - 0s 256ms/step\n",
            "1/1 [==============================] - 0s 247ms/step\n",
            "1/1 [==============================] - 0s 257ms/step\n",
            "1/1 [==============================] - 0s 260ms/step\n",
            "1/1 [==============================] - 0s 243ms/step\n",
            "1/1 [==============================] - 0s 243ms/step\n",
            "1/1 [==============================] - 0s 403ms/step\n",
            "1/1 [==============================] - 0s 398ms/step\n",
            "1/1 [==============================] - 0s 446ms/step\n",
            "1/1 [==============================] - 0s 257ms/step\n",
            "1/1 [==============================] - 0s 252ms/step\n",
            "1/1 [==============================] - 0s 245ms/step\n",
            "1/1 [==============================] - 0s 241ms/step\n",
            "1/1 [==============================] - 0s 246ms/step\n",
            "1/1 [==============================] - 0s 252ms/step\n",
            "1/1 [==============================] - 0s 243ms/step\n",
            "1/1 [==============================] - 0s 249ms/step\n",
            "1/1 [==============================] - 0s 246ms/step\n",
            "1/1 [==============================] - 0s 399ms/step\n",
            "1/1 [==============================] - 0s 394ms/step\n",
            "1/1 [==============================] - 0s 400ms/step\n",
            "1/1 [==============================] - 0s 295ms/step\n",
            "1/1 [==============================] - 0s 234ms/step\n",
            "1/1 [==============================] - 0s 245ms/step\n",
            "1/1 [==============================] - 0s 246ms/step\n",
            "1/1 [==============================] - 0s 246ms/step\n",
            "1/1 [==============================] - 0s 236ms/step\n",
            "1/1 [==============================] - 0s 260ms/step\n",
            "1/1 [==============================] - 0s 241ms/step\n",
            "1/1 [==============================] - 0s 248ms/step\n",
            "1/1 [==============================] - 0s 292ms/step\n",
            "1/1 [==============================] - 0s 373ms/step\n",
            "1/1 [==============================] - 0s 384ms/step\n",
            "1/1 [==============================] - 0s 435ms/step\n",
            "1/1 [==============================] - 0s 248ms/step\n",
            "1/1 [==============================] - 0s 285ms/step\n",
            "1/1 [==============================] - 0s 274ms/step\n",
            "1/1 [==============================] - 0s 253ms/step\n",
            "1/1 [==============================] - 0s 261ms/step\n",
            "1/1 [==============================] - 0s 285ms/step\n",
            "1/1 [==============================] - 0s 273ms/step\n",
            "1/1 [==============================] - 0s 413ms/step\n",
            "1/1 [==============================] - 0s 463ms/step\n",
            "1/1 [==============================] - 0s 252ms/step\n",
            "1/1 [==============================] - 0s 261ms/step\n",
            "1/1 [==============================] - 0s 259ms/step\n",
            "1/1 [==============================] - 0s 254ms/step\n",
            "1/1 [==============================] - 0s 277ms/step\n",
            "1/1 [==============================] - 0s 248ms/step\n",
            "1/1 [==============================] - 0s 254ms/step\n",
            "1/1 [==============================] - 0s 248ms/step\n",
            "1/1 [==============================] - 0s 405ms/step\n",
            "1/1 [==============================] - 0s 408ms/step\n",
            "1/1 [==============================] - 0s 454ms/step\n",
            "1/1 [==============================] - 0s 249ms/step\n",
            "1/1 [==============================] - 0s 251ms/step\n",
            "1/1 [==============================] - 0s 240ms/step\n",
            "1/1 [==============================] - 0s 245ms/step\n",
            "1/1 [==============================] - 0s 235ms/step\n",
            "1/1 [==============================] - 0s 241ms/step\n",
            "1/1 [==============================] - 0s 238ms/step\n",
            "1/1 [==============================] - 0s 244ms/step\n",
            "1/1 [==============================] - 0s 407ms/step\n",
            "1/1 [==============================] - 0s 401ms/step\n",
            "1/1 [==============================] - 0s 397ms/step\n",
            "1/1 [==============================] - 0s 250ms/step\n",
            "1/1 [==============================] - 0s 255ms/step\n",
            "1/1 [==============================] - 0s 255ms/step\n",
            "1/1 [==============================] - 0s 253ms/step\n",
            "1/1 [==============================] - 0s 250ms/step\n",
            "1/1 [==============================] - 0s 265ms/step\n",
            "1/1 [==============================] - 0s 285ms/step\n",
            "1/1 [==============================] - 0s 256ms/step\n",
            "1/1 [==============================] - 0s 399ms/step\n",
            "1/1 [==============================] - 0s 418ms/step\n",
            "1/1 [==============================] - 0s 437ms/step\n",
            "1/1 [==============================] - 0s 280ms/step\n",
            "1/1 [==============================] - 0s 259ms/step\n",
            "1/1 [==============================] - 0s 246ms/step\n",
            "1/1 [==============================] - 0s 256ms/step\n",
            "1/1 [==============================] - 0s 251ms/step\n",
            "1/1 [==============================] - 0s 254ms/step\n",
            "1/1 [==============================] - 0s 261ms/step\n",
            "1/1 [==============================] - 0s 234ms/step\n",
            "1/1 [==============================] - 0s 318ms/step\n",
            "1/1 [==============================] - 0s 410ms/step\n",
            "1/1 [==============================] - 0s 412ms/step\n",
            "1/1 [==============================] - 0s 419ms/step\n",
            "1/1 [==============================] - 0s 248ms/step\n",
            "1/1 [==============================] - 0s 247ms/step\n",
            "1/1 [==============================] - 0s 241ms/step\n",
            "1/1 [==============================] - 0s 250ms/step\n",
            "1/1 [==============================] - 0s 255ms/step\n",
            "1/1 [==============================] - 0s 249ms/step\n",
            "1/1 [==============================] - 0s 245ms/step\n",
            "1/1 [==============================] - 0s 247ms/step\n",
            "1/1 [==============================] - 0s 403ms/step\n",
            "1/1 [==============================] - 0s 388ms/step\n",
            "1/1 [==============================] - 0s 426ms/step\n",
            "1/1 [==============================] - 0s 248ms/step\n",
            "1/1 [==============================] - 0s 240ms/step\n",
            "1/1 [==============================] - 0s 248ms/step\n",
            "1/1 [==============================] - 0s 264ms/step\n",
            "1/1 [==============================] - 0s 267ms/step\n",
            "1/1 [==============================] - 0s 241ms/step\n",
            "1/1 [==============================] - 0s 249ms/step\n",
            "1/1 [==============================] - 0s 247ms/step\n",
            "1/1 [==============================] - 0s 374ms/step\n",
            "1/1 [==============================] - 0s 399ms/step\n",
            "1/1 [==============================] - 0s 422ms/step\n",
            "1/1 [==============================] - 0s 361ms/step\n",
            "1/1 [==============================] - 0s 250ms/step\n",
            "1/1 [==============================] - 0s 244ms/step\n",
            "1/1 [==============================] - 0s 245ms/step\n",
            "1/1 [==============================] - 0s 250ms/step\n",
            "1/1 [==============================] - 0s 252ms/step\n",
            "1/1 [==============================] - 0s 252ms/step\n",
            "1/1 [==============================] - 0s 258ms/step\n",
            "1/1 [==============================] - 0s 268ms/step\n",
            "1/1 [==============================] - 0s 395ms/step\n",
            "1/1 [==============================] - 0s 397ms/step\n",
            "1/1 [==============================] - 0s 436ms/step\n",
            "1/1 [==============================] - 0s 245ms/step\n",
            "1/1 [==============================] - 0s 248ms/step\n",
            "1/1 [==============================] - 0s 268ms/step\n",
            "1/1 [==============================] - 0s 259ms/step\n",
            "1/1 [==============================] - 0s 255ms/step\n",
            "1/1 [==============================] - 0s 246ms/step\n",
            "1/1 [==============================] - 0s 257ms/step\n",
            "1/1 [==============================] - 0s 459ms/step\n",
            "1/1 [==============================] - 0s 401ms/step\n",
            "1/1 [==============================] - 0s 480ms/step\n",
            "1/1 [==============================] - 0s 257ms/step\n",
            "1/1 [==============================] - 0s 250ms/step\n",
            "1/1 [==============================] - 0s 250ms/step\n",
            "1/1 [==============================] - 0s 253ms/step\n",
            "1/1 [==============================] - 0s 269ms/step\n",
            "1/1 [==============================] - 0s 252ms/step\n",
            "1/1 [==============================] - 0s 253ms/step\n",
            "1/1 [==============================] - 0s 247ms/step\n",
            "1/1 [==============================] - 0s 407ms/step\n",
            "1/1 [==============================] - 0s 387ms/step\n",
            "1/1 [==============================] - 0s 397ms/step\n",
            "1/1 [==============================] - 0s 244ms/step\n",
            "1/1 [==============================] - 0s 263ms/step\n",
            "1/1 [==============================] - 0s 264ms/step\n",
            "1/1 [==============================] - 0s 236ms/step\n",
            "1/1 [==============================] - 0s 242ms/step\n",
            "1/1 [==============================] - 0s 253ms/step\n",
            "1/1 [==============================] - 0s 257ms/step\n",
            "1/1 [==============================] - 0s 375ms/step\n",
            "1/1 [==============================] - 0s 397ms/step\n",
            "1/1 [==============================] - 0s 415ms/step\n",
            "1/1 [==============================] - 0s 374ms/step\n",
            "1/1 [==============================] - 0s 256ms/step\n",
            "1/1 [==============================] - 0s 248ms/step\n",
            "1/1 [==============================] - 0s 257ms/step\n",
            "1/1 [==============================] - 0s 250ms/step\n",
            "1/1 [==============================] - 0s 261ms/step\n",
            "1/1 [==============================] - 0s 254ms/step\n",
            "1/1 [==============================] - 0s 252ms/step\n",
            "1/1 [==============================] - 0s 257ms/step\n",
            "1/1 [==============================] - 0s 386ms/step\n",
            "1/1 [==============================] - 0s 426ms/step\n",
            "1/1 [==============================] - 0s 421ms/step\n",
            "1/1 [==============================] - 0s 399ms/step\n",
            "1/1 [==============================] - 0s 243ms/step\n",
            "1/1 [==============================] - 0s 241ms/step\n",
            "1/1 [==============================] - 0s 248ms/step\n",
            "1/1 [==============================] - 0s 274ms/step\n",
            "1/1 [==============================] - 0s 241ms/step\n",
            "1/1 [==============================] - 0s 243ms/step\n",
            "1/1 [==============================] - 0s 292ms/step\n",
            "1/1 [==============================] - 0s 250ms/step\n",
            "1/1 [==============================] - 0s 382ms/step\n",
            "1/1 [==============================] - 0s 402ms/step\n",
            "1/1 [==============================] - 0s 409ms/step\n",
            "1/1 [==============================] - 0s 257ms/step\n",
            "1/1 [==============================] - 0s 247ms/step\n",
            "1/1 [==============================] - 0s 246ms/step\n",
            "1/1 [==============================] - 0s 255ms/step\n",
            "1/1 [==============================] - 0s 253ms/step\n",
            "1/1 [==============================] - 0s 253ms/step\n",
            "1/1 [==============================] - 0s 257ms/step\n",
            "1/1 [==============================] - 0s 257ms/step\n",
            "1/1 [==============================] - 0s 369ms/step\n",
            "1/1 [==============================] - 0s 410ms/step\n",
            "1/1 [==============================] - 0s 444ms/step\n",
            "1/1 [==============================] - 0s 239ms/step\n",
            "1/1 [==============================] - 0s 258ms/step\n",
            "1/1 [==============================] - 0s 245ms/step\n",
            "1/1 [==============================] - 0s 250ms/step\n",
            "1/1 [==============================] - 0s 259ms/step\n",
            "1/1 [==============================] - 0s 249ms/step\n",
            "1/1 [==============================] - 0s 274ms/step\n",
            "1/1 [==============================] - 0s 272ms/step\n",
            "1/1 [==============================] - 0s 411ms/step\n",
            "1/1 [==============================] - 0s 403ms/step\n",
            "1/1 [==============================] - 0s 422ms/step\n",
            "1/1 [==============================] - 0s 252ms/step\n",
            "1/1 [==============================] - 0s 285ms/step\n",
            "1/1 [==============================] - 0s 255ms/step\n",
            "1/1 [==============================] - 0s 254ms/step\n",
            "1/1 [==============================] - 0s 257ms/step\n",
            "1/1 [==============================] - 0s 252ms/step\n",
            "1/1 [==============================] - 0s 256ms/step\n",
            "1/1 [==============================] - 0s 262ms/step\n",
            "1/1 [==============================] - 0s 251ms/step\n",
            "1/1 [==============================] - 0s 441ms/step\n",
            "1/1 [==============================] - 0s 445ms/step\n",
            "1/1 [==============================] - 0s 309ms/step\n",
            "1/1 [==============================] - 0s 248ms/step\n",
            "1/1 [==============================] - 0s 270ms/step\n",
            "1/1 [==============================] - 0s 252ms/step\n",
            "1/1 [==============================] - 0s 244ms/step\n",
            "1/1 [==============================] - 0s 264ms/step\n",
            "1/1 [==============================] - 0s 242ms/step\n",
            "1/1 [==============================] - 0s 258ms/step\n",
            "1/1 [==============================] - 0s 242ms/step\n",
            "1/1 [==============================] - 0s 374ms/step\n",
            "1/1 [==============================] - 0s 396ms/step\n",
            "1/1 [==============================] - 0s 416ms/step\n",
            "1/1 [==============================] - 0s 255ms/step\n",
            "1/1 [==============================] - 0s 254ms/step\n",
            "1/1 [==============================] - 0s 250ms/step\n",
            "1/1 [==============================] - 0s 257ms/step\n",
            "1/1 [==============================] - 0s 248ms/step\n",
            "1/1 [==============================] - 0s 255ms/step\n",
            "1/1 [==============================] - 0s 261ms/step\n",
            "1/1 [==============================] - 0s 291ms/step\n",
            "1/1 [==============================] - 0s 426ms/step\n",
            "1/1 [==============================] - 0s 455ms/step\n",
            "1/1 [==============================] - 0s 272ms/step\n",
            "1/1 [==============================] - 0s 267ms/step\n",
            "1/1 [==============================] - 0s 251ms/step\n",
            "1/1 [==============================] - 0s 264ms/step\n",
            "1/1 [==============================] - 0s 264ms/step\n",
            "1/1 [==============================] - 0s 246ms/step\n",
            "1/1 [==============================] - 0s 252ms/step\n",
            "1/1 [==============================] - 0s 263ms/step\n",
            "1/1 [==============================] - 0s 414ms/step\n",
            "1/1 [==============================] - 0s 393ms/step\n",
            "1/1 [==============================] - 0s 463ms/step\n",
            "1/1 [==============================] - 0s 275ms/step\n",
            "1/1 [==============================] - 0s 269ms/step\n",
            "1/1 [==============================] - 0s 244ms/step\n",
            "1/1 [==============================] - 0s 247ms/step\n",
            "1/1 [==============================] - 0s 252ms/step\n",
            "1/1 [==============================] - 0s 250ms/step\n",
            "1/1 [==============================] - 0s 264ms/step\n",
            "1/1 [==============================] - 0s 412ms/step\n",
            "1/1 [==============================] - 0s 420ms/step\n",
            "1/1 [==============================] - 1s 545ms/step\n",
            "1/1 [==============================] - 0s 245ms/step\n",
            "1/1 [==============================] - 0s 255ms/step\n",
            "1/1 [==============================] - 0s 279ms/step\n",
            "1/1 [==============================] - 0s 262ms/step\n",
            "1/1 [==============================] - 0s 261ms/step\n",
            "1/1 [==============================] - 0s 279ms/step\n",
            "1/1 [==============================] - 0s 249ms/step\n",
            "1/1 [==============================] - 0s 256ms/step\n",
            "1/1 [==============================] - 0s 408ms/step\n",
            "1/1 [==============================] - 0s 426ms/step\n",
            "1/1 [==============================] - 0s 453ms/step\n",
            "1/1 [==============================] - 0s 265ms/step\n",
            "1/1 [==============================] - 0s 250ms/step\n",
            "1/1 [==============================] - 0s 267ms/step\n",
            "1/1 [==============================] - 0s 265ms/step\n",
            "1/1 [==============================] - 0s 256ms/step\n",
            "1/1 [==============================] - 0s 250ms/step\n",
            "1/1 [==============================] - 0s 252ms/step\n",
            "1/1 [==============================] - 0s 248ms/step\n",
            "1/1 [==============================] - 0s 417ms/step\n",
            "1/1 [==============================] - 0s 455ms/step\n",
            "1/1 [==============================] - 0s 444ms/step\n",
            "1/1 [==============================] - 0s 249ms/step\n",
            "1/1 [==============================] - 0s 243ms/step\n",
            "1/1 [==============================] - 0s 255ms/step\n",
            "1/1 [==============================] - 0s 250ms/step\n",
            "1/1 [==============================] - 0s 258ms/step\n",
            "1/1 [==============================] - 0s 264ms/step\n",
            "1/1 [==============================] - 0s 249ms/step\n",
            "1/1 [==============================] - 0s 247ms/step\n",
            "1/1 [==============================] - 0s 424ms/step\n",
            "1/1 [==============================] - 0s 395ms/step\n",
            "1/1 [==============================] - 0s 384ms/step\n",
            "1/1 [==============================] - 0s 236ms/step\n",
            "1/1 [==============================] - 0s 265ms/step\n",
            "1/1 [==============================] - 0s 251ms/step\n",
            "1/1 [==============================] - 0s 250ms/step\n",
            "1/1 [==============================] - 0s 252ms/step\n",
            "1/1 [==============================] - 0s 289ms/step\n",
            "1/1 [==============================] - 0s 247ms/step\n",
            "1/1 [==============================] - 0s 250ms/step\n",
            "1/1 [==============================] - 0s 406ms/step\n",
            "1/1 [==============================] - 0s 404ms/step\n",
            "1/1 [==============================] - 0s 450ms/step\n",
            "1/1 [==============================] - 0s 273ms/step\n",
            "1/1 [==============================] - 0s 247ms/step\n",
            "1/1 [==============================] - 0s 270ms/step\n",
            "1/1 [==============================] - 0s 252ms/step\n",
            "1/1 [==============================] - 0s 266ms/step\n",
            "1/1 [==============================] - 0s 246ms/step\n",
            "1/1 [==============================] - 0s 258ms/step\n",
            "1/1 [==============================] - 0s 377ms/step\n",
            "1/1 [==============================] - 0s 399ms/step\n",
            "1/1 [==============================] - 0s 421ms/step\n",
            "1/1 [==============================] - 0s 374ms/step\n",
            "1/1 [==============================] - 0s 246ms/step\n",
            "1/1 [==============================] - 0s 249ms/step\n",
            "1/1 [==============================] - 0s 277ms/step\n",
            "1/1 [==============================] - 0s 242ms/step\n",
            "1/1 [==============================] - 0s 259ms/step\n",
            "1/1 [==============================] - 0s 260ms/step\n",
            "1/1 [==============================] - 0s 257ms/step\n",
            "1/1 [==============================] - 0s 292ms/step\n",
            "1/1 [==============================] - 0s 351ms/step\n",
            "1/1 [==============================] - 0s 385ms/step\n",
            "1/1 [==============================] - 0s 465ms/step\n",
            "1/1 [==============================] - 0s 260ms/step\n",
            "1/1 [==============================] - 0s 251ms/step\n",
            "1/1 [==============================] - 0s 250ms/step\n",
            "1/1 [==============================] - 0s 258ms/step\n",
            "1/1 [==============================] - 0s 262ms/step\n",
            "1/1 [==============================] - 0s 274ms/step\n",
            "1/1 [==============================] - 0s 283ms/step\n",
            "1/1 [==============================] - 0s 265ms/step\n",
            "1/1 [==============================] - 0s 420ms/step\n",
            "1/1 [==============================] - 0s 493ms/step\n",
            "1/1 [==============================] - 0s 270ms/step\n",
            "1/1 [==============================] - 0s 268ms/step\n",
            "1/1 [==============================] - 0s 263ms/step\n",
            "1/1 [==============================] - 0s 261ms/step\n",
            "1/1 [==============================] - 0s 269ms/step\n",
            "1/1 [==============================] - 0s 273ms/step\n",
            "1/1 [==============================] - 0s 267ms/step\n",
            "1/1 [==============================] - 0s 285ms/step\n",
            "1/1 [==============================] - 0s 425ms/step\n",
            "1/1 [==============================] - 0s 426ms/step\n",
            "1/1 [==============================] - 0s 249ms/step\n",
            "1/1 [==============================] - 0s 256ms/step\n",
            "1/1 [==============================] - 0s 256ms/step\n",
            "1/1 [==============================] - 0s 255ms/step\n",
            "1/1 [==============================] - 0s 262ms/step\n",
            "1/1 [==============================] - 0s 262ms/step\n"
          ]
        }
      ]
    },
    {
      "cell_type": "code",
      "source": [
        "sample_for_prediction"
      ],
      "metadata": {
        "colab": {
          "base_uri": "https://localhost:8080/",
          "height": 423
        },
        "id": "bAucA7-RhRI8",
        "outputId": "22847c78-8ba0-45f9-ab38-beeaa08e438d"
      },
      "execution_count": null,
      "outputs": [
        {
          "output_type": "execute_result",
          "data": {
            "text/plain": [
              "                                                   title  \\\n",
              "35126  <start> pejabat pt pal tertangkap kpk, kemente...   \n",
              "83037  <start> dua buruh bangunan isap sabu alasannya...   \n",
              "3235   <start> bus wisata bogor 'uncal' beroperasi se...   \n",
              "8349   <start> tanggapi kicauan sby, jokowi: kita har...   \n",
              "10255  <start> ini bukti yang disita kpk saat tangkap...   \n",
              "...                                                  ...   \n",
              "71931  <start> duh, indeks kebahagiaan orang indonesi...   \n",
              "86855  <start> elon musk bandingkan kecerdasan buatan...   \n",
              "83518  <start> ribuan santri banyumas aksi tolak prog...   \n",
              "65796  <start> h-5 lebaran, kalimalang mulai ramai di...   \n",
              "19304  <start> kasus ahok, bivitri: pemberhentian tak...   \n",
              "\n",
              "                                            content_html  \\\n",
              "35126  kementerian badan usaha milik negara akan meni...   \n",
              "83037  dian suchairi warga jl kamboja, desa bandar kh...   \n",
              "3235   jalan utama di sekitar istana bogor dan kebun ...   \n",
              "8349   presiden joko widodo menanggapi dingin kicauan...   \n",
              "10255  undang nomor 41 tahun 2014 tentang peternakan ...   \n",
              "...                                                  ...   \n",
              "71931  indeks kebahagiaan rata ratamanusia indonesia ...   \n",
              "86855  bos spacex, , menyebut lebih berbahaya ketimba...   \n",
              "83518  ribuan massa nahdliyin di kabupaten banyumas m...   \n",
              "65796  arus lalu lintas di sisi kalimalang, bekasi, k...   \n",
              "19304  pakar hukum tata negara bivitri susanti mengat...   \n",
              "\n",
              "                                      title_wo_attention  \n",
              "35126  pemerintah akan tindak tegas pelaku korupsi di...  \n",
              "83037             warga tapos depok temukan pistol ak 47  \n",
              "3235   jokowi akan mampir ke ambon dengan cek sepatu ...  \n",
              "8349   jokowi pemblokiran media sosial, bukan media s...  \n",
              "10255       patrialis akbar ditangkap kpk, ini alasannya  \n",
              "...                                                  ...  \n",
              "71931  indonesia timur jadi brand industri perdaganga...  \n",
              "86855           facebook luncurkan fitur untuk tes dna    \n",
              "83518  ribuan warga unjuk rasa di depan istana merdek...  \n",
              "65796      pemudik motor dilarang melintas di tol cipali  \n",
              "19304  hakim minta mendagri berhentikan sementara hak...  \n",
              "\n",
              "[1000 rows x 3 columns]"
            ],
            "text/html": [
              "\n",
              "  <div id=\"df-79b0b138-8543-4b8a-a6d6-377bc92d0526\">\n",
              "    <div class=\"colab-df-container\">\n",
              "      <div>\n",
              "<style scoped>\n",
              "    .dataframe tbody tr th:only-of-type {\n",
              "        vertical-align: middle;\n",
              "    }\n",
              "\n",
              "    .dataframe tbody tr th {\n",
              "        vertical-align: top;\n",
              "    }\n",
              "\n",
              "    .dataframe thead th {\n",
              "        text-align: right;\n",
              "    }\n",
              "</style>\n",
              "<table border=\"1\" class=\"dataframe\">\n",
              "  <thead>\n",
              "    <tr style=\"text-align: right;\">\n",
              "      <th></th>\n",
              "      <th>title</th>\n",
              "      <th>content_html</th>\n",
              "      <th>title_wo_attention</th>\n",
              "    </tr>\n",
              "  </thead>\n",
              "  <tbody>\n",
              "    <tr>\n",
              "      <th>35126</th>\n",
              "      <td>&lt;start&gt; pejabat pt pal tertangkap kpk, kemente...</td>\n",
              "      <td>kementerian badan usaha milik negara akan meni...</td>\n",
              "      <td>pemerintah akan tindak tegas pelaku korupsi di...</td>\n",
              "    </tr>\n",
              "    <tr>\n",
              "      <th>83037</th>\n",
              "      <td>&lt;start&gt; dua buruh bangunan isap sabu alasannya...</td>\n",
              "      <td>dian suchairi warga jl kamboja, desa bandar kh...</td>\n",
              "      <td>warga tapos depok temukan pistol ak 47</td>\n",
              "    </tr>\n",
              "    <tr>\n",
              "      <th>3235</th>\n",
              "      <td>&lt;start&gt; bus wisata bogor 'uncal' beroperasi se...</td>\n",
              "      <td>jalan utama di sekitar istana bogor dan kebun ...</td>\n",
              "      <td>jokowi akan mampir ke ambon dengan cek sepatu ...</td>\n",
              "    </tr>\n",
              "    <tr>\n",
              "      <th>8349</th>\n",
              "      <td>&lt;start&gt; tanggapi kicauan sby, jokowi: kita har...</td>\n",
              "      <td>presiden joko widodo menanggapi dingin kicauan...</td>\n",
              "      <td>jokowi pemblokiran media sosial, bukan media s...</td>\n",
              "    </tr>\n",
              "    <tr>\n",
              "      <th>10255</th>\n",
              "      <td>&lt;start&gt; ini bukti yang disita kpk saat tangkap...</td>\n",
              "      <td>undang nomor 41 tahun 2014 tentang peternakan ...</td>\n",
              "      <td>patrialis akbar ditangkap kpk, ini alasannya</td>\n",
              "    </tr>\n",
              "    <tr>\n",
              "      <th>...</th>\n",
              "      <td>...</td>\n",
              "      <td>...</td>\n",
              "      <td>...</td>\n",
              "    </tr>\n",
              "    <tr>\n",
              "      <th>71931</th>\n",
              "      <td>&lt;start&gt; duh, indeks kebahagiaan orang indonesi...</td>\n",
              "      <td>indeks kebahagiaan rata ratamanusia indonesia ...</td>\n",
              "      <td>indonesia timur jadi brand industri perdaganga...</td>\n",
              "    </tr>\n",
              "    <tr>\n",
              "      <th>86855</th>\n",
              "      <td>&lt;start&gt; elon musk bandingkan kecerdasan buatan...</td>\n",
              "      <td>bos spacex, , menyebut lebih berbahaya ketimba...</td>\n",
              "      <td>facebook luncurkan fitur untuk tes dna</td>\n",
              "    </tr>\n",
              "    <tr>\n",
              "      <th>83518</th>\n",
              "      <td>&lt;start&gt; ribuan santri banyumas aksi tolak prog...</td>\n",
              "      <td>ribuan massa nahdliyin di kabupaten banyumas m...</td>\n",
              "      <td>ribuan warga unjuk rasa di depan istana merdek...</td>\n",
              "    </tr>\n",
              "    <tr>\n",
              "      <th>65796</th>\n",
              "      <td>&lt;start&gt; h-5 lebaran, kalimalang mulai ramai di...</td>\n",
              "      <td>arus lalu lintas di sisi kalimalang, bekasi, k...</td>\n",
              "      <td>pemudik motor dilarang melintas di tol cipali</td>\n",
              "    </tr>\n",
              "    <tr>\n",
              "      <th>19304</th>\n",
              "      <td>&lt;start&gt; kasus ahok, bivitri: pemberhentian tak...</td>\n",
              "      <td>pakar hukum tata negara bivitri susanti mengat...</td>\n",
              "      <td>hakim minta mendagri berhentikan sementara hak...</td>\n",
              "    </tr>\n",
              "  </tbody>\n",
              "</table>\n",
              "<p>1000 rows × 3 columns</p>\n",
              "</div>\n",
              "      <button class=\"colab-df-convert\" onclick=\"convertToInteractive('df-79b0b138-8543-4b8a-a6d6-377bc92d0526')\"\n",
              "              title=\"Convert this dataframe to an interactive table.\"\n",
              "              style=\"display:none;\">\n",
              "        \n",
              "  <svg xmlns=\"http://www.w3.org/2000/svg\" height=\"24px\"viewBox=\"0 0 24 24\"\n",
              "       width=\"24px\">\n",
              "    <path d=\"M0 0h24v24H0V0z\" fill=\"none\"/>\n",
              "    <path d=\"M18.56 5.44l.94 2.06.94-2.06 2.06-.94-2.06-.94-.94-2.06-.94 2.06-2.06.94zm-11 1L8.5 8.5l.94-2.06 2.06-.94-2.06-.94L8.5 2.5l-.94 2.06-2.06.94zm10 10l.94 2.06.94-2.06 2.06-.94-2.06-.94-.94-2.06-.94 2.06-2.06.94z\"/><path d=\"M17.41 7.96l-1.37-1.37c-.4-.4-.92-.59-1.43-.59-.52 0-1.04.2-1.43.59L10.3 9.45l-7.72 7.72c-.78.78-.78 2.05 0 2.83L4 21.41c.39.39.9.59 1.41.59.51 0 1.02-.2 1.41-.59l7.78-7.78 2.81-2.81c.8-.78.8-2.07 0-2.86zM5.41 20L4 18.59l7.72-7.72 1.47 1.35L5.41 20z\"/>\n",
              "  </svg>\n",
              "      </button>\n",
              "      \n",
              "  <style>\n",
              "    .colab-df-container {\n",
              "      display:flex;\n",
              "      flex-wrap:wrap;\n",
              "      gap: 12px;\n",
              "    }\n",
              "\n",
              "    .colab-df-convert {\n",
              "      background-color: #E8F0FE;\n",
              "      border: none;\n",
              "      border-radius: 50%;\n",
              "      cursor: pointer;\n",
              "      display: none;\n",
              "      fill: #1967D2;\n",
              "      height: 32px;\n",
              "      padding: 0 0 0 0;\n",
              "      width: 32px;\n",
              "    }\n",
              "\n",
              "    .colab-df-convert:hover {\n",
              "      background-color: #E2EBFA;\n",
              "      box-shadow: 0px 1px 2px rgba(60, 64, 67, 0.3), 0px 1px 3px 1px rgba(60, 64, 67, 0.15);\n",
              "      fill: #174EA6;\n",
              "    }\n",
              "\n",
              "    [theme=dark] .colab-df-convert {\n",
              "      background-color: #3B4455;\n",
              "      fill: #D2E3FC;\n",
              "    }\n",
              "\n",
              "    [theme=dark] .colab-df-convert:hover {\n",
              "      background-color: #434B5C;\n",
              "      box-shadow: 0px 1px 3px 1px rgba(0, 0, 0, 0.15);\n",
              "      filter: drop-shadow(0px 1px 2px rgba(0, 0, 0, 0.3));\n",
              "      fill: #FFFFFF;\n",
              "    }\n",
              "  </style>\n",
              "\n",
              "      <script>\n",
              "        const buttonEl =\n",
              "          document.querySelector('#df-79b0b138-8543-4b8a-a6d6-377bc92d0526 button.colab-df-convert');\n",
              "        buttonEl.style.display =\n",
              "          google.colab.kernel.accessAllowed ? 'block' : 'none';\n",
              "\n",
              "        async function convertToInteractive(key) {\n",
              "          const element = document.querySelector('#df-79b0b138-8543-4b8a-a6d6-377bc92d0526');\n",
              "          const dataTable =\n",
              "            await google.colab.kernel.invokeFunction('convertToInteractive',\n",
              "                                                     [key], {});\n",
              "          if (!dataTable) return;\n",
              "\n",
              "          const docLinkHtml = 'Like what you see? Visit the ' +\n",
              "            '<a target=\"_blank\" href=https://colab.research.google.com/notebooks/data_table.ipynb>data table notebook</a>'\n",
              "            + ' to learn more about interactive tables.';\n",
              "          element.innerHTML = '';\n",
              "          dataTable['output_type'] = 'display_data';\n",
              "          await google.colab.output.renderOutput(dataTable, element);\n",
              "          const docLink = document.createElement('div');\n",
              "          docLink.innerHTML = docLinkHtml;\n",
              "          element.appendChild(docLink);\n",
              "        }\n",
              "      </script>\n",
              "    </div>\n",
              "  </div>\n",
              "  "
            ]
          },
          "metadata": {},
          "execution_count": 44
        }
      ]
    },
    {
      "cell_type": "markdown",
      "source": [
        "# BERTScore"
      ],
      "metadata": {
        "id": "Dexow1MLQFvH"
      }
    },
    {
      "cell_type": "code",
      "source": [
        "# Menghitung nilai BERTScore\n",
        "_, _, F1 = bert_score.score(sample_for_prediction['title_wo_attention'].to_list(), sample_for_prediction['content_html'].to_list(), lang='id', verbose=None)"
      ],
      "metadata": {
        "colab": {
          "base_uri": "https://localhost:8080/"
        },
        "id": "4tpHVjWyoGEI",
        "outputId": "be65ed52-f615-41d8-bb1c-0fcfa33702e3"
      },
      "execution_count": null,
      "outputs": [
        {
          "output_type": "stream",
          "name": "stderr",
          "text": [
            "Some weights of the model checkpoint at bert-base-multilingual-cased were not used when initializing BertModel: ['cls.predictions.transform.dense.weight', 'cls.seq_relationship.bias', 'cls.predictions.bias', 'cls.seq_relationship.weight', 'cls.predictions.transform.dense.bias', 'cls.predictions.transform.LayerNorm.weight', 'cls.predictions.transform.LayerNorm.bias']\n",
            "- This IS expected if you are initializing BertModel from the checkpoint of a model trained on another task or with another architecture (e.g. initializing a BertForSequenceClassification model from a BertForPreTraining model).\n",
            "- This IS NOT expected if you are initializing BertModel from the checkpoint of a model that you expect to be exactly identical (initializing a BertForSequenceClassification model from a BertForSequenceClassification model).\n"
          ]
        }
      ]
    },
    {
      "cell_type": "code",
      "source": [
        "# Memasukkan BERTScore ke data\n",
        "sample_for_prediction['BERTScore_wo_attention'] = F1.numpy()"
      ],
      "metadata": {
        "id": "JAZEloMWpDyZ"
      },
      "execution_count": null,
      "outputs": []
    },
    {
      "cell_type": "code",
      "source": [
        "# Mengurutkan nilai BERTScore\n",
        "sample_for_prediction['BERTScore_wo_attention'].sort_values(ascending=False)"
      ],
      "metadata": {
        "colab": {
          "base_uri": "https://localhost:8080/"
        },
        "id": "fiOyM60juhZ3",
        "outputId": "d10c4f48-159b-44ee-f052-fa936b51fa94"
      },
      "execution_count": null,
      "outputs": [
        {
          "output_type": "execute_result",
          "data": {
            "text/plain": [
              "3435     0.691448\n",
              "65342    0.681326\n",
              "65529    0.679688\n",
              "3562     0.677923\n",
              "85088    0.677896\n",
              "           ...   \n",
              "9575     0.533885\n",
              "28348    0.531883\n",
              "10196    0.530949\n",
              "77539    0.528224\n",
              "79005    0.522657\n",
              "Name: BERTScore_wo_attention, Length: 1000, dtype: float32"
            ]
          },
          "metadata": {},
          "execution_count": 50
        }
      ]
    },
    {
      "cell_type": "code",
      "source": [
        "# Mendapatkan rataan nilai BERTScore\n",
        "sample_for_prediction['BERTScore_wo_attention'].mean()"
      ],
      "metadata": {
        "colab": {
          "base_uri": "https://localhost:8080/"
        },
        "id": "dj4GhXQ5ue89",
        "outputId": "28ed7525-6e0d-4239-e81b-69792199ade9"
      },
      "execution_count": null,
      "outputs": [
        {
          "output_type": "execute_result",
          "data": {
            "text/plain": [
              "0.59864026"
            ]
          },
          "metadata": {},
          "execution_count": 51
        }
      ]
    },
    {
      "cell_type": "code",
      "source": [
        "# Menyimpan hasil dalam file csv\n",
        "sample_for_prediction.to_csv('/content/drive/MyDrive/Tugas Akhir 2/Files/Hasil BERTScore Model tanpa Atensi Data 2 v3.csv')"
      ],
      "metadata": {
        "id": "YLpVX0svur5b"
      },
      "execution_count": null,
      "outputs": []
    },
    {
      "cell_type": "markdown",
      "source": [
        "# Analisis Hasil BERTScore"
      ],
      "metadata": {
        "id": "vPuhutRtQPvg"
      }
    },
    {
      "cell_type": "code",
      "source": [
        "df = pd.read_csv('/content/drive/MyDrive/Tugas Akhir 2/Files/Hasil BERTScore Model tanpa Atensi Data 2 v3.csv')\n",
        "df"
      ],
      "metadata": {
        "id": "ZxFhz2cIvWF2",
        "colab": {
          "base_uri": "https://localhost:8080/",
          "height": 423
        },
        "outputId": "f19a2e71-e6b2-4f51-8b34-0b84da79a439"
      },
      "execution_count": null,
      "outputs": [
        {
          "output_type": "execute_result",
          "data": {
            "text/plain": [
              "     Unnamed: 0                                              title  \\\n",
              "0         35126  <start> pejabat pt pal tertangkap kpk, kemente...   \n",
              "1         83037  <start> dua buruh bangunan isap sabu alasannya...   \n",
              "2          3235  <start> bus wisata bogor 'uncal' beroperasi se...   \n",
              "3          8349  <start> tanggapi kicauan sby, jokowi: kita har...   \n",
              "4         10255  <start> ini bukti yang disita kpk saat tangkap...   \n",
              "..          ...                                                ...   \n",
              "995       71931  <start> duh, indeks kebahagiaan orang indonesi...   \n",
              "996       86855  <start> elon musk bandingkan kecerdasan buatan...   \n",
              "997       83518  <start> ribuan santri banyumas aksi tolak prog...   \n",
              "998       65796  <start> h-5 lebaran, kalimalang mulai ramai di...   \n",
              "999       19304  <start> kasus ahok, bivitri: pemberhentian tak...   \n",
              "\n",
              "                                          content_html  \\\n",
              "0    kementerian badan usaha milik negara akan meni...   \n",
              "1    dian suchairi warga jl kamboja, desa bandar kh...   \n",
              "2    jalan utama di sekitar istana bogor dan kebun ...   \n",
              "3    presiden joko widodo menanggapi dingin kicauan...   \n",
              "4    undang nomor 41 tahun 2014 tentang peternakan ...   \n",
              "..                                                 ...   \n",
              "995  indeks kebahagiaan rata ratamanusia indonesia ...   \n",
              "996  bos spacex, , menyebut lebih berbahaya ketimba...   \n",
              "997  ribuan massa nahdliyin di kabupaten banyumas m...   \n",
              "998  arus lalu lintas di sisi kalimalang, bekasi, k...   \n",
              "999  pakar hukum tata negara bivitri susanti mengat...   \n",
              "\n",
              "                                    title_wo_attention  BERTScore_wo_attention  \n",
              "0    pemerintah akan tindak tegas pelaku korupsi di...                0.617203  \n",
              "1               warga tapos depok temukan pistol ak 47                0.545550  \n",
              "2    jokowi akan mampir ke ambon dengan cek sepatu ...                0.582675  \n",
              "3    jokowi pemblokiran media sosial, bukan media s...                0.583129  \n",
              "4         patrialis akbar ditangkap kpk, ini alasannya                0.646702  \n",
              "..                                                 ...                     ...  \n",
              "995  indonesia timur jadi brand industri perdaganga...                0.583171  \n",
              "996           facebook luncurkan fitur untuk tes dna                  0.584896  \n",
              "997  ribuan warga unjuk rasa di depan istana merdek...                0.613402  \n",
              "998      pemudik motor dilarang melintas di tol cipali                0.580182  \n",
              "999  hakim minta mendagri berhentikan sementara hak...                0.574553  \n",
              "\n",
              "[1000 rows x 5 columns]"
            ],
            "text/html": [
              "\n",
              "\n",
              "  <div id=\"df-2aac32d3-be5c-4c2a-b8a5-448181cf079f\">\n",
              "    <div class=\"colab-df-container\">\n",
              "      <div>\n",
              "<style scoped>\n",
              "    .dataframe tbody tr th:only-of-type {\n",
              "        vertical-align: middle;\n",
              "    }\n",
              "\n",
              "    .dataframe tbody tr th {\n",
              "        vertical-align: top;\n",
              "    }\n",
              "\n",
              "    .dataframe thead th {\n",
              "        text-align: right;\n",
              "    }\n",
              "</style>\n",
              "<table border=\"1\" class=\"dataframe\">\n",
              "  <thead>\n",
              "    <tr style=\"text-align: right;\">\n",
              "      <th></th>\n",
              "      <th>Unnamed: 0</th>\n",
              "      <th>title</th>\n",
              "      <th>content_html</th>\n",
              "      <th>title_wo_attention</th>\n",
              "      <th>BERTScore_wo_attention</th>\n",
              "    </tr>\n",
              "  </thead>\n",
              "  <tbody>\n",
              "    <tr>\n",
              "      <th>0</th>\n",
              "      <td>35126</td>\n",
              "      <td>&lt;start&gt; pejabat pt pal tertangkap kpk, kemente...</td>\n",
              "      <td>kementerian badan usaha milik negara akan meni...</td>\n",
              "      <td>pemerintah akan tindak tegas pelaku korupsi di...</td>\n",
              "      <td>0.617203</td>\n",
              "    </tr>\n",
              "    <tr>\n",
              "      <th>1</th>\n",
              "      <td>83037</td>\n",
              "      <td>&lt;start&gt; dua buruh bangunan isap sabu alasannya...</td>\n",
              "      <td>dian suchairi warga jl kamboja, desa bandar kh...</td>\n",
              "      <td>warga tapos depok temukan pistol ak 47</td>\n",
              "      <td>0.545550</td>\n",
              "    </tr>\n",
              "    <tr>\n",
              "      <th>2</th>\n",
              "      <td>3235</td>\n",
              "      <td>&lt;start&gt; bus wisata bogor 'uncal' beroperasi se...</td>\n",
              "      <td>jalan utama di sekitar istana bogor dan kebun ...</td>\n",
              "      <td>jokowi akan mampir ke ambon dengan cek sepatu ...</td>\n",
              "      <td>0.582675</td>\n",
              "    </tr>\n",
              "    <tr>\n",
              "      <th>3</th>\n",
              "      <td>8349</td>\n",
              "      <td>&lt;start&gt; tanggapi kicauan sby, jokowi: kita har...</td>\n",
              "      <td>presiden joko widodo menanggapi dingin kicauan...</td>\n",
              "      <td>jokowi pemblokiran media sosial, bukan media s...</td>\n",
              "      <td>0.583129</td>\n",
              "    </tr>\n",
              "    <tr>\n",
              "      <th>4</th>\n",
              "      <td>10255</td>\n",
              "      <td>&lt;start&gt; ini bukti yang disita kpk saat tangkap...</td>\n",
              "      <td>undang nomor 41 tahun 2014 tentang peternakan ...</td>\n",
              "      <td>patrialis akbar ditangkap kpk, ini alasannya</td>\n",
              "      <td>0.646702</td>\n",
              "    </tr>\n",
              "    <tr>\n",
              "      <th>...</th>\n",
              "      <td>...</td>\n",
              "      <td>...</td>\n",
              "      <td>...</td>\n",
              "      <td>...</td>\n",
              "      <td>...</td>\n",
              "    </tr>\n",
              "    <tr>\n",
              "      <th>995</th>\n",
              "      <td>71931</td>\n",
              "      <td>&lt;start&gt; duh, indeks kebahagiaan orang indonesi...</td>\n",
              "      <td>indeks kebahagiaan rata ratamanusia indonesia ...</td>\n",
              "      <td>indonesia timur jadi brand industri perdaganga...</td>\n",
              "      <td>0.583171</td>\n",
              "    </tr>\n",
              "    <tr>\n",
              "      <th>996</th>\n",
              "      <td>86855</td>\n",
              "      <td>&lt;start&gt; elon musk bandingkan kecerdasan buatan...</td>\n",
              "      <td>bos spacex, , menyebut lebih berbahaya ketimba...</td>\n",
              "      <td>facebook luncurkan fitur untuk tes dna</td>\n",
              "      <td>0.584896</td>\n",
              "    </tr>\n",
              "    <tr>\n",
              "      <th>997</th>\n",
              "      <td>83518</td>\n",
              "      <td>&lt;start&gt; ribuan santri banyumas aksi tolak prog...</td>\n",
              "      <td>ribuan massa nahdliyin di kabupaten banyumas m...</td>\n",
              "      <td>ribuan warga unjuk rasa di depan istana merdek...</td>\n",
              "      <td>0.613402</td>\n",
              "    </tr>\n",
              "    <tr>\n",
              "      <th>998</th>\n",
              "      <td>65796</td>\n",
              "      <td>&lt;start&gt; h-5 lebaran, kalimalang mulai ramai di...</td>\n",
              "      <td>arus lalu lintas di sisi kalimalang, bekasi, k...</td>\n",
              "      <td>pemudik motor dilarang melintas di tol cipali</td>\n",
              "      <td>0.580182</td>\n",
              "    </tr>\n",
              "    <tr>\n",
              "      <th>999</th>\n",
              "      <td>19304</td>\n",
              "      <td>&lt;start&gt; kasus ahok, bivitri: pemberhentian tak...</td>\n",
              "      <td>pakar hukum tata negara bivitri susanti mengat...</td>\n",
              "      <td>hakim minta mendagri berhentikan sementara hak...</td>\n",
              "      <td>0.574553</td>\n",
              "    </tr>\n",
              "  </tbody>\n",
              "</table>\n",
              "<p>1000 rows × 5 columns</p>\n",
              "</div>\n",
              "      <button class=\"colab-df-convert\" onclick=\"convertToInteractive('df-2aac32d3-be5c-4c2a-b8a5-448181cf079f')\"\n",
              "              title=\"Convert this dataframe to an interactive table.\"\n",
              "              style=\"display:none;\">\n",
              "\n",
              "  <svg xmlns=\"http://www.w3.org/2000/svg\" height=\"24px\"viewBox=\"0 0 24 24\"\n",
              "       width=\"24px\">\n",
              "    <path d=\"M0 0h24v24H0V0z\" fill=\"none\"/>\n",
              "    <path d=\"M18.56 5.44l.94 2.06.94-2.06 2.06-.94-2.06-.94-.94-2.06-.94 2.06-2.06.94zm-11 1L8.5 8.5l.94-2.06 2.06-.94-2.06-.94L8.5 2.5l-.94 2.06-2.06.94zm10 10l.94 2.06.94-2.06 2.06-.94-2.06-.94-.94-2.06-.94 2.06-2.06.94z\"/><path d=\"M17.41 7.96l-1.37-1.37c-.4-.4-.92-.59-1.43-.59-.52 0-1.04.2-1.43.59L10.3 9.45l-7.72 7.72c-.78.78-.78 2.05 0 2.83L4 21.41c.39.39.9.59 1.41.59.51 0 1.02-.2 1.41-.59l7.78-7.78 2.81-2.81c.8-.78.8-2.07 0-2.86zM5.41 20L4 18.59l7.72-7.72 1.47 1.35L5.41 20z\"/>\n",
              "  </svg>\n",
              "      </button>\n",
              "\n",
              "\n",
              "\n",
              "    <div id=\"df-116891df-1acd-4183-95d7-31e4b5798911\">\n",
              "      <button class=\"colab-df-quickchart\" onclick=\"quickchart('df-116891df-1acd-4183-95d7-31e4b5798911')\"\n",
              "              title=\"Suggest charts.\"\n",
              "              style=\"display:none;\">\n",
              "\n",
              "<svg xmlns=\"http://www.w3.org/2000/svg\" height=\"24px\"viewBox=\"0 0 24 24\"\n",
              "     width=\"24px\">\n",
              "    <g>\n",
              "        <path d=\"M19 3H5c-1.1 0-2 .9-2 2v14c0 1.1.9 2 2 2h14c1.1 0 2-.9 2-2V5c0-1.1-.9-2-2-2zM9 17H7v-7h2v7zm4 0h-2V7h2v10zm4 0h-2v-4h2v4z\"/>\n",
              "    </g>\n",
              "</svg>\n",
              "      </button>\n",
              "    </div>\n",
              "\n",
              "<style>\n",
              "  .colab-df-quickchart {\n",
              "    background-color: #E8F0FE;\n",
              "    border: none;\n",
              "    border-radius: 50%;\n",
              "    cursor: pointer;\n",
              "    display: none;\n",
              "    fill: #1967D2;\n",
              "    height: 32px;\n",
              "    padding: 0 0 0 0;\n",
              "    width: 32px;\n",
              "  }\n",
              "\n",
              "  .colab-df-quickchart:hover {\n",
              "    background-color: #E2EBFA;\n",
              "    box-shadow: 0px 1px 2px rgba(60, 64, 67, 0.3), 0px 1px 3px 1px rgba(60, 64, 67, 0.15);\n",
              "    fill: #174EA6;\n",
              "  }\n",
              "\n",
              "  [theme=dark] .colab-df-quickchart {\n",
              "    background-color: #3B4455;\n",
              "    fill: #D2E3FC;\n",
              "  }\n",
              "\n",
              "  [theme=dark] .colab-df-quickchart:hover {\n",
              "    background-color: #434B5C;\n",
              "    box-shadow: 0px 1px 3px 1px rgba(0, 0, 0, 0.15);\n",
              "    filter: drop-shadow(0px 1px 2px rgba(0, 0, 0, 0.3));\n",
              "    fill: #FFFFFF;\n",
              "  }\n",
              "</style>\n",
              "\n",
              "    <script>\n",
              "      async function quickchart(key) {\n",
              "        const containerElement = document.querySelector('#' + key);\n",
              "        const charts = await google.colab.kernel.invokeFunction(\n",
              "            'suggestCharts', [key], {});\n",
              "      }\n",
              "    </script>\n",
              "\n",
              "      <script>\n",
              "\n",
              "function displayQuickchartButton(domScope) {\n",
              "  let quickchartButtonEl =\n",
              "    domScope.querySelector('#df-116891df-1acd-4183-95d7-31e4b5798911 button.colab-df-quickchart');\n",
              "  quickchartButtonEl.style.display =\n",
              "    google.colab.kernel.accessAllowed ? 'block' : 'none';\n",
              "}\n",
              "\n",
              "        displayQuickchartButton(document);\n",
              "      </script>\n",
              "      <style>\n",
              "    .colab-df-container {\n",
              "      display:flex;\n",
              "      flex-wrap:wrap;\n",
              "      gap: 12px;\n",
              "    }\n",
              "\n",
              "    .colab-df-convert {\n",
              "      background-color: #E8F0FE;\n",
              "      border: none;\n",
              "      border-radius: 50%;\n",
              "      cursor: pointer;\n",
              "      display: none;\n",
              "      fill: #1967D2;\n",
              "      height: 32px;\n",
              "      padding: 0 0 0 0;\n",
              "      width: 32px;\n",
              "    }\n",
              "\n",
              "    .colab-df-convert:hover {\n",
              "      background-color: #E2EBFA;\n",
              "      box-shadow: 0px 1px 2px rgba(60, 64, 67, 0.3), 0px 1px 3px 1px rgba(60, 64, 67, 0.15);\n",
              "      fill: #174EA6;\n",
              "    }\n",
              "\n",
              "    [theme=dark] .colab-df-convert {\n",
              "      background-color: #3B4455;\n",
              "      fill: #D2E3FC;\n",
              "    }\n",
              "\n",
              "    [theme=dark] .colab-df-convert:hover {\n",
              "      background-color: #434B5C;\n",
              "      box-shadow: 0px 1px 3px 1px rgba(0, 0, 0, 0.15);\n",
              "      filter: drop-shadow(0px 1px 2px rgba(0, 0, 0, 0.3));\n",
              "      fill: #FFFFFF;\n",
              "    }\n",
              "  </style>\n",
              "\n",
              "      <script>\n",
              "        const buttonEl =\n",
              "          document.querySelector('#df-2aac32d3-be5c-4c2a-b8a5-448181cf079f button.colab-df-convert');\n",
              "        buttonEl.style.display =\n",
              "          google.colab.kernel.accessAllowed ? 'block' : 'none';\n",
              "\n",
              "        async function convertToInteractive(key) {\n",
              "          const element = document.querySelector('#df-2aac32d3-be5c-4c2a-b8a5-448181cf079f');\n",
              "          const dataTable =\n",
              "            await google.colab.kernel.invokeFunction('convertToInteractive',\n",
              "                                                     [key], {});\n",
              "          if (!dataTable) return;\n",
              "\n",
              "          const docLinkHtml = 'Like what you see? Visit the ' +\n",
              "            '<a target=\"_blank\" href=https://colab.research.google.com/notebooks/data_table.ipynb>data table notebook</a>'\n",
              "            + ' to learn more about interactive tables.';\n",
              "          element.innerHTML = '';\n",
              "          dataTable['output_type'] = 'display_data';\n",
              "          await google.colab.output.renderOutput(dataTable, element);\n",
              "          const docLink = document.createElement('div');\n",
              "          docLink.innerHTML = docLinkHtml;\n",
              "          element.appendChild(docLink);\n",
              "        }\n",
              "      </script>\n",
              "    </div>\n",
              "  </div>\n"
            ]
          },
          "metadata": {},
          "execution_count": 13
        }
      ]
    },
    {
      "cell_type": "code",
      "source": [
        "# Membuat kolom \"article_length\" untuk mendapatkan panjang artikel berta\n",
        "df['article_length'] = df['content_html'].apply(lambda row: len(row.split(' ')))"
      ],
      "metadata": {
        "id": "IbMG2n-gQfYl"
      },
      "execution_count": null,
      "outputs": []
    },
    {
      "cell_type": "code",
      "source": [
        "# Menamplikan scatterplot antara \"article_length\" dengan BERTScore\n",
        "sns.scatterplot(x=df['article_length'], y=df['BERTScore_wo_attention'])\n",
        "plt.xlabel('Panjang Artikel Berita')\n",
        "plt.ylabel('BERTScore')\n",
        "plt.xticks([i*10 for i in range(5,51,5)])\n",
        "plt.title('Scatterplot Antara Panjang Artikel dengan BERTScore (Model Tanpa Atensi)')\n",
        "plt.grid()\n",
        "plt.show()"
      ],
      "metadata": {
        "colab": {
          "base_uri": "https://localhost:8080/",
          "height": 472
        },
        "id": "zfG3Q6vlQlBN",
        "outputId": "07a8663a-2325-4f07-fa4e-875e7b725da0"
      },
      "execution_count": null,
      "outputs": [
        {
          "output_type": "display_data",
          "data": {
            "text/plain": [
              "<Figure size 640x480 with 1 Axes>"
            ],
            "image/png": "[encoded data removed]"
          },
          "metadata": {}
        }
      ]
    },
    {
      "cell_type": "code",
      "source": [
        "# Menampilkan distribusi BERTScore\n",
        "sns.histplot(df['BERTScore_wo_attention'])\n",
        "plt.title('Distribusi BERTScore Model tanpa Mekanisme Atensi')\n",
        "plt.xlabel('BERTScore')\n",
        "plt.ylabel('Jumlah Artikel')\n",
        "plt.grid()\n",
        "plt.show()"
      ],
      "metadata": {
        "colab": {
          "base_uri": "https://localhost:8080/",
          "height": 472
        },
        "id": "4tyDBspZQqKh",
        "outputId": "d73802a5-2d6a-4bc6-dadf-09c7b92e9847"
      },
      "execution_count": null,
      "outputs": [
        {
          "output_type": "display_data",
          "data": {
            "text/plain": [
              "<Figure size 640x480 with 1 Axes>"
            ],
            "image/png": "[encoded data removed]"
          },
          "metadata": {}
        }
      ]
    },
    {
      "cell_type": "markdown",
      "source": [
        "# Contoh untuk Buku TA"
      ],
      "metadata": {
        "id": "eG7uu5vnRSHM"
      }
    },
    {
      "cell_type": "code",
      "source": [
        "# Mengurutkan nilai BERTScore\n",
        "df['BERTScore_wo_attention'].sort_values(ascending=False)"
      ],
      "metadata": {
        "colab": {
          "base_uri": "https://localhost:8080/"
        },
        "id": "ENH_PUMJQ7l1",
        "outputId": "e36dafef-d983-49d3-a8b8-4d9502272b4f"
      },
      "execution_count": null,
      "outputs": [
        {
          "output_type": "execute_result",
          "data": {
            "text/plain": [
              "637    0.691448\n",
              "488    0.681326\n",
              "458    0.679688\n",
              "316    0.677923\n",
              "948    0.677896\n",
              "         ...   \n",
              "311    0.533885\n",
              "14     0.531883\n",
              "324    0.530949\n",
              "326    0.528224\n",
              "791    0.522657\n",
              "Name: BERTScore_wo_attention, Length: 1000, dtype: float64"
            ]
          },
          "metadata": {},
          "execution_count": 19
        }
      ]
    },
    {
      "cell_type": "code",
      "source": [
        "df"
      ],
      "metadata": {
        "colab": {
          "base_uri": "https://localhost:8080/",
          "height": 423
        },
        "id": "b8Innr8MjCUA",
        "outputId": "94cc601a-4e28-4efc-b485-570a08f66763"
      },
      "execution_count": null,
      "outputs": [
        {
          "output_type": "execute_result",
          "data": {
            "text/plain": [
              "     Unnamed: 0                                              title  \\\n",
              "0         35126  <start> pejabat pt pal tertangkap kpk, kemente...   \n",
              "1         83037  <start> dua buruh bangunan isap sabu alasannya...   \n",
              "2          3235  <start> bus wisata bogor 'uncal' beroperasi se...   \n",
              "3          8349  <start> tanggapi kicauan sby, jokowi: kita har...   \n",
              "4         10255  <start> ini bukti yang disita kpk saat tangkap...   \n",
              "..          ...                                                ...   \n",
              "995       71931  <start> duh, indeks kebahagiaan orang indonesi...   \n",
              "996       86855  <start> elon musk bandingkan kecerdasan buatan...   \n",
              "997       83518  <start> ribuan santri banyumas aksi tolak prog...   \n",
              "998       65796  <start> h-5 lebaran, kalimalang mulai ramai di...   \n",
              "999       19304  <start> kasus ahok, bivitri: pemberhentian tak...   \n",
              "\n",
              "                                          content_html  \\\n",
              "0    kementerian badan usaha milik negara akan meni...   \n",
              "1    dian suchairi warga jl kamboja, desa bandar kh...   \n",
              "2    jalan utama di sekitar istana bogor dan kebun ...   \n",
              "3    presiden joko widodo menanggapi dingin kicauan...   \n",
              "4    undang nomor 41 tahun 2014 tentang peternakan ...   \n",
              "..                                                 ...   \n",
              "995  indeks kebahagiaan rata ratamanusia indonesia ...   \n",
              "996  bos spacex, , menyebut lebih berbahaya ketimba...   \n",
              "997  ribuan massa nahdliyin di kabupaten banyumas m...   \n",
              "998  arus lalu lintas di sisi kalimalang, bekasi, k...   \n",
              "999  pakar hukum tata negara bivitri susanti mengat...   \n",
              "\n",
              "                                    title_wo_attention  BERTScore_wo_attention  \n",
              "0    pemerintah akan tindak tegas pelaku korupsi di...                0.617203  \n",
              "1               warga tapos depok temukan pistol ak 47                0.545550  \n",
              "2    jokowi akan mampir ke ambon dengan cek sepatu ...                0.582675  \n",
              "3    jokowi pemblokiran media sosial, bukan media s...                0.583129  \n",
              "4         patrialis akbar ditangkap kpk, ini alasannya                0.646702  \n",
              "..                                                 ...                     ...  \n",
              "995  indonesia timur jadi brand industri perdaganga...                0.583171  \n",
              "996           facebook luncurkan fitur untuk tes dna                  0.584896  \n",
              "997  ribuan warga unjuk rasa di depan istana merdek...                0.613402  \n",
              "998      pemudik motor dilarang melintas di tol cipali                0.580182  \n",
              "999  hakim minta mendagri berhentikan sementara hak...                0.574553  \n",
              "\n",
              "[1000 rows x 5 columns]"
            ],
            "text/html": [
              "\n",
              "\n",
              "  <div id=\"df-de22797f-56a4-414c-8daa-d73f9fa21a8b\">\n",
              "    <div class=\"colab-df-container\">\n",
              "      <div>\n",
              "<style scoped>\n",
              "    .dataframe tbody tr th:only-of-type {\n",
              "        vertical-align: middle;\n",
              "    }\n",
              "\n",
              "    .dataframe tbody tr th {\n",
              "        vertical-align: top;\n",
              "    }\n",
              "\n",
              "    .dataframe thead th {\n",
              "        text-align: right;\n",
              "    }\n",
              "</style>\n",
              "<table border=\"1\" class=\"dataframe\">\n",
              "  <thead>\n",
              "    <tr style=\"text-align: right;\">\n",
              "      <th></th>\n",
              "      <th>Unnamed: 0</th>\n",
              "      <th>title</th>\n",
              "      <th>content_html</th>\n",
              "      <th>title_wo_attention</th>\n",
              "      <th>BERTScore_wo_attention</th>\n",
              "    </tr>\n",
              "  </thead>\n",
              "  <tbody>\n",
              "    <tr>\n",
              "      <th>0</th>\n",
              "      <td>35126</td>\n",
              "      <td>&lt;start&gt; pejabat pt pal tertangkap kpk, kemente...</td>\n",
              "      <td>kementerian badan usaha milik negara akan meni...</td>\n",
              "      <td>pemerintah akan tindak tegas pelaku korupsi di...</td>\n",
              "      <td>0.617203</td>\n",
              "    </tr>\n",
              "    <tr>\n",
              "      <th>1</th>\n",
              "      <td>83037</td>\n",
              "      <td>&lt;start&gt; dua buruh bangunan isap sabu alasannya...</td>\n",
              "      <td>dian suchairi warga jl kamboja, desa bandar kh...</td>\n",
              "      <td>warga tapos depok temukan pistol ak 47</td>\n",
              "      <td>0.545550</td>\n",
              "    </tr>\n",
              "    <tr>\n",
              "      <th>2</th>\n",
              "      <td>3235</td>\n",
              "      <td>&lt;start&gt; bus wisata bogor 'uncal' beroperasi se...</td>\n",
              "      <td>jalan utama di sekitar istana bogor dan kebun ...</td>\n",
              "      <td>jokowi akan mampir ke ambon dengan cek sepatu ...</td>\n",
              "      <td>0.582675</td>\n",
              "    </tr>\n",
              "    <tr>\n",
              "      <th>3</th>\n",
              "      <td>8349</td>\n",
              "      <td>&lt;start&gt; tanggapi kicauan sby, jokowi: kita har...</td>\n",
              "      <td>presiden joko widodo menanggapi dingin kicauan...</td>\n",
              "      <td>jokowi pemblokiran media sosial, bukan media s...</td>\n",
              "      <td>0.583129</td>\n",
              "    </tr>\n",
              "    <tr>\n",
              "      <th>4</th>\n",
              "      <td>10255</td>\n",
              "      <td>&lt;start&gt; ini bukti yang disita kpk saat tangkap...</td>\n",
              "      <td>undang nomor 41 tahun 2014 tentang peternakan ...</td>\n",
              "      <td>patrialis akbar ditangkap kpk, ini alasannya</td>\n",
              "      <td>0.646702</td>\n",
              "    </tr>\n",
              "    <tr>\n",
              "      <th>...</th>\n",
              "      <td>...</td>\n",
              "      <td>...</td>\n",
              "      <td>...</td>\n",
              "      <td>...</td>\n",
              "      <td>...</td>\n",
              "    </tr>\n",
              "    <tr>\n",
              "      <th>995</th>\n",
              "      <td>71931</td>\n",
              "      <td>&lt;start&gt; duh, indeks kebahagiaan orang indonesi...</td>\n",
              "      <td>indeks kebahagiaan rata ratamanusia indonesia ...</td>\n",
              "      <td>indonesia timur jadi brand industri perdaganga...</td>\n",
              "      <td>0.583171</td>\n",
              "    </tr>\n",
              "    <tr>\n",
              "      <th>996</th>\n",
              "      <td>86855</td>\n",
              "      <td>&lt;start&gt; elon musk bandingkan kecerdasan buatan...</td>\n",
              "      <td>bos spacex, , menyebut lebih berbahaya ketimba...</td>\n",
              "      <td>facebook luncurkan fitur untuk tes dna</td>\n",
              "      <td>0.584896</td>\n",
              "    </tr>\n",
              "    <tr>\n",
              "      <th>997</th>\n",
              "      <td>83518</td>\n",
              "      <td>&lt;start&gt; ribuan santri banyumas aksi tolak prog...</td>\n",
              "      <td>ribuan massa nahdliyin di kabupaten banyumas m...</td>\n",
              "      <td>ribuan warga unjuk rasa di depan istana merdek...</td>\n",
              "      <td>0.613402</td>\n",
              "    </tr>\n",
              "    <tr>\n",
              "      <th>998</th>\n",
              "      <td>65796</td>\n",
              "      <td>&lt;start&gt; h-5 lebaran, kalimalang mulai ramai di...</td>\n",
              "      <td>arus lalu lintas di sisi kalimalang, bekasi, k...</td>\n",
              "      <td>pemudik motor dilarang melintas di tol cipali</td>\n",
              "      <td>0.580182</td>\n",
              "    </tr>\n",
              "    <tr>\n",
              "      <th>999</th>\n",
              "      <td>19304</td>\n",
              "      <td>&lt;start&gt; kasus ahok, bivitri: pemberhentian tak...</td>\n",
              "      <td>pakar hukum tata negara bivitri susanti mengat...</td>\n",
              "      <td>hakim minta mendagri berhentikan sementara hak...</td>\n",
              "      <td>0.574553</td>\n",
              "    </tr>\n",
              "  </tbody>\n",
              "</table>\n",
              "<p>1000 rows × 5 columns</p>\n",
              "</div>\n",
              "      <button class=\"colab-df-convert\" onclick=\"convertToInteractive('df-de22797f-56a4-414c-8daa-d73f9fa21a8b')\"\n",
              "              title=\"Convert this dataframe to an interactive table.\"\n",
              "              style=\"display:none;\">\n",
              "\n",
              "  <svg xmlns=\"http://www.w3.org/2000/svg\" height=\"24px\"viewBox=\"0 0 24 24\"\n",
              "       width=\"24px\">\n",
              "    <path d=\"M0 0h24v24H0V0z\" fill=\"none\"/>\n",
              "    <path d=\"M18.56 5.44l.94 2.06.94-2.06 2.06-.94-2.06-.94-.94-2.06-.94 2.06-2.06.94zm-11 1L8.5 8.5l.94-2.06 2.06-.94-2.06-.94L8.5 2.5l-.94 2.06-2.06.94zm10 10l.94 2.06.94-2.06 2.06-.94-2.06-.94-.94-2.06-.94 2.06-2.06.94z\"/><path d=\"M17.41 7.96l-1.37-1.37c-.4-.4-.92-.59-1.43-.59-.52 0-1.04.2-1.43.59L10.3 9.45l-7.72 7.72c-.78.78-.78 2.05 0 2.83L4 21.41c.39.39.9.59 1.41.59.51 0 1.02-.2 1.41-.59l7.78-7.78 2.81-2.81c.8-.78.8-2.07 0-2.86zM5.41 20L4 18.59l7.72-7.72 1.47 1.35L5.41 20z\"/>\n",
              "  </svg>\n",
              "      </button>\n",
              "\n",
              "\n",
              "\n",
              "    <div id=\"df-c4be552c-0e1e-41f3-88f6-0d89505b27d5\">\n",
              "      <button class=\"colab-df-quickchart\" onclick=\"quickchart('df-c4be552c-0e1e-41f3-88f6-0d89505b27d5')\"\n",
              "              title=\"Suggest charts.\"\n",
              "              style=\"display:none;\">\n",
              "\n",
              "<svg xmlns=\"http://www.w3.org/2000/svg\" height=\"24px\"viewBox=\"0 0 24 24\"\n",
              "     width=\"24px\">\n",
              "    <g>\n",
              "        <path d=\"M19 3H5c-1.1 0-2 .9-2 2v14c0 1.1.9 2 2 2h14c1.1 0 2-.9 2-2V5c0-1.1-.9-2-2-2zM9 17H7v-7h2v7zm4 0h-2V7h2v10zm4 0h-2v-4h2v4z\"/>\n",
              "    </g>\n",
              "</svg>\n",
              "      </button>\n",
              "    </div>\n",
              "\n",
              "<style>\n",
              "  .colab-df-quickchart {\n",
              "    background-color: #E8F0FE;\n",
              "    border: none;\n",
              "    border-radius: 50%;\n",
              "    cursor: pointer;\n",
              "    display: none;\n",
              "    fill: #1967D2;\n",
              "    height: 32px;\n",
              "    padding: 0 0 0 0;\n",
              "    width: 32px;\n",
              "  }\n",
              "\n",
              "  .colab-df-quickchart:hover {\n",
              "    background-color: #E2EBFA;\n",
              "    box-shadow: 0px 1px 2px rgba(60, 64, 67, 0.3), 0px 1px 3px 1px rgba(60, 64, 67, 0.15);\n",
              "    fill: #174EA6;\n",
              "  }\n",
              "\n",
              "  [theme=dark] .colab-df-quickchart {\n",
              "    background-color: #3B4455;\n",
              "    fill: #D2E3FC;\n",
              "  }\n",
              "\n",
              "  [theme=dark] .colab-df-quickchart:hover {\n",
              "    background-color: #434B5C;\n",
              "    box-shadow: 0px 1px 3px 1px rgba(0, 0, 0, 0.15);\n",
              "    filter: drop-shadow(0px 1px 2px rgba(0, 0, 0, 0.3));\n",
              "    fill: #FFFFFF;\n",
              "  }\n",
              "</style>\n",
              "\n",
              "    <script>\n",
              "      async function quickchart(key) {\n",
              "        const containerElement = document.querySelector('#' + key);\n",
              "        const charts = await google.colab.kernel.invokeFunction(\n",
              "            'suggestCharts', [key], {});\n",
              "      }\n",
              "    </script>\n",
              "\n",
              "      <script>\n",
              "\n",
              "function displayQuickchartButton(domScope) {\n",
              "  let quickchartButtonEl =\n",
              "    domScope.querySelector('#df-c4be552c-0e1e-41f3-88f6-0d89505b27d5 button.colab-df-quickchart');\n",
              "  quickchartButtonEl.style.display =\n",
              "    google.colab.kernel.accessAllowed ? 'block' : 'none';\n",
              "}\n",
              "\n",
              "        displayQuickchartButton(document);\n",
              "      </script>\n",
              "      <style>\n",
              "    .colab-df-container {\n",
              "      display:flex;\n",
              "      flex-wrap:wrap;\n",
              "      gap: 12px;\n",
              "    }\n",
              "\n",
              "    .colab-df-convert {\n",
              "      background-color: #E8F0FE;\n",
              "      border: none;\n",
              "      border-radius: 50%;\n",
              "      cursor: pointer;\n",
              "      display: none;\n",
              "      fill: #1967D2;\n",
              "      height: 32px;\n",
              "      padding: 0 0 0 0;\n",
              "      width: 32px;\n",
              "    }\n",
              "\n",
              "    .colab-df-convert:hover {\n",
              "      background-color: #E2EBFA;\n",
              "      box-shadow: 0px 1px 2px rgba(60, 64, 67, 0.3), 0px 1px 3px 1px rgba(60, 64, 67, 0.15);\n",
              "      fill: #174EA6;\n",
              "    }\n",
              "\n",
              "    [theme=dark] .colab-df-convert {\n",
              "      background-color: #3B4455;\n",
              "      fill: #D2E3FC;\n",
              "    }\n",
              "\n",
              "    [theme=dark] .colab-df-convert:hover {\n",
              "      background-color: #434B5C;\n",
              "      box-shadow: 0px 1px 3px 1px rgba(0, 0, 0, 0.15);\n",
              "      filter: drop-shadow(0px 1px 2px rgba(0, 0, 0, 0.3));\n",
              "      fill: #FFFFFF;\n",
              "    }\n",
              "  </style>\n",
              "\n",
              "      <script>\n",
              "        const buttonEl =\n",
              "          document.querySelector('#df-de22797f-56a4-414c-8daa-d73f9fa21a8b button.colab-df-convert');\n",
              "        buttonEl.style.display =\n",
              "          google.colab.kernel.accessAllowed ? 'block' : 'none';\n",
              "\n",
              "        async function convertToInteractive(key) {\n",
              "          const element = document.querySelector('#df-de22797f-56a4-414c-8daa-d73f9fa21a8b');\n",
              "          const dataTable =\n",
              "            await google.colab.kernel.invokeFunction('convertToInteractive',\n",
              "                                                     [key], {});\n",
              "          if (!dataTable) return;\n",
              "\n",
              "          const docLinkHtml = 'Like what you see? Visit the ' +\n",
              "            '<a target=\"_blank\" href=https://colab.research.google.com/notebooks/data_table.ipynb>data table notebook</a>'\n",
              "            + ' to learn more about interactive tables.';\n",
              "          element.innerHTML = '';\n",
              "          dataTable['output_type'] = 'display_data';\n",
              "          await google.colab.output.renderOutput(dataTable, element);\n",
              "          const docLink = document.createElement('div');\n",
              "          docLink.innerHTML = docLinkHtml;\n",
              "          element.appendChild(docLink);\n",
              "        }\n",
              "      </script>\n",
              "    </div>\n",
              "  </div>\n"
            ]
          },
          "metadata": {},
          "execution_count": 15
        }
      ]
    },
    {
      "cell_type": "code",
      "source": [
        "# Menghilangkan <start> dan <end> dari judul\n",
        "\n",
        "## Definisikan fungsi untuk menghilangkan <start> dan <end>\n",
        "def remove_start_end(title):\n",
        "  return \" \".join([word for word in title.split(' ') if word not in ['<start>','<end>']])\n",
        "\n",
        "# Mengaplikasikan fungsi di atas ke seluruh judul\n",
        "df['title'] = df['title'].apply(lambda row: remove_start_end(row))"
      ],
      "metadata": {
        "id": "UUjJv4g9SUZX"
      },
      "execution_count": null,
      "outputs": []
    },
    {
      "cell_type": "markdown",
      "source": [
        "## Contoh Pertama"
      ],
      "metadata": {
        "id": "cEEvPawbSnBa"
      }
    },
    {
      "cell_type": "code",
      "source": [
        "# Menampilkan isi artikel berita\n",
        "content = df['content_html'].iloc[637]\n",
        "content = textwrap.fill(content, width=100)\n",
        "\n",
        "print('Isi Artikel Berita:')\n",
        "print(content)"
      ],
      "metadata": {
        "colab": {
          "base_uri": "https://localhost:8080/"
        },
        "id": "Nl2GONW2Sgw9",
        "outputId": "30126f85-ead7-4fef-e032-6fe4a94efe2b"
      },
      "execution_count": null,
      "outputs": [
        {
          "output_type": "stream",
          "name": "stdout",
          "text": [
            "Isi Artikel Berita:\n",
            "calon gubernur dki jakarta, , mengatakan bahwa pembangunan yang seharusnya dilakukan bukan hanya\n",
            "soal pembangunan fisik dan kota yang megah. jika hanya membangun fisik, kata anies, raja mesir kuno\n",
            "firaun juga bisa melakukannya sejak dulu. kalau hanya membangun kota yang megah, maka firaun pun\n",
            "dulu bisa membangun kota yang megah, tetapi menghadirkan keadilan, nah itu enggak bisa karena di\n",
            "sana enggak ada, ujar anies di kelurahan jati, pulogadung, jakarta timur, selasa\n"
          ]
        }
      ]
    },
    {
      "cell_type": "code",
      "source": [
        "# Menampilkan judul asli\n",
        "print('Judul Asli:')\n",
        "print(df['title'].iloc[637])"
      ],
      "metadata": {
        "colab": {
          "base_uri": "https://localhost:8080/"
        },
        "id": "QJ2XNWRlSyP3",
        "outputId": "99ece9fb-cf4d-4597-96c0-e02e84836bcb"
      },
      "execution_count": null,
      "outputs": [
        {
          "output_type": "stream",
          "name": "stdout",
          "text": [
            "Judul Asli:\n",
            "anies: kalau hanya bangun kota yang megah, firaun pun dulu bisa\n"
          ]
        }
      ]
    },
    {
      "cell_type": "code",
      "source": [
        "# Menampilkan judul keluaran model tanpa mekanisme atensi\n",
        "print('Judul Keluaran Model tanpa Mekanisme Atensi:')\n",
        "generate_title_without_attention(df['content_html'].iloc[637])"
      ],
      "metadata": {
        "colab": {
          "base_uri": "https://localhost:8080/",
          "height": 71
        },
        "id": "ZA_tEdcbS37Q",
        "outputId": "0791a660-0caa-402b-88c0-f8d5a9b69791"
      },
      "execution_count": null,
      "outputs": [
        {
          "output_type": "stream",
          "name": "stdout",
          "text": [
            "Judul Keluaran Model tanpa Mekanisme Atensi:\n",
            "1/1 [==============================] - 0s 403ms/step\n"
          ]
        },
        {
          "output_type": "execute_result",
          "data": {
            "text/plain": [
              "'anies ingin hidupkan pembangunan permukiman di jakarta timur'"
            ],
            "application/vnd.google.colaboratory.intrinsic+json": {
              "type": "string"
            }
          },
          "metadata": {},
          "execution_count": 31
        }
      ]
    },
    {
      "cell_type": "code",
      "source": [
        "generate_title_without_attention(df['content_html'].iloc[637])"
      ],
      "metadata": {
        "colab": {
          "base_uri": "https://localhost:8080/",
          "height": 53
        },
        "id": "95mYwfzUjKBQ",
        "outputId": "b5629a43-f7d3-4711-a54e-61028c5bc57d"
      },
      "execution_count": null,
      "outputs": [
        {
          "output_type": "stream",
          "name": "stdout",
          "text": [
            "1/1 [==============================] - 7s 7s/step\n"
          ]
        },
        {
          "output_type": "execute_result",
          "data": {
            "text/plain": [
              "'anies ingin hidupkan pembangunan permukiman di jakarta timur'"
            ],
            "application/vnd.google.colaboratory.intrinsic+json": {
              "type": "string"
            }
          },
          "metadata": {},
          "execution_count": 19
        }
      ]
    },
    {
      "cell_type": "markdown",
      "source": [
        "## Contoh Kedua"
      ],
      "metadata": {
        "id": "qw7KbNupTMJ8"
      }
    },
    {
      "cell_type": "code",
      "source": [
        "# Menampilkan isi artikel berita\n",
        "content = df['content_html'].iloc[488]\n",
        "content = textwrap.fill(content, width=100)\n",
        "\n",
        "print('Isi Artikel Berita:')\n",
        "print(content)"
      ],
      "metadata": {
        "colab": {
          "base_uri": "https://localhost:8080/"
        },
        "id": "BQ3xG1wnS-Ty",
        "outputId": "ab12c6c6-0e54-4a83-f36e-a11e1cc52031"
      },
      "execution_count": null,
      "outputs": [
        {
          "output_type": "stream",
          "name": "stdout",
          "text": [
            "Isi Artikel Berita:\n",
            "posko darurat disiagakan di beberapa titik di wilayah jalur yang biasa dilintasi para pemudik. satu\n",
            "di antaranya berada di . hal tersebut dinyatakan dalam acara apel ramadania 2017 di silang monas,\n",
            "jakarta pusat, senin . tito menjelaskan, dalam posko tersebut disiapkan tenaga medis, montir, bensin\n",
            "keliling, anggota kepolisian, dan anggota tni. posko tersebut dimaksudkan untuk melayani masyarakat\n",
            "yang mengalami kesulitan, bila terjadi kemacetan parah dalam perjalanan\n"
          ]
        }
      ]
    },
    {
      "cell_type": "code",
      "source": [
        "# Menampilkan judul asli\n",
        "print('Judul Asli:')\n",
        "print(df['title'].iloc[488])"
      ],
      "metadata": {
        "colab": {
          "base_uri": "https://localhost:8080/"
        },
        "id": "lubp9w_RTRWB",
        "outputId": "3fa4b831-78c5-4385-db79-036f8ec12ae4"
      },
      "execution_count": null,
      "outputs": [
        {
          "output_type": "stream",
          "name": "stdout",
          "text": [
            "Judul Asli:\n",
            "montir hingga tenaga medis disiagakan di posko darurat untuk bantu pemudik\n"
          ]
        }
      ]
    },
    {
      "cell_type": "code",
      "source": [
        "# Menampilkan judul keluaran model tanpa mekanisme atensi\n",
        "print('Judul Keluaran Model tanpa Mekanisme Atensi:')\n",
        "generate_title_without_attention(df['content_html'].iloc[488])"
      ],
      "metadata": {
        "colab": {
          "base_uri": "https://localhost:8080/",
          "height": 71
        },
        "id": "OasiRjp7TTWM",
        "outputId": "51c3868c-5716-4ac9-9531-8809fd030927"
      },
      "execution_count": null,
      "outputs": [
        {
          "output_type": "stream",
          "name": "stdout",
          "text": [
            "Judul Keluaran Model tanpa Mekanisme Atensi:\n",
            "1/1 [==============================] - 0s 368ms/step\n"
          ]
        },
        {
          "output_type": "execute_result",
          "data": {
            "text/plain": [
              "'ratusan polisi dikerahkan untuk bantu urai kemacetan di jalur mudik'"
            ],
            "application/vnd.google.colaboratory.intrinsic+json": {
              "type": "string"
            }
          },
          "metadata": {},
          "execution_count": 32
        }
      ]
    },
    {
      "cell_type": "markdown",
      "source": [
        "## Contoh Ketiga"
      ],
      "metadata": {
        "id": "obFuuYfhjSfp"
      }
    },
    {
      "cell_type": "code",
      "source": [
        "# Menampilkan isi artikel berita\n",
        "content = df['content_html'].iloc[458]\n",
        "content = textwrap.fill(content, width=100)\n",
        "\n",
        "print('Isi Artikel Berita:')\n",
        "print(content)"
      ],
      "metadata": {
        "colab": {
          "base_uri": "https://localhost:8080/"
        },
        "id": "GJiuKwxUjk7s",
        "outputId": "58040e5b-268f-4bb1-b030-ad0a5c6bf0b6"
      },
      "execution_count": null,
      "outputs": [
        {
          "output_type": "stream",
          "name": "stdout",
          "text": [
            "Isi Artikel Berita:\n",
            ", jakarta aksi teror terbaru yang melanda prancis terjadi di kawasan champs elysees, senin 19 juni\n",
            "2017 sore waktu setempat. seorang pria nekat menabrakkan mobil yang dikendarainya ke arah mobil\n",
            "polisi. namun, aksi teror ini dapat digagalkan oleh petugas kepolisian dan keamanan prancis. tidak\n",
            "ada korban tewas ataupun luka dari polisi maupun warga dalam aksi teror ini. pelaku sendiri akhirnya\n",
            "tewas setelah polisi menghentikan mobilnya. dari dalam mobil pelaku, polisi menemukan sejumlah\n",
            "senjata dan bahan peledak yang diduga akan digunakan untuk melakukan serangan besar di paris\n"
          ]
        }
      ]
    },
    {
      "cell_type": "code",
      "source": [
        "# Menampilkan judul asli\n",
        "print('Judul Asli:')\n",
        "print(df['title'].iloc[458])"
      ],
      "metadata": {
        "colab": {
          "base_uri": "https://localhost:8080/"
        },
        "id": "KfK5f0Yojrkq",
        "outputId": "6eca609d-3ec2-4061-aac7-2fd7de685886"
      },
      "execution_count": null,
      "outputs": [
        {
          "output_type": "stream",
          "name": "stdout",
          "text": [
            "Judul Asli:\n",
            "serangan teror di paris, pelaku tabrakan mobilnya ke arah polisi\n"
          ]
        }
      ]
    },
    {
      "cell_type": "code",
      "source": [
        "# Menampilkan judul keluaran model tanpa mekanisme atensi\n",
        "print('Judul Keluaran Model tanpa Mekanisme Atensi:')\n",
        "generate_title_without_attention(df['content_html'].iloc[458])"
      ],
      "metadata": {
        "colab": {
          "base_uri": "https://localhost:8080/",
          "height": 71
        },
        "id": "HXjkecoojvXG",
        "outputId": "8d1fd059-5460-4967-8bc4-6d7b6f944d3f"
      },
      "execution_count": null,
      "outputs": [
        {
          "output_type": "stream",
          "name": "stdout",
          "text": [
            "Judul Keluaran Model tanpa Mekanisme Atensi:\n",
            "1/1 [==============================] - 0s 192ms/step\n"
          ]
        },
        {
          "output_type": "execute_result",
          "data": {
            "text/plain": [
              "'bom mobil meledak di dekat kantor polisi, pria ini tewas'"
            ],
            "application/vnd.google.colaboratory.intrinsic+json": {
              "type": "string"
            }
          },
          "metadata": {},
          "execution_count": 22
        }
      ]
    },
    {
      "cell_type": "code",
      "source": [
        "# Definisikan beberapa nilai pengaturan hyperparameter\n",
        "input_size_article = 665676\n",
        "input_size_title = 86847\n",
        "max_len_content = 500\n",
        "max_len_title = 15\n",
        "hidden_size = 200\n",
        "embedding_dim = 150\n",
        "batch_size = 128\n",
        "epochs = 10\n",
        "dropout_rate = 0.4"
      ],
      "metadata": {
        "id": "OI8SwjvFTuCQ"
      },
      "execution_count": null,
      "outputs": []
    },
    {
      "cell_type": "code",
      "source": [
        "!pip freeze"
      ],
      "metadata": {
        "colab": {
          "base_uri": "https://localhost:8080/"
        },
        "id": "V6pZQ3ck--QY",
        "outputId": "d058bdd6-7217-4178-d1fd-53a3b8b72a57"
      },
      "execution_count": null,
      "outputs": [
        {
          "output_type": "stream",
          "name": "stdout",
          "text": [
            "absl-py==1.4.0\n",
            "aiohttp==3.8.4\n",
            "aiosignal==1.3.1\n",
            "alabaster==0.7.13\n",
            "albumentations==1.2.1\n",
            "altair==4.2.2\n",
            "anyio==3.7.1\n",
            "appdirs==1.4.4\n",
            "argon2-cffi==21.3.0\n",
            "argon2-cffi-bindings==21.2.0\n",
            "array-record==0.4.0\n",
            "arviz==0.15.1\n",
            "astropy==5.2.2\n",
            "astunparse==1.6.3\n",
            "async-timeout==4.0.2\n",
            "attrs==23.1.0\n",
            "audioread==3.0.0\n",
            "autograd==1.6.2\n",
            "Babel==2.12.1\n",
            "backcall==0.2.0\n",
            "beautifulsoup4==4.11.2\n",
            "bleach==6.0.0\n",
            "blinker==1.4\n",
            "blis==0.7.9\n",
            "blosc2==2.0.0\n",
            "bokeh==2.4.3\n",
            "branca==0.6.0\n",
            "build==0.10.0\n",
            "CacheControl==0.13.1\n",
            "cachetools==5.3.1\n",
            "catalogue==2.0.8\n",
            "certifi==2023.5.7\n",
            "cffi==1.15.1\n",
            "chardet==4.0.0\n",
            "charset-normalizer==2.0.12\n",
            "chex==0.1.7\n",
            "click==8.1.6\n",
            "click-plugins==1.1.1\n",
            "cligj==0.7.2\n",
            "cloudpickle==2.2.1\n",
            "cmake==3.25.2\n",
            "cmdstanpy==1.1.0\n",
            "colorcet==3.0.1\n",
            "colorlover==0.3.0\n",
            "community==1.0.0b1\n",
            "confection==0.1.0\n",
            "cons==0.4.6\n",
            "contextlib2==21.6.0\n",
            "contourpy==1.1.0\n",
            "convertdate==2.4.0\n",
            "cryptography==3.4.8\n",
            "cufflinks==0.17.3\n",
            "cvxopt==1.3.1\n",
            "cvxpy==1.3.2\n",
            "cycler==0.11.0\n",
            "cymem==2.0.7\n",
            "Cython==0.29.36\n",
            "dask==2022.12.1\n",
            "datascience==0.17.6\n",
            "db-dtypes==1.1.1\n",
            "dbus-python==1.2.18\n",
            "debugpy==1.6.6\n",
            "decorator==4.4.2\n",
            "defusedxml==0.7.1\n",
            "distributed==2022.12.1\n",
            "distro==1.7.0\n",
            "dlib==19.24.2\n",
            "dm-tree==0.1.8\n",
            "docutils==0.16\n",
            "dopamine-rl==4.0.6\n",
            "duckdb==0.8.1\n",
            "earthengine-api==0.1.358\n",
            "easydict==1.10\n",
            "ecos==2.0.12\n",
            "editdistance==0.6.2\n",
            "en-core-web-sm @ https://github.com/explosion/spacy-models/releases/download/en_core_web_sm-3.5.0/en_core_web_sm-3.5.0-py3-none-any.whl#sha256=0964370218b7e1672a30ac50d72cdc6b16f7c867496f1d60925691188f4d2510\n",
            "entrypoints==0.4\n",
            "ephem==4.1.4\n",
            "et-xmlfile==1.1.0\n",
            "etils==1.3.0\n",
            "etuples==0.3.9\n",
            "exceptiongroup==1.1.2\n",
            "fastai==2.7.12\n",
            "fastcore==1.5.29\n",
            "fastdownload==0.0.7\n",
            "fastjsonschema==2.17.1\n",
            "fastprogress==1.0.3\n",
            "fastrlock==0.8.1\n",
            "filelock==3.12.2\n",
            "Fiona==1.9.4.post1\n",
            "firebase-admin==5.3.0\n",
            "Flask==2.2.5\n",
            "flatbuffers==23.5.26\n",
            "flax==0.7.0\n",
            "folium==0.14.0\n",
            "fonttools==4.41.0\n",
            "frozendict==2.3.8\n",
            "frozenlist==1.4.0\n",
            "fsspec==2023.6.0\n",
            "future==0.18.3\n",
            "gast==0.4.0\n",
            "gcsfs==2023.6.0\n",
            "GDAL==3.4.3\n",
            "gdown==4.6.6\n",
            "gensim==4.3.1\n",
            "geographiclib==2.0\n",
            "geopandas==0.13.2\n",
            "geopy==2.3.0\n",
            "gin-config==0.5.0\n",
            "glob2==0.7\n",
            "google==2.0.3\n",
            "google-api-core==2.11.1\n",
            "google-api-python-client==2.84.0\n",
            "google-auth==2.17.3\n",
            "google-auth-httplib2==0.1.0\n",
            "google-auth-oauthlib==1.0.0\n",
            "google-cloud-bigquery==3.10.0\n",
            "google-cloud-bigquery-connection==1.12.1\n",
            "google-cloud-bigquery-storage==2.22.0\n",
            "google-cloud-core==2.3.3\n",
            "google-cloud-datastore==2.15.2\n",
            "google-cloud-firestore==2.11.1\n",
            "google-cloud-functions==1.13.1\n",
            "google-cloud-language==2.9.1\n",
            "google-cloud-storage==2.8.0\n",
            "google-cloud-translate==3.11.2\n",
            "google-colab @ file:///colabtools/dist/google-colab-1.0.0.tar.gz#sha256=fd063b941a094314f70e5d198209822b7ca0f660e0407eb015d18eab5071654a\n",
            "google-crc32c==1.5.0\n",
            "google-pasta==0.2.0\n",
            "google-resumable-media==2.5.0\n",
            "googleapis-common-protos==1.59.1\n",
            "googledrivedownloader==0.4\n",
            "graphviz==0.20.1\n",
            "greenlet==2.0.2\n",
            "grpc-google-iam-v1==0.12.6\n",
            "grpcio==1.56.0\n",
            "grpcio-status==1.48.2\n",
            "gspread==3.4.2\n",
            "gspread-dataframe==3.3.1\n",
            "gym==0.25.2\n",
            "gym-notices==0.0.8\n",
            "h5netcdf==1.2.0\n",
            "h5py==3.8.0\n",
            "holidays==0.29\n",
            "holoviews==1.15.4\n",
            "html5lib==1.1\n",
            "httpimport==1.3.0\n",
            "httplib2==0.21.0\n",
            "humanize==4.6.0\n",
            "hyperopt==0.2.7\n",
            "idna==3.4\n",
            "imageio==2.25.1\n",
            "imageio-ffmpeg==0.4.8\n",
            "imagesize==1.4.1\n",
            "imbalanced-learn==0.10.1\n",
            "imgaug==0.4.0\n",
            "importlib-metadata==4.6.4\n",
            "importlib-resources==6.0.0\n",
            "imutils==0.5.4\n",
            "inflect==6.0.5\n",
            "iniconfig==2.0.0\n",
            "intel-openmp==2023.2.0\n",
            "ipykernel==5.5.6\n",
            "ipython==7.34.0\n",
            "ipython-genutils==0.2.0\n",
            "ipython-sql==0.4.1\n",
            "ipywidgets==7.7.1\n",
            "itsdangerous==2.1.2\n",
            "jax==0.4.13\n",
            "jaxlib @ https://storage.googleapis.com/jax-releases/cuda11/jaxlib-0.4.13+cuda11.cudnn86-cp310-cp310-manylinux2014_x86_64.whl#sha256=af30095a0adf342b837a0ed9607e13177ee66f4e654c031a383aa546cd21d815\n",
            "jeepney==0.7.1\n",
            "jieba==0.42.1\n",
            "Jinja2==3.1.2\n",
            "joblib==1.3.1\n",
            "jsonpickle==3.0.1\n",
            "jsonschema==4.3.3\n",
            "jupyter-client==6.1.12\n",
            "jupyter-console==6.1.0\n",
            "jupyter-server==1.24.0\n",
            "jupyter_core==5.3.1\n",
            "jupyterlab-pygments==0.2.2\n",
            "jupyterlab-widgets==3.0.8\n",
            "kaggle==1.5.16\n",
            "keras==2.12.0\n",
            "keyring==23.5.0\n",
            "kiwisolver==1.4.4\n",
            "langcodes==3.3.0\n",
            "launchpadlib==1.10.16\n",
            "lazr.restfulclient==0.14.4\n",
            "lazr.uri==1.0.6\n",
            "lazy_loader==0.3\n",
            "libclang==16.0.6\n",
            "librosa==0.10.0.post2\n",
            "lightgbm==3.3.5\n",
            "lit==16.0.6\n",
            "llvmlite==0.39.1\n",
            "locket==1.0.0\n",
            "logical-unification==0.4.6\n",
            "LunarCalendar==0.0.9\n",
            "lxml==4.9.3\n",
            "Markdown==3.4.3\n",
            "markdown-it-py==3.0.0\n",
            "MarkupSafe==2.1.3\n",
            "matplotlib==3.7.1\n",
            "matplotlib-inline==0.1.6\n",
            "matplotlib-venn==0.11.9\n",
            "mdurl==0.1.2\n",
            "miniKanren==1.0.3\n",
            "missingno==0.5.2\n",
            "mistune==0.8.4\n",
            "mizani==0.8.1\n",
            "mkl==2019.0\n",
            "ml-dtypes==0.2.0\n",
            "mlxtend==0.22.0\n",
            "more-itertools==9.1.0\n",
            "moviepy==1.0.3\n",
            "mpmath==1.3.0\n",
            "msgpack==1.0.5\n",
            "multidict==6.0.4\n",
            "multipledispatch==1.0.0\n",
            "multitasking==0.0.11\n",
            "murmurhash==1.0.9\n",
            "music21==8.1.0\n",
            "natsort==8.3.1\n",
            "nbclient==0.8.0\n",
            "nbconvert==6.5.4\n",
            "nbformat==5.9.1\n",
            "nest-asyncio==1.5.6\n",
            "networkx==3.1\n",
            "nibabel==3.0.2\n",
            "nltk==3.8.1\n",
            "notebook==6.4.8\n",
            "numba==0.56.4\n",
            "numexpr==2.8.4\n",
            "numpy==1.22.4\n",
            "oauth2client==4.1.3\n",
            "oauthlib==3.2.2\n",
            "opencv-contrib-python==4.7.0.72\n",
            "opencv-python==4.7.0.72\n",
            "opencv-python-headless==4.8.0.74\n",
            "openpyxl==3.0.10\n",
            "opt-einsum==3.3.0\n",
            "optax==0.1.5\n",
            "orbax-checkpoint==0.2.7\n",
            "osqp==0.6.2.post8\n",
            "packaging==23.1\n",
            "palettable==3.3.3\n",
            "pandas==1.5.3\n",
            "pandas-datareader==0.10.0\n",
            "pandas-gbq==0.17.9\n",
            "pandocfilters==1.5.0\n",
            "panel==0.14.4\n",
            "param==1.13.0\n",
            "parso==0.8.3\n",
            "partd==1.4.0\n",
            "pathlib==1.0.1\n",
            "pathy==0.10.2\n",
            "patsy==0.5.3\n",
            "pexpect==4.8.0\n",
            "pickleshare==0.7.5\n",
            "Pillow==8.4.0\n",
            "pip-tools==6.13.0\n",
            "platformdirs==3.9.1\n",
            "plotly==5.13.1\n",
            "plotnine==0.10.1\n",
            "pluggy==1.2.0\n",
            "polars==0.17.3\n",
            "pooch==1.6.0\n",
            "portpicker==1.5.2\n",
            "prefetch-generator==1.0.3\n",
            "preshed==3.0.8\n",
            "prettytable==0.7.2\n",
            "proglog==0.1.10\n",
            "progressbar2==4.2.0\n",
            "prometheus-client==0.17.1\n",
            "promise==2.3\n",
            "prompt-toolkit==3.0.39\n",
            "prophet==1.1.4\n",
            "proto-plus==1.22.3\n",
            "protobuf==3.20.3\n",
            "psutil==5.9.5\n",
            "psycopg2==2.9.6\n",
            "ptyprocess==0.7.0\n",
            "py-cpuinfo==9.0.0\n",
            "py4j==0.10.9.7\n",
            "pyarrow==9.0.0\n",
            "pyasn1==0.5.0\n",
            "pyasn1-modules==0.3.0\n",
            "pycocotools==2.0.6\n",
            "pycparser==2.21\n",
            "pyct==0.5.0\n",
            "pydantic==1.10.11\n",
            "pydata-google-auth==1.8.1\n",
            "pydot==1.4.2\n",
            "pydot-ng==2.0.0\n",
            "pydotplus==2.0.2\n",
            "PyDrive==1.3.1\n",
            "pyerfa==2.0.0.3\n",
            "pygame==2.5.0\n",
            "Pygments==2.14.0\n",
            "PyGObject==3.42.1\n",
            "PyJWT==2.3.0\n",
            "pymc==5.1.2\n",
            "PyMeeus==0.5.12\n",
            "pymystem3==0.2.0\n",
            "PyOpenGL==3.1.7\n",
            "pyparsing==3.1.0\n",
            "pyproj==3.6.0\n",
            "pyproject_hooks==1.0.0\n",
            "pyrsistent==0.19.3\n",
            "PySocks==1.7.1\n",
            "pytensor==2.10.1\n",
            "pytest==7.2.2\n",
            "python-apt==0.0.0\n",
            "python-dateutil==2.8.2\n",
            "python-louvain==0.16\n",
            "python-slugify==8.0.1\n",
            "python-utils==3.7.0\n",
            "pytz==2022.7.1\n",
            "pyviz-comms==2.3.2\n",
            "PyWavelets==1.4.1\n",
            "PyYAML==6.0.1\n",
            "pyzmq==23.2.1\n",
            "qdldl==0.1.7.post0\n",
            "qudida==0.0.4\n",
            "regex==2022.10.31\n",
            "requests==2.27.1\n",
            "requests-oauthlib==1.3.1\n",
            "requirements-parser==0.5.0\n",
            "rich==13.4.2\n",
            "rpy2==3.5.5\n",
            "rsa==4.9\n",
            "scikit-image==0.19.3\n",
            "scikit-learn==1.2.2\n",
            "scipy==1.10.1\n",
            "scs==3.2.3\n",
            "seaborn==0.12.2\n",
            "SecretStorage==3.3.1\n",
            "Send2Trash==1.8.2\n",
            "shapely==2.0.1\n",
            "six==1.16.0\n",
            "sklearn-pandas==2.2.0\n",
            "smart-open==6.3.0\n",
            "sniffio==1.3.0\n",
            "snowballstemmer==2.2.0\n",
            "sortedcontainers==2.4.0\n",
            "soundfile==0.12.1\n",
            "soupsieve==2.4.1\n",
            "soxr==0.3.5\n",
            "spacy==3.5.4\n",
            "spacy-legacy==3.0.12\n",
            "spacy-loggers==1.0.4\n",
            "Sphinx==3.5.4\n",
            "sphinxcontrib-applehelp==1.0.4\n",
            "sphinxcontrib-devhelp==1.0.2\n",
            "sphinxcontrib-htmlhelp==2.0.1\n",
            "sphinxcontrib-jsmath==1.0.1\n",
            "sphinxcontrib-qthelp==1.0.3\n",
            "sphinxcontrib-serializinghtml==1.1.5\n",
            "SQLAlchemy==2.0.19\n",
            "sqlparse==0.4.4\n",
            "srsly==2.4.7\n",
            "statsmodels==0.13.5\n",
            "sympy==1.11.1\n",
            "tables==3.8.0\n",
            "tabulate==0.9.0\n",
            "tblib==2.0.0\n",
            "tenacity==8.2.2\n",
            "tensorboard==2.12.3\n",
            "tensorboard-data-server==0.7.1\n",
            "tensorflow==2.12.0\n",
            "tensorflow-datasets==4.9.2\n",
            "tensorflow-estimator==2.12.0\n",
            "tensorflow-gcs-config==2.12.0\n",
            "tensorflow-hub==0.14.0\n",
            "tensorflow-io-gcs-filesystem==0.32.0\n",
            "tensorflow-metadata==1.13.1\n",
            "tensorflow-probability==0.20.1\n",
            "tensorstore==0.1.40\n",
            "termcolor==2.3.0\n",
            "terminado==0.17.1\n",
            "text-unidecode==1.3\n",
            "textblob==0.17.1\n",
            "tf-slim==1.1.0\n",
            "thinc==8.1.10\n",
            "threadpoolctl==3.2.0\n",
            "tifffile==2023.7.10\n",
            "tinycss2==1.2.1\n",
            "toml==0.10.2\n",
            "tomli==2.0.1\n",
            "toolz==0.12.0\n",
            "torch @ https://download.pytorch.org/whl/cu118/torch-2.0.1%2Bcu118-cp310-cp310-linux_x86_64.whl#sha256=a7a49d459bf4862f64f7bc1a68beccf8881c2fa9f3e0569608e16ba6f85ebf7b\n",
            "torchaudio @ https://download.pytorch.org/whl/cu118/torchaudio-2.0.2%2Bcu118-cp310-cp310-linux_x86_64.whl#sha256=26692645ea061a005c57ec581a2d0425210ac6ba9f923edf11cc9b0ef3a111e9\n",
            "torchdata==0.6.1\n",
            "torchsummary==1.5.1\n",
            "torchtext==0.15.2\n",
            "torchvision @ https://download.pytorch.org/whl/cu118/torchvision-0.15.2%2Bcu118-cp310-cp310-linux_x86_64.whl#sha256=19ca4ab5d6179bbe53cff79df1a855ee6533c2861ddc7389f68349d8b9f8302a\n",
            "tornado==6.3.1\n",
            "tqdm==4.65.0\n",
            "traitlets==5.7.1\n",
            "triton==2.0.0\n",
            "tweepy==4.13.0\n",
            "typer==0.9.0\n",
            "types-setuptools==68.0.0.2\n",
            "typing_extensions==4.7.1\n",
            "tzlocal==5.0.1\n",
            "uritemplate==4.1.1\n",
            "urllib3==1.26.16\n",
            "vega-datasets==0.9.0\n",
            "wadllib==1.3.6\n",
            "wasabi==1.1.2\n",
            "wcwidth==0.2.6\n",
            "webcolors==1.13\n",
            "webencodings==0.5.1\n",
            "websocket-client==1.6.1\n",
            "Werkzeug==2.3.6\n",
            "widgetsnbextension==3.6.4\n",
            "wordcloud==1.8.2.2\n",
            "wrapt==1.14.1\n",
            "xarray==2022.12.0\n",
            "xarray-einstats==0.6.0\n",
            "xgboost==1.7.6\n",
            "xlrd==2.0.1\n",
            "yarl==1.9.2\n",
            "yellowbrick==1.5\n",
            "yfinance==0.2.25\n",
            "zict==3.0.0\n",
            "zipp==3.16.2\n"
          ]
        }
      ]
    },
    {
      "cell_type": "code",
      "source": [
        "!python --version"
      ],
      "metadata": {
        "colab": {
          "base_uri": "https://localhost:8080/"
        },
        "id": "5bdCN6bb_EkF",
        "outputId": "9e5d2679-5469-4160-b061-16b031824f9f"
      },
      "execution_count": null,
      "outputs": [
        {
          "output_type": "stream",
          "name": "stdout",
          "text": [
            "Python 3.10.6\n"
          ]
        }
      ]
    },
    {
      "cell_type": "code",
      "source": [],
      "metadata": {
        "id": "VtlU8SQGBgTz"
      },
      "execution_count": null,
      "outputs": []
    }
  ]
}