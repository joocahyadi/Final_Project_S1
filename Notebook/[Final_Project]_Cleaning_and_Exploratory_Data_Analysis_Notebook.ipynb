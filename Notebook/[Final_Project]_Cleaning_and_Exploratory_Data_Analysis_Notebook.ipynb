{
  "nbformat": 4,
  "nbformat_minor": 0,
  "metadata": {
    "colab": {
      "provenance": []
    },
    "kernelspec": {
      "name": "python3",
      "display_name": "Python 3"
    },
    "language_info": {
      "name": "python"
    },
    "widgets": {
      "application/vnd.jupyter.widget-state+json": {
        "1ff1789cb5764a39ac01c34a9d0e64de": {
          "model_module": "@jupyter-widgets/controls",
          "model_name": "HBoxModel",
          "model_module_version": "1.5.0",
          "state": {
            "_dom_classes": [],
            "_model_module": "@jupyter-widgets/controls",
            "_model_module_version": "1.5.0",
            "_model_name": "HBoxModel",
            "_view_count": null,
            "_view_module": "@jupyter-widgets/controls",
            "_view_module_version": "1.5.0",
            "_view_name": "HBoxView",
            "box_style": "",
            "children": [
              "IPY_MODEL_500b7e4289d04b2dacdd7bf9b78deeac",
              "IPY_MODEL_49ac6c2b4aeb4f27ac1d728f45336493",
              "IPY_MODEL_9985e9c51bfd4441a344f61756b7c6a4"
            ],
            "layout": "IPY_MODEL_cc1bdd26f1b84779a70d2af06fe2ca28"
          }
        },
        "500b7e4289d04b2dacdd7bf9b78deeac": {
          "model_module": "@jupyter-widgets/controls",
          "model_name": "HTMLModel",
          "model_module_version": "1.5.0",
          "state": {
            "_dom_classes": [],
            "_model_module": "@jupyter-widgets/controls",
            "_model_module_version": "1.5.0",
            "_model_name": "HTMLModel",
            "_view_count": null,
            "_view_module": "@jupyter-widgets/controls",
            "_view_module_version": "1.5.0",
            "_view_name": "HTMLView",
            "description": "",
            "description_tooltip": null,
            "layout": "IPY_MODEL_be16015033844bf69219bfe529d2edd2",
            "placeholder": "​",
            "style": "IPY_MODEL_ec86dbfdbfc344509fc9344d6f4531fb",
            "value": "100%"
          }
        },
        "49ac6c2b4aeb4f27ac1d728f45336493": {
          "model_module": "@jupyter-widgets/controls",
          "model_name": "FloatProgressModel",
          "model_module_version": "1.5.0",
          "state": {
            "_dom_classes": [],
            "_model_module": "@jupyter-widgets/controls",
            "_model_module_version": "1.5.0",
            "_model_name": "FloatProgressModel",
            "_view_count": null,
            "_view_module": "@jupyter-widgets/controls",
            "_view_module_version": "1.5.0",
            "_view_name": "ProgressView",
            "bar_style": "success",
            "description": "",
            "description_tooltip": null,
            "layout": "IPY_MODEL_b297f4e11f564cf787fbfc89178190dc",
            "max": 425244,
            "min": 0,
            "orientation": "horizontal",
            "style": "IPY_MODEL_a56154f5b1c246f69523a74717f14d16",
            "value": 425244
          }
        },
        "9985e9c51bfd4441a344f61756b7c6a4": {
          "model_module": "@jupyter-widgets/controls",
          "model_name": "HTMLModel",
          "model_module_version": "1.5.0",
          "state": {
            "_dom_classes": [],
            "_model_module": "@jupyter-widgets/controls",
            "_model_module_version": "1.5.0",
            "_model_name": "HTMLModel",
            "_view_count": null,
            "_view_module": "@jupyter-widgets/controls",
            "_view_module_version": "1.5.0",
            "_view_name": "HTMLView",
            "description": "",
            "description_tooltip": null,
            "layout": "IPY_MODEL_af20f546020c4d419bd9e5c5307fd255",
            "placeholder": "​",
            "style": "IPY_MODEL_f55a7566743a4a52b0d8d60a7de80a39",
            "value": " 425244/425244 [00:00&lt;00:00, 519631.82it/s]"
          }
        },
        "cc1bdd26f1b84779a70d2af06fe2ca28": {
          "model_module": "@jupyter-widgets/base",
          "model_name": "LayoutModel",
          "model_module_version": "1.2.0",
          "state": {
            "_model_module": "@jupyter-widgets/base",
            "_model_module_version": "1.2.0",
            "_model_name": "LayoutModel",
            "_view_count": null,
            "_view_module": "@jupyter-widgets/base",
            "_view_module_version": "1.2.0",
            "_view_name": "LayoutView",
            "align_content": null,
            "align_items": null,
            "align_self": null,
            "border": null,
            "bottom": null,
            "display": null,
            "flex": null,
            "flex_flow": null,
            "grid_area": null,
            "grid_auto_columns": null,
            "grid_auto_flow": null,
            "grid_auto_rows": null,
            "grid_column": null,
            "grid_gap": null,
            "grid_row": null,
            "grid_template_areas": null,
            "grid_template_columns": null,
            "grid_template_rows": null,
            "height": null,
            "justify_content": null,
            "justify_items": null,
            "left": null,
            "margin": null,
            "max_height": null,
            "max_width": null,
            "min_height": null,
            "min_width": null,
            "object_fit": null,
            "object_position": null,
            "order": null,
            "overflow": null,
            "overflow_x": null,
            "overflow_y": null,
            "padding": null,
            "right": null,
            "top": null,
            "visibility": null,
            "width": null
          }
        },
        "be16015033844bf69219bfe529d2edd2": {
          "model_module": "@jupyter-widgets/base",
          "model_name": "LayoutModel",
          "model_module_version": "1.2.0",
          "state": {
            "_model_module": "@jupyter-widgets/base",
            "_model_module_version": "1.2.0",
            "_model_name": "LayoutModel",
            "_view_count": null,
            "_view_module": "@jupyter-widgets/base",
            "_view_module_version": "1.2.0",
            "_view_name": "LayoutView",
            "align_content": null,
            "align_items": null,
            "align_self": null,
            "border": null,
            "bottom": null,
            "display": null,
            "flex": null,
            "flex_flow": null,
            "grid_area": null,
            "grid_auto_columns": null,
            "grid_auto_flow": null,
            "grid_auto_rows": null,
            "grid_column": null,
            "grid_gap": null,
            "grid_row": null,
            "grid_template_areas": null,
            "grid_template_columns": null,
            "grid_template_rows": null,
            "height": null,
            "justify_content": null,
            "justify_items": null,
            "left": null,
            "margin": null,
            "max_height": null,
            "max_width": null,
            "min_height": null,
            "min_width": null,
            "object_fit": null,
            "object_position": null,
            "order": null,
            "overflow": null,
            "overflow_x": null,
            "overflow_y": null,
            "padding": null,
            "right": null,
            "top": null,
            "visibility": null,
            "width": null
          }
        },
        "ec86dbfdbfc344509fc9344d6f4531fb": {
          "model_module": "@jupyter-widgets/controls",
          "model_name": "DescriptionStyleModel",
          "model_module_version": "1.5.0",
          "state": {
            "_model_module": "@jupyter-widgets/controls",
            "_model_module_version": "1.5.0",
            "_model_name": "DescriptionStyleModel",
            "_view_count": null,
            "_view_module": "@jupyter-widgets/base",
            "_view_module_version": "1.2.0",
            "_view_name": "StyleView",
            "description_width": ""
          }
        },
        "b297f4e11f564cf787fbfc89178190dc": {
          "model_module": "@jupyter-widgets/base",
          "model_name": "LayoutModel",
          "model_module_version": "1.2.0",
          "state": {
            "_model_module": "@jupyter-widgets/base",
            "_model_module_version": "1.2.0",
            "_model_name": "LayoutModel",
            "_view_count": null,
            "_view_module": "@jupyter-widgets/base",
            "_view_module_version": "1.2.0",
            "_view_name": "LayoutView",
            "align_content": null,
            "align_items": null,
            "align_self": null,
            "border": null,
            "bottom": null,
            "display": null,
            "flex": null,
            "flex_flow": null,
            "grid_area": null,
            "grid_auto_columns": null,
            "grid_auto_flow": null,
            "grid_auto_rows": null,
            "grid_column": null,
            "grid_gap": null,
            "grid_row": null,
            "grid_template_areas": null,
            "grid_template_columns": null,
            "grid_template_rows": null,
            "height": null,
            "justify_content": null,
            "justify_items": null,
            "left": null,
            "margin": null,
            "max_height": null,
            "max_width": null,
            "min_height": null,
            "min_width": null,
            "object_fit": null,
            "object_position": null,
            "order": null,
            "overflow": null,
            "overflow_x": null,
            "overflow_y": null,
            "padding": null,
            "right": null,
            "top": null,
            "visibility": null,
            "width": null
          }
        },
        "a56154f5b1c246f69523a74717f14d16": {
          "model_module": "@jupyter-widgets/controls",
          "model_name": "ProgressStyleModel",
          "model_module_version": "1.5.0",
          "state": {
            "_model_module": "@jupyter-widgets/controls",
            "_model_module_version": "1.5.0",
            "_model_name": "ProgressStyleModel",
            "_view_count": null,
            "_view_module": "@jupyter-widgets/base",
            "_view_module_version": "1.2.0",
            "_view_name": "StyleView",
            "bar_color": null,
            "description_width": ""
          }
        },
        "af20f546020c4d419bd9e5c5307fd255": {
          "model_module": "@jupyter-widgets/base",
          "model_name": "LayoutModel",
          "model_module_version": "1.2.0",
          "state": {
            "_model_module": "@jupyter-widgets/base",
            "_model_module_version": "1.2.0",
            "_model_name": "LayoutModel",
            "_view_count": null,
            "_view_module": "@jupyter-widgets/base",
            "_view_module_version": "1.2.0",
            "_view_name": "LayoutView",
            "align_content": null,
            "align_items": null,
            "align_self": null,
            "border": null,
            "bottom": null,
            "display": null,
            "flex": null,
            "flex_flow": null,
            "grid_area": null,
            "grid_auto_columns": null,
            "grid_auto_flow": null,
            "grid_auto_rows": null,
            "grid_column": null,
            "grid_gap": null,
            "grid_row": null,
            "grid_template_areas": null,
            "grid_template_columns": null,
            "grid_template_rows": null,
            "height": null,
            "justify_content": null,
            "justify_items": null,
            "left": null,
            "margin": null,
            "max_height": null,
            "max_width": null,
            "min_height": null,
            "min_width": null,
            "object_fit": null,
            "object_position": null,
            "order": null,
            "overflow": null,
            "overflow_x": null,
            "overflow_y": null,
            "padding": null,
            "right": null,
            "top": null,
            "visibility": null,
            "width": null
          }
        },
        "f55a7566743a4a52b0d8d60a7de80a39": {
          "model_module": "@jupyter-widgets/controls",
          "model_name": "DescriptionStyleModel",
          "model_module_version": "1.5.0",
          "state": {
            "_model_module": "@jupyter-widgets/controls",
            "_model_module_version": "1.5.0",
            "_model_name": "DescriptionStyleModel",
            "_view_count": null,
            "_view_module": "@jupyter-widgets/base",
            "_view_module_version": "1.2.0",
            "_view_name": "StyleView",
            "description_width": ""
          }
        },
        "3bb1c6ce96954b51b4f4afcc1aa8cc42": {
          "model_module": "@jupyter-widgets/controls",
          "model_name": "HBoxModel",
          "model_module_version": "1.5.0",
          "state": {
            "_dom_classes": [],
            "_model_module": "@jupyter-widgets/controls",
            "_model_module_version": "1.5.0",
            "_model_name": "HBoxModel",
            "_view_count": null,
            "_view_module": "@jupyter-widgets/controls",
            "_view_module_version": "1.5.0",
            "_view_name": "HBoxView",
            "box_style": "",
            "children": [
              "IPY_MODEL_0e87953de9d34e35b2e33a1c4373e205",
              "IPY_MODEL_bf98f170b40f49769d2222aa6b9545c4",
              "IPY_MODEL_c1609d7599464e188982874b548a279d"
            ],
            "layout": "IPY_MODEL_179a76f72e8e4276a72b271973c70e3c"
          }
        },
        "0e87953de9d34e35b2e33a1c4373e205": {
          "model_module": "@jupyter-widgets/controls",
          "model_name": "HTMLModel",
          "model_module_version": "1.5.0",
          "state": {
            "_dom_classes": [],
            "_model_module": "@jupyter-widgets/controls",
            "_model_module_version": "1.5.0",
            "_model_name": "HTMLModel",
            "_view_count": null,
            "_view_module": "@jupyter-widgets/controls",
            "_view_module_version": "1.5.0",
            "_view_name": "HTMLView",
            "description": "",
            "description_tooltip": null,
            "layout": "IPY_MODEL_e15f1919ba1f4b22b7dcc20cd015aa76",
            "placeholder": "​",
            "style": "IPY_MODEL_8e1ca4ea74b54ad49fac30855c52723c",
            "value": "100%"
          }
        },
        "bf98f170b40f49769d2222aa6b9545c4": {
          "model_module": "@jupyter-widgets/controls",
          "model_name": "FloatProgressModel",
          "model_module_version": "1.5.0",
          "state": {
            "_dom_classes": [],
            "_model_module": "@jupyter-widgets/controls",
            "_model_module_version": "1.5.0",
            "_model_name": "FloatProgressModel",
            "_view_count": null,
            "_view_module": "@jupyter-widgets/controls",
            "_view_module_version": "1.5.0",
            "_view_name": "ProgressView",
            "bar_style": "success",
            "description": "",
            "description_tooltip": null,
            "layout": "IPY_MODEL_62924f6e38ec4e5caca5f93c69d052d8",
            "max": 455678,
            "min": 0,
            "orientation": "horizontal",
            "style": "IPY_MODEL_40efd259c0f54b349acf1e96e279f184",
            "value": 455678
          }
        },
        "c1609d7599464e188982874b548a279d": {
          "model_module": "@jupyter-widgets/controls",
          "model_name": "HTMLModel",
          "model_module_version": "1.5.0",
          "state": {
            "_dom_classes": [],
            "_model_module": "@jupyter-widgets/controls",
            "_model_module_version": "1.5.0",
            "_model_name": "HTMLModel",
            "_view_count": null,
            "_view_module": "@jupyter-widgets/controls",
            "_view_module_version": "1.5.0",
            "_view_name": "HTMLView",
            "description": "",
            "description_tooltip": null,
            "layout": "IPY_MODEL_dbf6bca400514e478d2e78959b0649bf",
            "placeholder": "​",
            "style": "IPY_MODEL_43eedbbdeb11401c8d91e64ce270d413",
            "value": " 455678/455678 [12:10&lt;00:00, 683.19it/s]"
          }
        },
        "179a76f72e8e4276a72b271973c70e3c": {
          "model_module": "@jupyter-widgets/base",
          "model_name": "LayoutModel",
          "model_module_version": "1.2.0",
          "state": {
            "_model_module": "@jupyter-widgets/base",
            "_model_module_version": "1.2.0",
            "_model_name": "LayoutModel",
            "_view_count": null,
            "_view_module": "@jupyter-widgets/base",
            "_view_module_version": "1.2.0",
            "_view_name": "LayoutView",
            "align_content": null,
            "align_items": null,
            "align_self": null,
            "border": null,
            "bottom": null,
            "display": null,
            "flex": null,
            "flex_flow": null,
            "grid_area": null,
            "grid_auto_columns": null,
            "grid_auto_flow": null,
            "grid_auto_rows": null,
            "grid_column": null,
            "grid_gap": null,
            "grid_row": null,
            "grid_template_areas": null,
            "grid_template_columns": null,
            "grid_template_rows": null,
            "height": null,
            "justify_content": null,
            "justify_items": null,
            "left": null,
            "margin": null,
            "max_height": null,
            "max_width": null,
            "min_height": null,
            "min_width": null,
            "object_fit": null,
            "object_position": null,
            "order": null,
            "overflow": null,
            "overflow_x": null,
            "overflow_y": null,
            "padding": null,
            "right": null,
            "top": null,
            "visibility": null,
            "width": null
          }
        },
        "e15f1919ba1f4b22b7dcc20cd015aa76": {
          "model_module": "@jupyter-widgets/base",
          "model_name": "LayoutModel",
          "model_module_version": "1.2.0",
          "state": {
            "_model_module": "@jupyter-widgets/base",
            "_model_module_version": "1.2.0",
            "_model_name": "LayoutModel",
            "_view_count": null,
            "_view_module": "@jupyter-widgets/base",
            "_view_module_version": "1.2.0",
            "_view_name": "LayoutView",
            "align_content": null,
            "align_items": null,
            "align_self": null,
            "border": null,
            "bottom": null,
            "display": null,
            "flex": null,
            "flex_flow": null,
            "grid_area": null,
            "grid_auto_columns": null,
            "grid_auto_flow": null,
            "grid_auto_rows": null,
            "grid_column": null,
            "grid_gap": null,
            "grid_row": null,
            "grid_template_areas": null,
            "grid_template_columns": null,
            "grid_template_rows": null,
            "height": null,
            "justify_content": null,
            "justify_items": null,
            "left": null,
            "margin": null,
            "max_height": null,
            "max_width": null,
            "min_height": null,
            "min_width": null,
            "object_fit": null,
            "object_position": null,
            "order": null,
            "overflow": null,
            "overflow_x": null,
            "overflow_y": null,
            "padding": null,
            "right": null,
            "top": null,
            "visibility": null,
            "width": null
          }
        },
        "8e1ca4ea74b54ad49fac30855c52723c": {
          "model_module": "@jupyter-widgets/controls",
          "model_name": "DescriptionStyleModel",
          "model_module_version": "1.5.0",
          "state": {
            "_model_module": "@jupyter-widgets/controls",
            "_model_module_version": "1.5.0",
            "_model_name": "DescriptionStyleModel",
            "_view_count": null,
            "_view_module": "@jupyter-widgets/base",
            "_view_module_version": "1.2.0",
            "_view_name": "StyleView",
            "description_width": ""
          }
        },
        "62924f6e38ec4e5caca5f93c69d052d8": {
          "model_module": "@jupyter-widgets/base",
          "model_name": "LayoutModel",
          "model_module_version": "1.2.0",
          "state": {
            "_model_module": "@jupyter-widgets/base",
            "_model_module_version": "1.2.0",
            "_model_name": "LayoutModel",
            "_view_count": null,
            "_view_module": "@jupyter-widgets/base",
            "_view_module_version": "1.2.0",
            "_view_name": "LayoutView",
            "align_content": null,
            "align_items": null,
            "align_self": null,
            "border": null,
            "bottom": null,
            "display": null,
            "flex": null,
            "flex_flow": null,
            "grid_area": null,
            "grid_auto_columns": null,
            "grid_auto_flow": null,
            "grid_auto_rows": null,
            "grid_column": null,
            "grid_gap": null,
            "grid_row": null,
            "grid_template_areas": null,
            "grid_template_columns": null,
            "grid_template_rows": null,
            "height": null,
            "justify_content": null,
            "justify_items": null,
            "left": null,
            "margin": null,
            "max_height": null,
            "max_width": null,
            "min_height": null,
            "min_width": null,
            "object_fit": null,
            "object_position": null,
            "order": null,
            "overflow": null,
            "overflow_x": null,
            "overflow_y": null,
            "padding": null,
            "right": null,
            "top": null,
            "visibility": null,
            "width": null
          }
        },
        "40efd259c0f54b349acf1e96e279f184": {
          "model_module": "@jupyter-widgets/controls",
          "model_name": "ProgressStyleModel",
          "model_module_version": "1.5.0",
          "state": {
            "_model_module": "@jupyter-widgets/controls",
            "_model_module_version": "1.5.0",
            "_model_name": "ProgressStyleModel",
            "_view_count": null,
            "_view_module": "@jupyter-widgets/base",
            "_view_module_version": "1.2.0",
            "_view_name": "StyleView",
            "bar_color": null,
            "description_width": ""
          }
        },
        "dbf6bca400514e478d2e78959b0649bf": {
          "model_module": "@jupyter-widgets/base",
          "model_name": "LayoutModel",
          "model_module_version": "1.2.0",
          "state": {
            "_model_module": "@jupyter-widgets/base",
            "_model_module_version": "1.2.0",
            "_model_name": "LayoutModel",
            "_view_count": null,
            "_view_module": "@jupyter-widgets/base",
            "_view_module_version": "1.2.0",
            "_view_name": "LayoutView",
            "align_content": null,
            "align_items": null,
            "align_self": null,
            "border": null,
            "bottom": null,
            "display": null,
            "flex": null,
            "flex_flow": null,
            "grid_area": null,
            "grid_auto_columns": null,
            "grid_auto_flow": null,
            "grid_auto_rows": null,
            "grid_column": null,
            "grid_gap": null,
            "grid_row": null,
            "grid_template_areas": null,
            "grid_template_columns": null,
            "grid_template_rows": null,
            "height": null,
            "justify_content": null,
            "justify_items": null,
            "left": null,
            "margin": null,
            "max_height": null,
            "max_width": null,
            "min_height": null,
            "min_width": null,
            "object_fit": null,
            "object_position": null,
            "order": null,
            "overflow": null,
            "overflow_x": null,
            "overflow_y": null,
            "padding": null,
            "right": null,
            "top": null,
            "visibility": null,
            "width": null
          }
        },
        "43eedbbdeb11401c8d91e64ce270d413": {
          "model_module": "@jupyter-widgets/controls",
          "model_name": "DescriptionStyleModel",
          "model_module_version": "1.5.0",
          "state": {
            "_model_module": "@jupyter-widgets/controls",
            "_model_module_version": "1.5.0",
            "_model_name": "DescriptionStyleModel",
            "_view_count": null,
            "_view_module": "@jupyter-widgets/base",
            "_view_module_version": "1.2.0",
            "_view_name": "StyleView",
            "description_width": ""
          }
        },
        "92f4405afec74affaf8d4c0193faf42b": {
          "model_module": "@jupyter-widgets/controls",
          "model_name": "HBoxModel",
          "model_module_version": "1.5.0",
          "state": {
            "_dom_classes": [],
            "_model_module": "@jupyter-widgets/controls",
            "_model_module_version": "1.5.0",
            "_model_name": "HBoxModel",
            "_view_count": null,
            "_view_module": "@jupyter-widgets/controls",
            "_view_module_version": "1.5.0",
            "_view_name": "HBoxView",
            "box_style": "",
            "children": [
              "IPY_MODEL_09670e62919b4362a51ce45a0be901ad",
              "IPY_MODEL_69035a36d03b486db81cad3b712b47f2",
              "IPY_MODEL_8a95fae6a48040869580a703e9706ff0"
            ],
            "layout": "IPY_MODEL_7839f4dfb27d45b08927fcbe098d8121"
          }
        },
        "09670e62919b4362a51ce45a0be901ad": {
          "model_module": "@jupyter-widgets/controls",
          "model_name": "HTMLModel",
          "model_module_version": "1.5.0",
          "state": {
            "_dom_classes": [],
            "_model_module": "@jupyter-widgets/controls",
            "_model_module_version": "1.5.0",
            "_model_name": "HTMLModel",
            "_view_count": null,
            "_view_module": "@jupyter-widgets/controls",
            "_view_module_version": "1.5.0",
            "_view_name": "HTMLView",
            "description": "",
            "description_tooltip": null,
            "layout": "IPY_MODEL_32f4d8277748435989e73836d1fded8e",
            "placeholder": "​",
            "style": "IPY_MODEL_2a6278595b6e49758c90a8415f737695",
            "value": "100%"
          }
        },
        "69035a36d03b486db81cad3b712b47f2": {
          "model_module": "@jupyter-widgets/controls",
          "model_name": "FloatProgressModel",
          "model_module_version": "1.5.0",
          "state": {
            "_dom_classes": [],
            "_model_module": "@jupyter-widgets/controls",
            "_model_module_version": "1.5.0",
            "_model_name": "FloatProgressModel",
            "_view_count": null,
            "_view_module": "@jupyter-widgets/controls",
            "_view_module_version": "1.5.0",
            "_view_name": "ProgressView",
            "bar_style": "success",
            "description": "",
            "description_tooltip": null,
            "layout": "IPY_MODEL_d9156a85bf894923a32af644dab37cc8",
            "max": 455678,
            "min": 0,
            "orientation": "horizontal",
            "style": "IPY_MODEL_feac5209b6d54c9d91ecb2b6cea86a48",
            "value": 455678
          }
        },
        "8a95fae6a48040869580a703e9706ff0": {
          "model_module": "@jupyter-widgets/controls",
          "model_name": "HTMLModel",
          "model_module_version": "1.5.0",
          "state": {
            "_dom_classes": [],
            "_model_module": "@jupyter-widgets/controls",
            "_model_module_version": "1.5.0",
            "_model_name": "HTMLModel",
            "_view_count": null,
            "_view_module": "@jupyter-widgets/controls",
            "_view_module_version": "1.5.0",
            "_view_name": "HTMLView",
            "description": "",
            "description_tooltip": null,
            "layout": "IPY_MODEL_867f2147b93943bab66446e7b68733f7",
            "placeholder": "​",
            "style": "IPY_MODEL_6dd420b1bde7432d9a08abe691ae98aa",
            "value": " 455678/455678 [00:03&lt;00:00, 101220.50it/s]"
          }
        },
        "7839f4dfb27d45b08927fcbe098d8121": {
          "model_module": "@jupyter-widgets/base",
          "model_name": "LayoutModel",
          "model_module_version": "1.2.0",
          "state": {
            "_model_module": "@jupyter-widgets/base",
            "_model_module_version": "1.2.0",
            "_model_name": "LayoutModel",
            "_view_count": null,
            "_view_module": "@jupyter-widgets/base",
            "_view_module_version": "1.2.0",
            "_view_name": "LayoutView",
            "align_content": null,
            "align_items": null,
            "align_self": null,
            "border": null,
            "bottom": null,
            "display": null,
            "flex": null,
            "flex_flow": null,
            "grid_area": null,
            "grid_auto_columns": null,
            "grid_auto_flow": null,
            "grid_auto_rows": null,
            "grid_column": null,
            "grid_gap": null,
            "grid_row": null,
            "grid_template_areas": null,
            "grid_template_columns": null,
            "grid_template_rows": null,
            "height": null,
            "justify_content": null,
            "justify_items": null,
            "left": null,
            "margin": null,
            "max_height": null,
            "max_width": null,
            "min_height": null,
            "min_width": null,
            "object_fit": null,
            "object_position": null,
            "order": null,
            "overflow": null,
            "overflow_x": null,
            "overflow_y": null,
            "padding": null,
            "right": null,
            "top": null,
            "visibility": null,
            "width": null
          }
        },
        "32f4d8277748435989e73836d1fded8e": {
          "model_module": "@jupyter-widgets/base",
          "model_name": "LayoutModel",
          "model_module_version": "1.2.0",
          "state": {
            "_model_module": "@jupyter-widgets/base",
            "_model_module_version": "1.2.0",
            "_model_name": "LayoutModel",
            "_view_count": null,
            "_view_module": "@jupyter-widgets/base",
            "_view_module_version": "1.2.0",
            "_view_name": "LayoutView",
            "align_content": null,
            "align_items": null,
            "align_self": null,
            "border": null,
            "bottom": null,
            "display": null,
            "flex": null,
            "flex_flow": null,
            "grid_area": null,
            "grid_auto_columns": null,
            "grid_auto_flow": null,
            "grid_auto_rows": null,
            "grid_column": null,
            "grid_gap": null,
            "grid_row": null,
            "grid_template_areas": null,
            "grid_template_columns": null,
            "grid_template_rows": null,
            "height": null,
            "justify_content": null,
            "justify_items": null,
            "left": null,
            "margin": null,
            "max_height": null,
            "max_width": null,
            "min_height": null,
            "min_width": null,
            "object_fit": null,
            "object_position": null,
            "order": null,
            "overflow": null,
            "overflow_x": null,
            "overflow_y": null,
            "padding": null,
            "right": null,
            "top": null,
            "visibility": null,
            "width": null
          }
        },
        "2a6278595b6e49758c90a8415f737695": {
          "model_module": "@jupyter-widgets/controls",
          "model_name": "DescriptionStyleModel",
          "model_module_version": "1.5.0",
          "state": {
            "_model_module": "@jupyter-widgets/controls",
            "_model_module_version": "1.5.0",
            "_model_name": "DescriptionStyleModel",
            "_view_count": null,
            "_view_module": "@jupyter-widgets/base",
            "_view_module_version": "1.2.0",
            "_view_name": "StyleView",
            "description_width": ""
          }
        },
        "d9156a85bf894923a32af644dab37cc8": {
          "model_module": "@jupyter-widgets/base",
          "model_name": "LayoutModel",
          "model_module_version": "1.2.0",
          "state": {
            "_model_module": "@jupyter-widgets/base",
            "_model_module_version": "1.2.0",
            "_model_name": "LayoutModel",
            "_view_count": null,
            "_view_module": "@jupyter-widgets/base",
            "_view_module_version": "1.2.0",
            "_view_name": "LayoutView",
            "align_content": null,
            "align_items": null,
            "align_self": null,
            "border": null,
            "bottom": null,
            "display": null,
            "flex": null,
            "flex_flow": null,
            "grid_area": null,
            "grid_auto_columns": null,
            "grid_auto_flow": null,
            "grid_auto_rows": null,
            "grid_column": null,
            "grid_gap": null,
            "grid_row": null,
            "grid_template_areas": null,
            "grid_template_columns": null,
            "grid_template_rows": null,
            "height": null,
            "justify_content": null,
            "justify_items": null,
            "left": null,
            "margin": null,
            "max_height": null,
            "max_width": null,
            "min_height": null,
            "min_width": null,
            "object_fit": null,
            "object_position": null,
            "order": null,
            "overflow": null,
            "overflow_x": null,
            "overflow_y": null,
            "padding": null,
            "right": null,
            "top": null,
            "visibility": null,
            "width": null
          }
        },
        "feac5209b6d54c9d91ecb2b6cea86a48": {
          "model_module": "@jupyter-widgets/controls",
          "model_name": "ProgressStyleModel",
          "model_module_version": "1.5.0",
          "state": {
            "_model_module": "@jupyter-widgets/controls",
            "_model_module_version": "1.5.0",
            "_model_name": "ProgressStyleModel",
            "_view_count": null,
            "_view_module": "@jupyter-widgets/base",
            "_view_module_version": "1.2.0",
            "_view_name": "StyleView",
            "bar_color": null,
            "description_width": ""
          }
        },
        "867f2147b93943bab66446e7b68733f7": {
          "model_module": "@jupyter-widgets/base",
          "model_name": "LayoutModel",
          "model_module_version": "1.2.0",
          "state": {
            "_model_module": "@jupyter-widgets/base",
            "_model_module_version": "1.2.0",
            "_model_name": "LayoutModel",
            "_view_count": null,
            "_view_module": "@jupyter-widgets/base",
            "_view_module_version": "1.2.0",
            "_view_name": "LayoutView",
            "align_content": null,
            "align_items": null,
            "align_self": null,
            "border": null,
            "bottom": null,
            "display": null,
            "flex": null,
            "flex_flow": null,
            "grid_area": null,
            "grid_auto_columns": null,
            "grid_auto_flow": null,
            "grid_auto_rows": null,
            "grid_column": null,
            "grid_gap": null,
            "grid_row": null,
            "grid_template_areas": null,
            "grid_template_columns": null,
            "grid_template_rows": null,
            "height": null,
            "justify_content": null,
            "justify_items": null,
            "left": null,
            "margin": null,
            "max_height": null,
            "max_width": null,
            "min_height": null,
            "min_width": null,
            "object_fit": null,
            "object_position": null,
            "order": null,
            "overflow": null,
            "overflow_x": null,
            "overflow_y": null,
            "padding": null,
            "right": null,
            "top": null,
            "visibility": null,
            "width": null
          }
        },
        "6dd420b1bde7432d9a08abe691ae98aa": {
          "model_module": "@jupyter-widgets/controls",
          "model_name": "DescriptionStyleModel",
          "model_module_version": "1.5.0",
          "state": {
            "_model_module": "@jupyter-widgets/controls",
            "_model_module_version": "1.5.0",
            "_model_name": "DescriptionStyleModel",
            "_view_count": null,
            "_view_module": "@jupyter-widgets/base",
            "_view_module_version": "1.2.0",
            "_view_name": "StyleView",
            "description_width": ""
          }
        },
        "ff59a55eee9a4f99a24d8ca6d394033c": {
          "model_module": "@jupyter-widgets/controls",
          "model_name": "HBoxModel",
          "model_module_version": "1.5.0",
          "state": {
            "_dom_classes": [],
            "_model_module": "@jupyter-widgets/controls",
            "_model_module_version": "1.5.0",
            "_model_name": "HBoxModel",
            "_view_count": null,
            "_view_module": "@jupyter-widgets/controls",
            "_view_module_version": "1.5.0",
            "_view_name": "HBoxView",
            "box_style": "",
            "children": [
              "IPY_MODEL_9e750e7ecb1349459aff895315ea3b06",
              "IPY_MODEL_f426dd287f4c48ecba7f488418ff7c0e",
              "IPY_MODEL_2a550890be4c478f933de1acf98fff73"
            ],
            "layout": "IPY_MODEL_56c6ec16acac438793fc2a480bac61ba"
          }
        },
        "9e750e7ecb1349459aff895315ea3b06": {
          "model_module": "@jupyter-widgets/controls",
          "model_name": "HTMLModel",
          "model_module_version": "1.5.0",
          "state": {
            "_dom_classes": [],
            "_model_module": "@jupyter-widgets/controls",
            "_model_module_version": "1.5.0",
            "_model_name": "HTMLModel",
            "_view_count": null,
            "_view_module": "@jupyter-widgets/controls",
            "_view_module_version": "1.5.0",
            "_view_name": "HTMLView",
            "description": "",
            "description_tooltip": null,
            "layout": "IPY_MODEL_de671ae091774575b819b4ae526c3e81",
            "placeholder": "​",
            "style": "IPY_MODEL_88f52f18753f40a7b60547ba6eed432c",
            "value": "100%"
          }
        },
        "f426dd287f4c48ecba7f488418ff7c0e": {
          "model_module": "@jupyter-widgets/controls",
          "model_name": "FloatProgressModel",
          "model_module_version": "1.5.0",
          "state": {
            "_dom_classes": [],
            "_model_module": "@jupyter-widgets/controls",
            "_model_module_version": "1.5.0",
            "_model_name": "FloatProgressModel",
            "_view_count": null,
            "_view_module": "@jupyter-widgets/controls",
            "_view_module_version": "1.5.0",
            "_view_name": "ProgressView",
            "bar_style": "success",
            "description": "",
            "description_tooltip": null,
            "layout": "IPY_MODEL_73cb962c8d554c9ea4c3d999bd269601",
            "max": 455678,
            "min": 0,
            "orientation": "horizontal",
            "style": "IPY_MODEL_8899150fe1f7429a9b1ad16f52612896",
            "value": 455678
          }
        },
        "2a550890be4c478f933de1acf98fff73": {
          "model_module": "@jupyter-widgets/controls",
          "model_name": "HTMLModel",
          "model_module_version": "1.5.0",
          "state": {
            "_dom_classes": [],
            "_model_module": "@jupyter-widgets/controls",
            "_model_module_version": "1.5.0",
            "_model_name": "HTMLModel",
            "_view_count": null,
            "_view_module": "@jupyter-widgets/controls",
            "_view_module_version": "1.5.0",
            "_view_name": "HTMLView",
            "description": "",
            "description_tooltip": null,
            "layout": "IPY_MODEL_e190478cafd54094999f5154c8ddf832",
            "placeholder": "​",
            "style": "IPY_MODEL_401d4cc0120c4b29b6a678fc36660d7d",
            "value": " 455678/455678 [04:41&lt;00:00, 1100.66it/s]"
          }
        },
        "56c6ec16acac438793fc2a480bac61ba": {
          "model_module": "@jupyter-widgets/base",
          "model_name": "LayoutModel",
          "model_module_version": "1.2.0",
          "state": {
            "_model_module": "@jupyter-widgets/base",
            "_model_module_version": "1.2.0",
            "_model_name": "LayoutModel",
            "_view_count": null,
            "_view_module": "@jupyter-widgets/base",
            "_view_module_version": "1.2.0",
            "_view_name": "LayoutView",
            "align_content": null,
            "align_items": null,
            "align_self": null,
            "border": null,
            "bottom": null,
            "display": null,
            "flex": null,
            "flex_flow": null,
            "grid_area": null,
            "grid_auto_columns": null,
            "grid_auto_flow": null,
            "grid_auto_rows": null,
            "grid_column": null,
            "grid_gap": null,
            "grid_row": null,
            "grid_template_areas": null,
            "grid_template_columns": null,
            "grid_template_rows": null,
            "height": null,
            "justify_content": null,
            "justify_items": null,
            "left": null,
            "margin": null,
            "max_height": null,
            "max_width": null,
            "min_height": null,
            "min_width": null,
            "object_fit": null,
            "object_position": null,
            "order": null,
            "overflow": null,
            "overflow_x": null,
            "overflow_y": null,
            "padding": null,
            "right": null,
            "top": null,
            "visibility": null,
            "width": null
          }
        },
        "de671ae091774575b819b4ae526c3e81": {
          "model_module": "@jupyter-widgets/base",
          "model_name": "LayoutModel",
          "model_module_version": "1.2.0",
          "state": {
            "_model_module": "@jupyter-widgets/base",
            "_model_module_version": "1.2.0",
            "_model_name": "LayoutModel",
            "_view_count": null,
            "_view_module": "@jupyter-widgets/base",
            "_view_module_version": "1.2.0",
            "_view_name": "LayoutView",
            "align_content": null,
            "align_items": null,
            "align_self": null,
            "border": null,
            "bottom": null,
            "display": null,
            "flex": null,
            "flex_flow": null,
            "grid_area": null,
            "grid_auto_columns": null,
            "grid_auto_flow": null,
            "grid_auto_rows": null,
            "grid_column": null,
            "grid_gap": null,
            "grid_row": null,
            "grid_template_areas": null,
            "grid_template_columns": null,
            "grid_template_rows": null,
            "height": null,
            "justify_content": null,
            "justify_items": null,
            "left": null,
            "margin": null,
            "max_height": null,
            "max_width": null,
            "min_height": null,
            "min_width": null,
            "object_fit": null,
            "object_position": null,
            "order": null,
            "overflow": null,
            "overflow_x": null,
            "overflow_y": null,
            "padding": null,
            "right": null,
            "top": null,
            "visibility": null,
            "width": null
          }
        },
        "88f52f18753f40a7b60547ba6eed432c": {
          "model_module": "@jupyter-widgets/controls",
          "model_name": "DescriptionStyleModel",
          "model_module_version": "1.5.0",
          "state": {
            "_model_module": "@jupyter-widgets/controls",
            "_model_module_version": "1.5.0",
            "_model_name": "DescriptionStyleModel",
            "_view_count": null,
            "_view_module": "@jupyter-widgets/base",
            "_view_module_version": "1.2.0",
            "_view_name": "StyleView",
            "description_width": ""
          }
        },
        "73cb962c8d554c9ea4c3d999bd269601": {
          "model_module": "@jupyter-widgets/base",
          "model_name": "LayoutModel",
          "model_module_version": "1.2.0",
          "state": {
            "_model_module": "@jupyter-widgets/base",
            "_model_module_version": "1.2.0",
            "_model_name": "LayoutModel",
            "_view_count": null,
            "_view_module": "@jupyter-widgets/base",
            "_view_module_version": "1.2.0",
            "_view_name": "LayoutView",
            "align_content": null,
            "align_items": null,
            "align_self": null,
            "border": null,
            "bottom": null,
            "display": null,
            "flex": null,
            "flex_flow": null,
            "grid_area": null,
            "grid_auto_columns": null,
            "grid_auto_flow": null,
            "grid_auto_rows": null,
            "grid_column": null,
            "grid_gap": null,
            "grid_row": null,
            "grid_template_areas": null,
            "grid_template_columns": null,
            "grid_template_rows": null,
            "height": null,
            "justify_content": null,
            "justify_items": null,
            "left": null,
            "margin": null,
            "max_height": null,
            "max_width": null,
            "min_height": null,
            "min_width": null,
            "object_fit": null,
            "object_position": null,
            "order": null,
            "overflow": null,
            "overflow_x": null,
            "overflow_y": null,
            "padding": null,
            "right": null,
            "top": null,
            "visibility": null,
            "width": null
          }
        },
        "8899150fe1f7429a9b1ad16f52612896": {
          "model_module": "@jupyter-widgets/controls",
          "model_name": "ProgressStyleModel",
          "model_module_version": "1.5.0",
          "state": {
            "_model_module": "@jupyter-widgets/controls",
            "_model_module_version": "1.5.0",
            "_model_name": "ProgressStyleModel",
            "_view_count": null,
            "_view_module": "@jupyter-widgets/base",
            "_view_module_version": "1.2.0",
            "_view_name": "StyleView",
            "bar_color": null,
            "description_width": ""
          }
        },
        "e190478cafd54094999f5154c8ddf832": {
          "model_module": "@jupyter-widgets/base",
          "model_name": "LayoutModel",
          "model_module_version": "1.2.0",
          "state": {
            "_model_module": "@jupyter-widgets/base",
            "_model_module_version": "1.2.0",
            "_model_name": "LayoutModel",
            "_view_count": null,
            "_view_module": "@jupyter-widgets/base",
            "_view_module_version": "1.2.0",
            "_view_name": "LayoutView",
            "align_content": null,
            "align_items": null,
            "align_self": null,
            "border": null,
            "bottom": null,
            "display": null,
            "flex": null,
            "flex_flow": null,
            "grid_area": null,
            "grid_auto_columns": null,
            "grid_auto_flow": null,
            "grid_auto_rows": null,
            "grid_column": null,
            "grid_gap": null,
            "grid_row": null,
            "grid_template_areas": null,
            "grid_template_columns": null,
            "grid_template_rows": null,
            "height": null,
            "justify_content": null,
            "justify_items": null,
            "left": null,
            "margin": null,
            "max_height": null,
            "max_width": null,
            "min_height": null,
            "min_width": null,
            "object_fit": null,
            "object_position": null,
            "order": null,
            "overflow": null,
            "overflow_x": null,
            "overflow_y": null,
            "padding": null,
            "right": null,
            "top": null,
            "visibility": null,
            "width": null
          }
        },
        "401d4cc0120c4b29b6a678fc36660d7d": {
          "model_module": "@jupyter-widgets/controls",
          "model_name": "DescriptionStyleModel",
          "model_module_version": "1.5.0",
          "state": {
            "_model_module": "@jupyter-widgets/controls",
            "_model_module_version": "1.5.0",
            "_model_name": "DescriptionStyleModel",
            "_view_count": null,
            "_view_module": "@jupyter-widgets/base",
            "_view_module_version": "1.2.0",
            "_view_name": "StyleView",
            "description_width": ""
          }
        },
        "26b25919cc6c48b58b465d94da629c41": {
          "model_module": "@jupyter-widgets/controls",
          "model_name": "HBoxModel",
          "model_module_version": "1.5.0",
          "state": {
            "_dom_classes": [],
            "_model_module": "@jupyter-widgets/controls",
            "_model_module_version": "1.5.0",
            "_model_name": "HBoxModel",
            "_view_count": null,
            "_view_module": "@jupyter-widgets/controls",
            "_view_module_version": "1.5.0",
            "_view_name": "HBoxView",
            "box_style": "",
            "children": [
              "IPY_MODEL_2435ae87ef654833b82e388ef463d425",
              "IPY_MODEL_7a0f04ae6fed495888e56cbe08a4a4a5",
              "IPY_MODEL_4c712961155d44a1afe83d61e80b689c"
            ],
            "layout": "IPY_MODEL_2cc91f21d8a642379680c19ca9809a20"
          }
        },
        "2435ae87ef654833b82e388ef463d425": {
          "model_module": "@jupyter-widgets/controls",
          "model_name": "HTMLModel",
          "model_module_version": "1.5.0",
          "state": {
            "_dom_classes": [],
            "_model_module": "@jupyter-widgets/controls",
            "_model_module_version": "1.5.0",
            "_model_name": "HTMLModel",
            "_view_count": null,
            "_view_module": "@jupyter-widgets/controls",
            "_view_module_version": "1.5.0",
            "_view_name": "HTMLView",
            "description": "",
            "description_tooltip": null,
            "layout": "IPY_MODEL_148a1620a1004784a5518a264d98afb9",
            "placeholder": "​",
            "style": "IPY_MODEL_b4e37dbbc68242fb9210845a24d2e0ae",
            "value": "100%"
          }
        },
        "7a0f04ae6fed495888e56cbe08a4a4a5": {
          "model_module": "@jupyter-widgets/controls",
          "model_name": "FloatProgressModel",
          "model_module_version": "1.5.0",
          "state": {
            "_dom_classes": [],
            "_model_module": "@jupyter-widgets/controls",
            "_model_module_version": "1.5.0",
            "_model_name": "FloatProgressModel",
            "_view_count": null,
            "_view_module": "@jupyter-widgets/controls",
            "_view_module_version": "1.5.0",
            "_view_name": "ProgressView",
            "bar_style": "success",
            "description": "",
            "description_tooltip": null,
            "layout": "IPY_MODEL_3ee401e626e44e25ab0ad34a31804f9d",
            "max": 455678,
            "min": 0,
            "orientation": "horizontal",
            "style": "IPY_MODEL_d356d7ac3a7843a683a2ba72432bd15b",
            "value": 455678
          }
        },
        "4c712961155d44a1afe83d61e80b689c": {
          "model_module": "@jupyter-widgets/controls",
          "model_name": "HTMLModel",
          "model_module_version": "1.5.0",
          "state": {
            "_dom_classes": [],
            "_model_module": "@jupyter-widgets/controls",
            "_model_module_version": "1.5.0",
            "_model_name": "HTMLModel",
            "_view_count": null,
            "_view_module": "@jupyter-widgets/controls",
            "_view_module_version": "1.5.0",
            "_view_name": "HTMLView",
            "description": "",
            "description_tooltip": null,
            "layout": "IPY_MODEL_a90596a52cb949afaf8c751d6b236d46",
            "placeholder": "​",
            "style": "IPY_MODEL_4ebacd5ef9c748879d654e47daaf8012",
            "value": " 455678/455678 [00:11&lt;00:00, 36930.81it/s]"
          }
        },
        "2cc91f21d8a642379680c19ca9809a20": {
          "model_module": "@jupyter-widgets/base",
          "model_name": "LayoutModel",
          "model_module_version": "1.2.0",
          "state": {
            "_model_module": "@jupyter-widgets/base",
            "_model_module_version": "1.2.0",
            "_model_name": "LayoutModel",
            "_view_count": null,
            "_view_module": "@jupyter-widgets/base",
            "_view_module_version": "1.2.0",
            "_view_name": "LayoutView",
            "align_content": null,
            "align_items": null,
            "align_self": null,
            "border": null,
            "bottom": null,
            "display": null,
            "flex": null,
            "flex_flow": null,
            "grid_area": null,
            "grid_auto_columns": null,
            "grid_auto_flow": null,
            "grid_auto_rows": null,
            "grid_column": null,
            "grid_gap": null,
            "grid_row": null,
            "grid_template_areas": null,
            "grid_template_columns": null,
            "grid_template_rows": null,
            "height": null,
            "justify_content": null,
            "justify_items": null,
            "left": null,
            "margin": null,
            "max_height": null,
            "max_width": null,
            "min_height": null,
            "min_width": null,
            "object_fit": null,
            "object_position": null,
            "order": null,
            "overflow": null,
            "overflow_x": null,
            "overflow_y": null,
            "padding": null,
            "right": null,
            "top": null,
            "visibility": null,
            "width": null
          }
        },
        "148a1620a1004784a5518a264d98afb9": {
          "model_module": "@jupyter-widgets/base",
          "model_name": "LayoutModel",
          "model_module_version": "1.2.0",
          "state": {
            "_model_module": "@jupyter-widgets/base",
            "_model_module_version": "1.2.0",
            "_model_name": "LayoutModel",
            "_view_count": null,
            "_view_module": "@jupyter-widgets/base",
            "_view_module_version": "1.2.0",
            "_view_name": "LayoutView",
            "align_content": null,
            "align_items": null,
            "align_self": null,
            "border": null,
            "bottom": null,
            "display": null,
            "flex": null,
            "flex_flow": null,
            "grid_area": null,
            "grid_auto_columns": null,
            "grid_auto_flow": null,
            "grid_auto_rows": null,
            "grid_column": null,
            "grid_gap": null,
            "grid_row": null,
            "grid_template_areas": null,
            "grid_template_columns": null,
            "grid_template_rows": null,
            "height": null,
            "justify_content": null,
            "justify_items": null,
            "left": null,
            "margin": null,
            "max_height": null,
            "max_width": null,
            "min_height": null,
            "min_width": null,
            "object_fit": null,
            "object_position": null,
            "order": null,
            "overflow": null,
            "overflow_x": null,
            "overflow_y": null,
            "padding": null,
            "right": null,
            "top": null,
            "visibility": null,
            "width": null
          }
        },
        "b4e37dbbc68242fb9210845a24d2e0ae": {
          "model_module": "@jupyter-widgets/controls",
          "model_name": "DescriptionStyleModel",
          "model_module_version": "1.5.0",
          "state": {
            "_model_module": "@jupyter-widgets/controls",
            "_model_module_version": "1.5.0",
            "_model_name": "DescriptionStyleModel",
            "_view_count": null,
            "_view_module": "@jupyter-widgets/base",
            "_view_module_version": "1.2.0",
            "_view_name": "StyleView",
            "description_width": ""
          }
        },
        "3ee401e626e44e25ab0ad34a31804f9d": {
          "model_module": "@jupyter-widgets/base",
          "model_name": "LayoutModel",
          "model_module_version": "1.2.0",
          "state": {
            "_model_module": "@jupyter-widgets/base",
            "_model_module_version": "1.2.0",
            "_model_name": "LayoutModel",
            "_view_count": null,
            "_view_module": "@jupyter-widgets/base",
            "_view_module_version": "1.2.0",
            "_view_name": "LayoutView",
            "align_content": null,
            "align_items": null,
            "align_self": null,
            "border": null,
            "bottom": null,
            "display": null,
            "flex": null,
            "flex_flow": null,
            "grid_area": null,
            "grid_auto_columns": null,
            "grid_auto_flow": null,
            "grid_auto_rows": null,
            "grid_column": null,
            "grid_gap": null,
            "grid_row": null,
            "grid_template_areas": null,
            "grid_template_columns": null,
            "grid_template_rows": null,
            "height": null,
            "justify_content": null,
            "justify_items": null,
            "left": null,
            "margin": null,
            "max_height": null,
            "max_width": null,
            "min_height": null,
            "min_width": null,
            "object_fit": null,
            "object_position": null,
            "order": null,
            "overflow": null,
            "overflow_x": null,
            "overflow_y": null,
            "padding": null,
            "right": null,
            "top": null,
            "visibility": null,
            "width": null
          }
        },
        "d356d7ac3a7843a683a2ba72432bd15b": {
          "model_module": "@jupyter-widgets/controls",
          "model_name": "ProgressStyleModel",
          "model_module_version": "1.5.0",
          "state": {
            "_model_module": "@jupyter-widgets/controls",
            "_model_module_version": "1.5.0",
            "_model_name": "ProgressStyleModel",
            "_view_count": null,
            "_view_module": "@jupyter-widgets/base",
            "_view_module_version": "1.2.0",
            "_view_name": "StyleView",
            "bar_color": null,
            "description_width": ""
          }
        },
        "a90596a52cb949afaf8c751d6b236d46": {
          "model_module": "@jupyter-widgets/base",
          "model_name": "LayoutModel",
          "model_module_version": "1.2.0",
          "state": {
            "_model_module": "@jupyter-widgets/base",
            "_model_module_version": "1.2.0",
            "_model_name": "LayoutModel",
            "_view_count": null,
            "_view_module": "@jupyter-widgets/base",
            "_view_module_version": "1.2.0",
            "_view_name": "LayoutView",
            "align_content": null,
            "align_items": null,
            "align_self": null,
            "border": null,
            "bottom": null,
            "display": null,
            "flex": null,
            "flex_flow": null,
            "grid_area": null,
            "grid_auto_columns": null,
            "grid_auto_flow": null,
            "grid_auto_rows": null,
            "grid_column": null,
            "grid_gap": null,
            "grid_row": null,
            "grid_template_areas": null,
            "grid_template_columns": null,
            "grid_template_rows": null,
            "height": null,
            "justify_content": null,
            "justify_items": null,
            "left": null,
            "margin": null,
            "max_height": null,
            "max_width": null,
            "min_height": null,
            "min_width": null,
            "object_fit": null,
            "object_position": null,
            "order": null,
            "overflow": null,
            "overflow_x": null,
            "overflow_y": null,
            "padding": null,
            "right": null,
            "top": null,
            "visibility": null,
            "width": null
          }
        },
        "4ebacd5ef9c748879d654e47daaf8012": {
          "model_module": "@jupyter-widgets/controls",
          "model_name": "DescriptionStyleModel",
          "model_module_version": "1.5.0",
          "state": {
            "_model_module": "@jupyter-widgets/controls",
            "_model_module_version": "1.5.0",
            "_model_name": "DescriptionStyleModel",
            "_view_count": null,
            "_view_module": "@jupyter-widgets/base",
            "_view_module_version": "1.2.0",
            "_view_name": "StyleView",
            "description_width": ""
          }
        }
      }
    }
  },
  "cells": [
    {
      "cell_type": "markdown",
      "source": [
        "# Title Recommendation for Indonesian News Article Using Long Short-Term Memory with Attention Mechanism - [1st Notebook]\n",
        "### Final Project of Joshia Cahyadi - 10119086\n",
        "---\n",
        "\n",
        "*Notebook* ini adalah *notebook* pertama dari 4 *notebook* lainnya. Terdapat 3 hal yang dilakukan pada *notebook* ini:\n",
        "1. Membersihkan data mentah (*data cleaning*),\n",
        "2. Melakukan analisis dan eksplorasi data (*exploratory data analysis*),\n",
        "3. Menyimpan data yang telah diolah menjadi data baru."
      ],
      "metadata": {
        "id": "VFK8aP96r5hf"
      }
    },
    {
      "cell_type": "markdown",
      "source": [
        "# Melakukan Inisialisasi Libraries yang Dibutuhkan"
      ],
      "metadata": {
        "id": "QdX2cAUClL4G"
      }
    },
    {
      "cell_type": "code",
      "execution_count": null,
      "metadata": {
        "id": "dbfub_Psc3SL"
      },
      "outputs": [],
      "source": [
        "# Libraries untuk data manipulation\n",
        "import pandas as pd\n",
        "import numpy as np\n",
        "\n",
        "# Libraries untuk cleaning HTML Tag\n",
        "from bs4 import BeautifulSoup\n",
        "\n",
        "# Libraries untuk progress bar\n",
        "from tqdm.notebook import tqdm_notebook\n",
        "tqdm_notebook.pandas()\n",
        "\n",
        "# Libraries untuk regular expression and text cleaning\n",
        "import re\n",
        "import unicodedata\n",
        "\n",
        "# Libraries untuk estetika print\n",
        "import textwrap\n",
        "\n",
        "# Libraries untuk visualisasi data\n",
        "import seaborn as sns\n",
        "import matplotlib.pyplot as plt"
      ]
    },
    {
      "cell_type": "code",
      "source": [
        "from google.colab import drive\n",
        "drive.mount('/content/drive')"
      ],
      "metadata": {
        "id": "MFpq4rmxdAWK",
        "colab": {
          "base_uri": "https://localhost:8080/"
        },
        "outputId": "71091b8f-643a-468f-a9a5-198beec1a25b"
      },
      "execution_count": null,
      "outputs": [
        {
          "output_type": "stream",
          "name": "stdout",
          "text": [
            "Mounted at /content/drive\n"
          ]
        }
      ]
    },
    {
      "cell_type": "markdown",
      "source": [
        "# Load File Data yang Masih Mentah"
      ],
      "metadata": {
        "id": "sn6kXpEWdCQm"
      }
    },
    {
      "cell_type": "code",
      "source": [
        "# Membaca file mentah\n",
        "df = pd.read_csv('/content/drive/MyDrive/Tugas Akhir 2/Files/mq_news.csv')\n",
        "\n",
        "# Mengambil kolom 'title' dan 'content_html'\n",
        "df = df[['title', 'content_html']]"
      ],
      "metadata": {
        "id": "tJiT9uyMdIYA"
      },
      "execution_count": null,
      "outputs": []
    },
    {
      "cell_type": "code",
      "source": [
        "df"
      ],
      "metadata": {
        "colab": {
          "base_uri": "https://localhost:8080/",
          "height": 423
        },
        "id": "8Y9bapelolVh",
        "outputId": "41a729a1-517c-4c0d-e9f0-f34a61618e6f"
      },
      "execution_count": null,
      "outputs": [
        {
          "output_type": "execute_result",
          "data": {
            "text/plain": [
              "                                                    title  \\\n",
              "0       Tips Agar Resolusi Tahun Baru Bisa Menjadi Aks...   \n",
              "1                  Tragedi Mendebarkan di Penghujung 2016   \n",
              "2       Pantau Tahun Baru, Kapolda Metro Jaya Bonceng ...   \n",
              "3       Terompet dan Kembang Api Bersahutan Sambut Tah...   \n",
              "4       Awas! Copet Berkeliaran di Ancol Malam Tahun B...   \n",
              "...                                                   ...   \n",
              "455673  1 Januari, 107.000 Kendaraan Diprediksi Masuk ...   \n",
              "455674  Disebut Akan ke Barcelona, Coutinho Absen dari...   \n",
              "455675  Anies dan Rhoma Irama Adu Pantun hingga Nyanyi...   \n",
              "455676  Usai Duet dengan Rhoma, Anies Harap Jakarta Le...   \n",
              "455677  Melihat Keramaian Malam Tahun Baru di Tugu Pal...   \n",
              "\n",
              "                                             content_html  \n",
              "0       <div class=\"article-content-body__item-page \" ...  \n",
              "1       <div class=\"article-content-body__item-page \" ...  \n",
              "2       <p><strong>JAKARTA, KOMPAS.com</strong> - Kapo...  \n",
              "3       <div class=\"article-content-body__item-page \" ...  \n",
              "4       <div class=\"article-content-body__item-page \" ...  \n",
              "...                                                   ...  \n",
              "455673  <p><strong>CIKARANG, KOMPAS.com</strong> - Pun...  \n",
              "455674  <p><strong>TEMPO.CO</strong>, <strong>Jakarta<...  \n",
              "455675  <b>Jakarta</b> -Gubernur DKI Anies Baswedan na...  \n",
              "455676  <div class=\"article-content-body__item-page \" ...  \n",
              "455677  <b>Yogyakarta</b> -Tugu Pal Putih menjadi sala...  \n",
              "\n",
              "[455678 rows x 2 columns]"
            ],
            "text/html": [
              "\n",
              "\n",
              "  <div id=\"df-8eb63050-3adb-4072-96b6-b27a6b00e6b9\">\n",
              "    <div class=\"colab-df-container\">\n",
              "      <div>\n",
              "<style scoped>\n",
              "    .dataframe tbody tr th:only-of-type {\n",
              "        vertical-align: middle;\n",
              "    }\n",
              "\n",
              "    .dataframe tbody tr th {\n",
              "        vertical-align: top;\n",
              "    }\n",
              "\n",
              "    .dataframe thead th {\n",
              "        text-align: right;\n",
              "    }\n",
              "</style>\n",
              "<table border=\"1\" class=\"dataframe\">\n",
              "  <thead>\n",
              "    <tr style=\"text-align: right;\">\n",
              "      <th></th>\n",
              "      <th>title</th>\n",
              "      <th>content_html</th>\n",
              "    </tr>\n",
              "  </thead>\n",
              "  <tbody>\n",
              "    <tr>\n",
              "      <th>0</th>\n",
              "      <td>Tips Agar Resolusi Tahun Baru Bisa Menjadi Aks...</td>\n",
              "      <td>&lt;div class=\"article-content-body__item-page \" ...</td>\n",
              "    </tr>\n",
              "    <tr>\n",
              "      <th>1</th>\n",
              "      <td>Tragedi Mendebarkan di Penghujung 2016</td>\n",
              "      <td>&lt;div class=\"article-content-body__item-page \" ...</td>\n",
              "    </tr>\n",
              "    <tr>\n",
              "      <th>2</th>\n",
              "      <td>Pantau Tahun Baru, Kapolda Metro Jaya Bonceng ...</td>\n",
              "      <td>&lt;p&gt;&lt;strong&gt;JAKARTA, KOMPAS.com&lt;/strong&gt; - Kapo...</td>\n",
              "    </tr>\n",
              "    <tr>\n",
              "      <th>3</th>\n",
              "      <td>Terompet dan Kembang Api Bersahutan Sambut Tah...</td>\n",
              "      <td>&lt;div class=\"article-content-body__item-page \" ...</td>\n",
              "    </tr>\n",
              "    <tr>\n",
              "      <th>4</th>\n",
              "      <td>Awas! Copet Berkeliaran di Ancol Malam Tahun B...</td>\n",
              "      <td>&lt;div class=\"article-content-body__item-page \" ...</td>\n",
              "    </tr>\n",
              "    <tr>\n",
              "      <th>...</th>\n",
              "      <td>...</td>\n",
              "      <td>...</td>\n",
              "    </tr>\n",
              "    <tr>\n",
              "      <th>455673</th>\n",
              "      <td>1 Januari, 107.000 Kendaraan Diprediksi Masuk ...</td>\n",
              "      <td>&lt;p&gt;&lt;strong&gt;CIKARANG, KOMPAS.com&lt;/strong&gt; - Pun...</td>\n",
              "    </tr>\n",
              "    <tr>\n",
              "      <th>455674</th>\n",
              "      <td>Disebut Akan ke Barcelona, Coutinho Absen dari...</td>\n",
              "      <td>&lt;p&gt;&lt;strong&gt;TEMPO.CO&lt;/strong&gt;, &lt;strong&gt;Jakarta&lt;...</td>\n",
              "    </tr>\n",
              "    <tr>\n",
              "      <th>455675</th>\n",
              "      <td>Anies dan Rhoma Irama Adu Pantun hingga Nyanyi...</td>\n",
              "      <td>&lt;b&gt;Jakarta&lt;/b&gt; -Gubernur DKI Anies Baswedan na...</td>\n",
              "    </tr>\n",
              "    <tr>\n",
              "      <th>455676</th>\n",
              "      <td>Usai Duet dengan Rhoma, Anies Harap Jakarta Le...</td>\n",
              "      <td>&lt;div class=\"article-content-body__item-page \" ...</td>\n",
              "    </tr>\n",
              "    <tr>\n",
              "      <th>455677</th>\n",
              "      <td>Melihat Keramaian Malam Tahun Baru di Tugu Pal...</td>\n",
              "      <td>&lt;b&gt;Yogyakarta&lt;/b&gt; -Tugu Pal Putih menjadi sala...</td>\n",
              "    </tr>\n",
              "  </tbody>\n",
              "</table>\n",
              "<p>455678 rows × 2 columns</p>\n",
              "</div>\n",
              "      <button class=\"colab-df-convert\" onclick=\"convertToInteractive('df-8eb63050-3adb-4072-96b6-b27a6b00e6b9')\"\n",
              "              title=\"Convert this dataframe to an interactive table.\"\n",
              "              style=\"display:none;\">\n",
              "\n",
              "  <svg xmlns=\"http://www.w3.org/2000/svg\" height=\"24px\"viewBox=\"0 0 24 24\"\n",
              "       width=\"24px\">\n",
              "    <path d=\"M0 0h24v24H0V0z\" fill=\"none\"/>\n",
              "    <path d=\"M18.56 5.44l.94 2.06.94-2.06 2.06-.94-2.06-.94-.94-2.06-.94 2.06-2.06.94zm-11 1L8.5 8.5l.94-2.06 2.06-.94-2.06-.94L8.5 2.5l-.94 2.06-2.06.94zm10 10l.94 2.06.94-2.06 2.06-.94-2.06-.94-.94-2.06-.94 2.06-2.06.94z\"/><path d=\"M17.41 7.96l-1.37-1.37c-.4-.4-.92-.59-1.43-.59-.52 0-1.04.2-1.43.59L10.3 9.45l-7.72 7.72c-.78.78-.78 2.05 0 2.83L4 21.41c.39.39.9.59 1.41.59.51 0 1.02-.2 1.41-.59l7.78-7.78 2.81-2.81c.8-.78.8-2.07 0-2.86zM5.41 20L4 18.59l7.72-7.72 1.47 1.35L5.41 20z\"/>\n",
              "  </svg>\n",
              "      </button>\n",
              "\n",
              "\n",
              "\n",
              "    <div id=\"df-dace017e-9b6b-4f09-a4b6-73704d472241\">\n",
              "      <button class=\"colab-df-quickchart\" onclick=\"quickchart('df-dace017e-9b6b-4f09-a4b6-73704d472241')\"\n",
              "              title=\"Suggest charts.\"\n",
              "              style=\"display:none;\">\n",
              "\n",
              "<svg xmlns=\"http://www.w3.org/2000/svg\" height=\"24px\"viewBox=\"0 0 24 24\"\n",
              "     width=\"24px\">\n",
              "    <g>\n",
              "        <path d=\"M19 3H5c-1.1 0-2 .9-2 2v14c0 1.1.9 2 2 2h14c1.1 0 2-.9 2-2V5c0-1.1-.9-2-2-2zM9 17H7v-7h2v7zm4 0h-2V7h2v10zm4 0h-2v-4h2v4z\"/>\n",
              "    </g>\n",
              "</svg>\n",
              "      </button>\n",
              "    </div>\n",
              "\n",
              "<style>\n",
              "  .colab-df-quickchart {\n",
              "    background-color: #E8F0FE;\n",
              "    border: none;\n",
              "    border-radius: 50%;\n",
              "    cursor: pointer;\n",
              "    display: none;\n",
              "    fill: #1967D2;\n",
              "    height: 32px;\n",
              "    padding: 0 0 0 0;\n",
              "    width: 32px;\n",
              "  }\n",
              "\n",
              "  .colab-df-quickchart:hover {\n",
              "    background-color: #E2EBFA;\n",
              "    box-shadow: 0px 1px 2px rgba(60, 64, 67, 0.3), 0px 1px 3px 1px rgba(60, 64, 67, 0.15);\n",
              "    fill: #174EA6;\n",
              "  }\n",
              "\n",
              "  [theme=dark] .colab-df-quickchart {\n",
              "    background-color: #3B4455;\n",
              "    fill: #D2E3FC;\n",
              "  }\n",
              "\n",
              "  [theme=dark] .colab-df-quickchart:hover {\n",
              "    background-color: #434B5C;\n",
              "    box-shadow: 0px 1px 3px 1px rgba(0, 0, 0, 0.15);\n",
              "    filter: drop-shadow(0px 1px 2px rgba(0, 0, 0, 0.3));\n",
              "    fill: #FFFFFF;\n",
              "  }\n",
              "</style>\n",
              "\n",
              "    <script>\n",
              "      async function quickchart(key) {\n",
              "        const containerElement = document.querySelector('#' + key);\n",
              "        const charts = await google.colab.kernel.invokeFunction(\n",
              "            'suggestCharts', [key], {});\n",
              "      }\n",
              "    </script>\n",
              "\n",
              "      <script>\n",
              "\n",
              "function displayQuickchartButton(domScope) {\n",
              "  let quickchartButtonEl =\n",
              "    domScope.querySelector('#df-dace017e-9b6b-4f09-a4b6-73704d472241 button.colab-df-quickchart');\n",
              "  quickchartButtonEl.style.display =\n",
              "    google.colab.kernel.accessAllowed ? 'block' : 'none';\n",
              "}\n",
              "\n",
              "        displayQuickchartButton(document);\n",
              "      </script>\n",
              "      <style>\n",
              "    .colab-df-container {\n",
              "      display:flex;\n",
              "      flex-wrap:wrap;\n",
              "      gap: 12px;\n",
              "    }\n",
              "\n",
              "    .colab-df-convert {\n",
              "      background-color: #E8F0FE;\n",
              "      border: none;\n",
              "      border-radius: 50%;\n",
              "      cursor: pointer;\n",
              "      display: none;\n",
              "      fill: #1967D2;\n",
              "      height: 32px;\n",
              "      padding: 0 0 0 0;\n",
              "      width: 32px;\n",
              "    }\n",
              "\n",
              "    .colab-df-convert:hover {\n",
              "      background-color: #E2EBFA;\n",
              "      box-shadow: 0px 1px 2px rgba(60, 64, 67, 0.3), 0px 1px 3px 1px rgba(60, 64, 67, 0.15);\n",
              "      fill: #174EA6;\n",
              "    }\n",
              "\n",
              "    [theme=dark] .colab-df-convert {\n",
              "      background-color: #3B4455;\n",
              "      fill: #D2E3FC;\n",
              "    }\n",
              "\n",
              "    [theme=dark] .colab-df-convert:hover {\n",
              "      background-color: #434B5C;\n",
              "      box-shadow: 0px 1px 3px 1px rgba(0, 0, 0, 0.15);\n",
              "      filter: drop-shadow(0px 1px 2px rgba(0, 0, 0, 0.3));\n",
              "      fill: #FFFFFF;\n",
              "    }\n",
              "  </style>\n",
              "\n",
              "      <script>\n",
              "        const buttonEl =\n",
              "          document.querySelector('#df-8eb63050-3adb-4072-96b6-b27a6b00e6b9 button.colab-df-convert');\n",
              "        buttonEl.style.display =\n",
              "          google.colab.kernel.accessAllowed ? 'block' : 'none';\n",
              "\n",
              "        async function convertToInteractive(key) {\n",
              "          const element = document.querySelector('#df-8eb63050-3adb-4072-96b6-b27a6b00e6b9');\n",
              "          const dataTable =\n",
              "            await google.colab.kernel.invokeFunction('convertToInteractive',\n",
              "                                                     [key], {});\n",
              "          if (!dataTable) return;\n",
              "\n",
              "          const docLinkHtml = 'Like what you see? Visit the ' +\n",
              "            '<a target=\"_blank\" href=https://colab.research.google.com/notebooks/data_table.ipynb>data table notebook</a>'\n",
              "            + ' to learn more about interactive tables.';\n",
              "          element.innerHTML = '';\n",
              "          dataTable['output_type'] = 'display_data';\n",
              "          await google.colab.output.renderOutput(dataTable, element);\n",
              "          const docLink = document.createElement('div');\n",
              "          docLink.innerHTML = docLinkHtml;\n",
              "          element.appendChild(docLink);\n",
              "        }\n",
              "      </script>\n",
              "    </div>\n",
              "  </div>\n"
            ]
          },
          "metadata": {},
          "execution_count": 4
        }
      ]
    },
    {
      "cell_type": "code",
      "source": [
        "content = df['content_html'].iloc[455673]\n",
        "print(textwrap.fill(content, width=100))"
      ],
      "metadata": {
        "colab": {
          "base_uri": "https://localhost:8080/"
        },
        "id": "OTt6bBENorza",
        "outputId": "48dbcbf8-4953-4997-9779-ecbd6cc0c2f6"
      },
      "execution_count": null,
      "outputs": [
        {
          "output_type": "stream",
          "name": "stdout",
          "text": [
            "<p><strong>CIKARANG, KOMPAS.com</strong> - Puncak  <a target=\"_blank\" class=\"inner-link\"\n",
            "href=\"http://indeks.kompas.com/tag/arus-balik\" style=\"color:#428bca;\">arus balik</a> perayaan tahun\n",
            "baru diprediksi akan terjadi Senin (1/1/2018). Kepala Korps Lalu Lintas Polri Irjen Royke Lumowa\n",
            "mengatakan, diperkirakan sekitar 107.000 kendaraan akan kembali ke Jakarta. </p><p> \"Prediksi dari\n",
            "Jasa Marga, besok diperkirakan <em>totally</em> masih ada 107.000 kendaraan yang akan masuk Jakarta\n",
            "lewat sini,\" ujar Royke di Tol Cikarang Utama, Cikarang, Minggu (31/12/2017) malam. </p><p> Arus\n",
            "kendaraan menuju Jakarta diperkirakan mulai pukul 15.00 hingga tengah malam. Sementara itu, situasi\n",
            "Tol Cikarang Utama saat ini terbilang lengang. Volume kendaraan yang masuk dan keluar tidak banyak.\n",
            "</p><p> \"Kerja keras nih besok kami. Sekarang landai keluar masuk,\" kata Royke.</p><p>Baca juga: <a\n",
            "href=\"http://nasional.kompas.com/read/2017/12/31/19415181/jalur-ke-puncak-resmi-ditutup-polisi-\n",
            "sebut-lalu-lintas-lengang\" class=\"inner-link\" target=\"_blank\">Jalur ke Puncak Resmi Ditutup, Polisi\n",
            "Sebut Lalu Lintas Lengang </a> </p><p> Sebelumnya, Royke juga memantau situasi lalu lintas di\n",
            "kawasan Puncak, Bogor. Sama dengan Tol Cikarang Utama, Tol Jagorawi ke arah Puncak dan Ciawi sangat\n",
            "lengang.</p><p>Bahkan, sebelum jalan menuju Puncak ditutup pukul 18.00 WIB. Sudah tidak ada lagi\n",
            "kendaraan yang melintas. Penutupan jalur teraebut terkait dilakukannya <em>car free night</em>\n",
            "hingga Senin pagi. </p><p> Sementara itu, di kawasan wisata lain di kota besar terpantau padat.\n",
            "</p><p> \"Contohnya, Jakarta <em>car free night</em> kami lakukan di Sudirman, Thamrin, Monas, ini\n",
            "sangat mengurangi kepadatan. Begitu juga kota lain,\" kata Royke. </p><div id=\"65198\"\n",
            "class=\"video\"><iframe src=\"https://playv.kompas.com/9fce14858443147921c620/085c14943041642afea855_de\n",
            "fault/index?vid=e4ab15147258695ef6a463_cmsv\" frameborder=\"0\" width=\"100%\" allowfullscreen=\"true\"\n",
            "webkitallowfullscreen=\"true\" height=\"301px\"></iframe><span class=\"pb_10 author\">Kompas TV</span>\n",
            "Mengantisipasi kemacetan Polda Bali melakukan pengalihan lalu lintas terutama menuju Pantai Kuta\n",
            "Bali.</div><p></p><p></p><div id=\"div-gpt-ad-974648810682144181-4112\">         </div>  <br><div\n",
            "class=\"fb-quote\"></div>\n"
          ]
        }
      ]
    },
    {
      "cell_type": "code",
      "source": [
        "content = new_df['content_html'].iloc[455673]\n",
        "print(textwrap.fill(content, width=70))"
      ],
      "metadata": {
        "colab": {
          "base_uri": "https://localhost:8080/"
        },
        "id": "PfGhNcHVvDqI",
        "outputId": "0020fc9c-2925-47ff-a071-079348a57ecf"
      },
      "execution_count": null,
      "outputs": [
        {
          "output_type": "stream",
          "name": "stdout",
          "text": [
            "puncak perayaan tahun baru diprediksi akan terjadi senin . kepala\n",
            "korps lalu lintas polri irjen royke lumowa mengatakan, diperkirakan\n",
            "sekitar 107.000 kendaraan akan kembali ke jakarta. prediksi dari jasa\n",
            "marga, besok diperkirakan totally masih ada 107.000 kendaraan yang\n",
            "akan masuk jakarta lewat sini, ujar royke di tol cikarang utama,\n",
            "cikarang, minggu malam. arus kendaraan menuju jakarta diperkirakan\n",
            "mulai pukul 15.00 hingga tengah malam. sementara itu, situasi tol\n",
            "cikarang utama saat ini terbilang lengang. volume kendaraan yang masuk\n",
            "dan keluar tidak banyak. kerja keras nih besok kami. sekarang landai\n",
            "keluar masuk, kata royke\n"
          ]
        }
      ]
    },
    {
      "cell_type": "markdown",
      "source": [
        "# Membersihkan Data"
      ],
      "metadata": {
        "id": "EoMztwSJdVkt"
      }
    },
    {
      "cell_type": "code",
      "source": [
        "# Definisikan fungsi clean_html untuk membersihkan artikel berita dari  berbagai tag html, seperti <a>, <href>, dll.\n",
        "def clean_html(article):\n",
        "  bs = BeautifulSoup(article, 'html.parser')\n",
        "  for data in bs(['style','script','code','a']):\n",
        "    data.decompose()\n",
        "\n",
        "  return ' '.join(bs.stripped_strings)"
      ],
      "metadata": {
        "id": "QHi7kcC8dJcY"
      },
      "execution_count": null,
      "outputs": []
    },
    {
      "cell_type": "code",
      "source": [
        "# Menerapkan fungsi clean_html ke df\n",
        "df['content_html'] = df['content_html'].progress_apply(lambda row: clean_html(row))"
      ],
      "metadata": {
        "id": "mD3UohBedXm7",
        "colab": {
          "base_uri": "https://localhost:8080/",
          "height": 84,
          "referenced_widgets": [
            "3bb1c6ce96954b51b4f4afcc1aa8cc42",
            "0e87953de9d34e35b2e33a1c4373e205",
            "bf98f170b40f49769d2222aa6b9545c4",
            "c1609d7599464e188982874b548a279d",
            "179a76f72e8e4276a72b271973c70e3c",
            "e15f1919ba1f4b22b7dcc20cd015aa76",
            "8e1ca4ea74b54ad49fac30855c52723c",
            "62924f6e38ec4e5caca5f93c69d052d8",
            "40efd259c0f54b349acf1e96e279f184",
            "dbf6bca400514e478d2e78959b0649bf",
            "43eedbbdeb11401c8d91e64ce270d413"
          ]
        },
        "outputId": "55f58544-6d77-4886-b618-f6954aacef64"
      },
      "execution_count": null,
      "outputs": [
        {
          "output_type": "display_data",
          "data": {
            "text/plain": [
              "  0%|          | 0/455678 [00:00<?, ?it/s]"
            ],
            "application/vnd.jupyter.widget-view+json": {
              "version_major": 2,
              "version_minor": 0,
              "model_id": "3bb1c6ce96954b51b4f4afcc1aa8cc42"
            }
          },
          "metadata": {}
        },
        {
          "output_type": "stream",
          "name": "stderr",
          "text": [
            "<ipython-input-6-38ed93a7d4ec>:3: MarkupResemblesLocatorWarning: The input looks more like a filename than markup. You may want to open this file and pass the filehandle into Beautiful Soup.\n",
            "  bs = BeautifulSoup(article, 'html.parser')\n"
          ]
        }
      ]
    },
    {
      "cell_type": "code",
      "source": [
        "# Definisikan fungsi clean_unicode untuk membersihkan unicode, seperti simbol-simbol emoji dari data\n",
        "def clean_unicode(article):\n",
        "  text_encode = article.encode('ascii','ignore')\n",
        "  text_decode = text_encode.decode()\n",
        "\n",
        "  return text_decode"
      ],
      "metadata": {
        "id": "yUdJ3T9ldcE9"
      },
      "execution_count": null,
      "outputs": []
    },
    {
      "cell_type": "code",
      "source": [
        "# Menerapkan fungsi clean_unicode ke df\n",
        "df['content_html'] = df['content_html'].progress_apply(lambda row: clean_unicode(row))"
      ],
      "metadata": {
        "id": "NsOSElbtdch3",
        "colab": {
          "base_uri": "https://localhost:8080/",
          "height": 49,
          "referenced_widgets": [
            "92f4405afec74affaf8d4c0193faf42b",
            "09670e62919b4362a51ce45a0be901ad",
            "69035a36d03b486db81cad3b712b47f2",
            "8a95fae6a48040869580a703e9706ff0",
            "7839f4dfb27d45b08927fcbe098d8121",
            "32f4d8277748435989e73836d1fded8e",
            "2a6278595b6e49758c90a8415f737695",
            "d9156a85bf894923a32af644dab37cc8",
            "feac5209b6d54c9d91ecb2b6cea86a48",
            "867f2147b93943bab66446e7b68733f7",
            "6dd420b1bde7432d9a08abe691ae98aa"
          ]
        },
        "outputId": "c235d05c-ac4d-4630-87b6-afefddf98c2b"
      },
      "execution_count": null,
      "outputs": [
        {
          "output_type": "display_data",
          "data": {
            "text/plain": [
              "  0%|          | 0/455678 [00:00<?, ?it/s]"
            ],
            "application/vnd.jupyter.widget-view+json": {
              "version_major": 2,
              "version_minor": 0,
              "model_id": "92f4405afec74affaf8d4c0193faf42b"
            }
          },
          "metadata": {}
        }
      ]
    },
    {
      "cell_type": "code",
      "source": [
        "df"
      ],
      "metadata": {
        "colab": {
          "base_uri": "https://localhost:8080/",
          "height": 423
        },
        "id": "4A9YEYAiCVvz",
        "outputId": "a22ebae3-52f5-4fea-88b3-3b781ecad8f0"
      },
      "execution_count": null,
      "outputs": [
        {
          "output_type": "execute_result",
          "data": {
            "text/plain": [
              "                                                    title  \\\n",
              "0       Tips Agar Resolusi Tahun Baru Bisa Menjadi Aks...   \n",
              "1                  Tragedi Mendebarkan di Penghujung 2016   \n",
              "2       Pantau Tahun Baru, Kapolda Metro Jaya Bonceng ...   \n",
              "3       Terompet dan Kembang Api Bersahutan Sambut Tah...   \n",
              "4       Awas! Copet Berkeliaran di Ancol Malam Tahun B...   \n",
              "...                                                   ...   \n",
              "455673  1 Januari, 107.000 Kendaraan Diprediksi Masuk ...   \n",
              "455674  Disebut Akan ke Barcelona, Coutinho Absen dari...   \n",
              "455675  Anies dan Rhoma Irama Adu Pantun hingga Nyanyi...   \n",
              "455676  Usai Duet dengan Rhoma, Anies Harap Jakarta Le...   \n",
              "455677  Melihat Keramaian Malam Tahun Baru di Tugu Pal...   \n",
              "\n",
              "                                             content_html  \n",
              "0       Liputan6.com, Jakarta Momen tahun baru datang ...  \n",
              "1       Liputan6.com, Jakarta - 366 hari telah berlalu...  \n",
              "2       JAKARTA, KOMPAS.com - Kapolda Metro Jaya Irjen...  \n",
              "3       Liputan6.com, Jakarta - akhirnya tiba. Kedatan...  \n",
              "4       Liputan6.com, Jakarta - Belasan orang mengantr...  \n",
              "...                                                   ...  \n",
              "455673  CIKARANG, KOMPAS.com - Puncak perayaan tahun b...  \n",
              "455674  TEMPO.CO , Jakarta -Kabar perpindahan gelandan...  \n",
              "455675  Jakarta -Gubernur DKI Anies Baswedan naik pang...  \n",
              "455676  Liputan6.com, Jakarta - Gubernur DKI Jakarta b...  \n",
              "455677  Yogyakarta -Tugu Pal Putih menjadi salah satu ...  \n",
              "\n",
              "[455678 rows x 2 columns]"
            ],
            "text/html": [
              "\n",
              "\n",
              "  <div id=\"df-8a5f5a46-6d55-4639-b1a1-1a3ff6fd84cf\">\n",
              "    <div class=\"colab-df-container\">\n",
              "      <div>\n",
              "<style scoped>\n",
              "    .dataframe tbody tr th:only-of-type {\n",
              "        vertical-align: middle;\n",
              "    }\n",
              "\n",
              "    .dataframe tbody tr th {\n",
              "        vertical-align: top;\n",
              "    }\n",
              "\n",
              "    .dataframe thead th {\n",
              "        text-align: right;\n",
              "    }\n",
              "</style>\n",
              "<table border=\"1\" class=\"dataframe\">\n",
              "  <thead>\n",
              "    <tr style=\"text-align: right;\">\n",
              "      <th></th>\n",
              "      <th>title</th>\n",
              "      <th>content_html</th>\n",
              "    </tr>\n",
              "  </thead>\n",
              "  <tbody>\n",
              "    <tr>\n",
              "      <th>0</th>\n",
              "      <td>Tips Agar Resolusi Tahun Baru Bisa Menjadi Aks...</td>\n",
              "      <td>Liputan6.com, Jakarta Momen tahun baru datang ...</td>\n",
              "    </tr>\n",
              "    <tr>\n",
              "      <th>1</th>\n",
              "      <td>Tragedi Mendebarkan di Penghujung 2016</td>\n",
              "      <td>Liputan6.com, Jakarta - 366 hari telah berlalu...</td>\n",
              "    </tr>\n",
              "    <tr>\n",
              "      <th>2</th>\n",
              "      <td>Pantau Tahun Baru, Kapolda Metro Jaya Bonceng ...</td>\n",
              "      <td>JAKARTA, KOMPAS.com - Kapolda Metro Jaya Irjen...</td>\n",
              "    </tr>\n",
              "    <tr>\n",
              "      <th>3</th>\n",
              "      <td>Terompet dan Kembang Api Bersahutan Sambut Tah...</td>\n",
              "      <td>Liputan6.com, Jakarta - akhirnya tiba. Kedatan...</td>\n",
              "    </tr>\n",
              "    <tr>\n",
              "      <th>4</th>\n",
              "      <td>Awas! Copet Berkeliaran di Ancol Malam Tahun B...</td>\n",
              "      <td>Liputan6.com, Jakarta - Belasan orang mengantr...</td>\n",
              "    </tr>\n",
              "    <tr>\n",
              "      <th>...</th>\n",
              "      <td>...</td>\n",
              "      <td>...</td>\n",
              "    </tr>\n",
              "    <tr>\n",
              "      <th>455673</th>\n",
              "      <td>1 Januari, 107.000 Kendaraan Diprediksi Masuk ...</td>\n",
              "      <td>CIKARANG, KOMPAS.com - Puncak perayaan tahun b...</td>\n",
              "    </tr>\n",
              "    <tr>\n",
              "      <th>455674</th>\n",
              "      <td>Disebut Akan ke Barcelona, Coutinho Absen dari...</td>\n",
              "      <td>TEMPO.CO , Jakarta -Kabar perpindahan gelandan...</td>\n",
              "    </tr>\n",
              "    <tr>\n",
              "      <th>455675</th>\n",
              "      <td>Anies dan Rhoma Irama Adu Pantun hingga Nyanyi...</td>\n",
              "      <td>Jakarta -Gubernur DKI Anies Baswedan naik pang...</td>\n",
              "    </tr>\n",
              "    <tr>\n",
              "      <th>455676</th>\n",
              "      <td>Usai Duet dengan Rhoma, Anies Harap Jakarta Le...</td>\n",
              "      <td>Liputan6.com, Jakarta - Gubernur DKI Jakarta b...</td>\n",
              "    </tr>\n",
              "    <tr>\n",
              "      <th>455677</th>\n",
              "      <td>Melihat Keramaian Malam Tahun Baru di Tugu Pal...</td>\n",
              "      <td>Yogyakarta -Tugu Pal Putih menjadi salah satu ...</td>\n",
              "    </tr>\n",
              "  </tbody>\n",
              "</table>\n",
              "<p>455678 rows × 2 columns</p>\n",
              "</div>\n",
              "      <button class=\"colab-df-convert\" onclick=\"convertToInteractive('df-8a5f5a46-6d55-4639-b1a1-1a3ff6fd84cf')\"\n",
              "              title=\"Convert this dataframe to an interactive table.\"\n",
              "              style=\"display:none;\">\n",
              "\n",
              "  <svg xmlns=\"http://www.w3.org/2000/svg\" height=\"24px\"viewBox=\"0 0 24 24\"\n",
              "       width=\"24px\">\n",
              "    <path d=\"M0 0h24v24H0V0z\" fill=\"none\"/>\n",
              "    <path d=\"M18.56 5.44l.94 2.06.94-2.06 2.06-.94-2.06-.94-.94-2.06-.94 2.06-2.06.94zm-11 1L8.5 8.5l.94-2.06 2.06-.94-2.06-.94L8.5 2.5l-.94 2.06-2.06.94zm10 10l.94 2.06.94-2.06 2.06-.94-2.06-.94-.94-2.06-.94 2.06-2.06.94z\"/><path d=\"M17.41 7.96l-1.37-1.37c-.4-.4-.92-.59-1.43-.59-.52 0-1.04.2-1.43.59L10.3 9.45l-7.72 7.72c-.78.78-.78 2.05 0 2.83L4 21.41c.39.39.9.59 1.41.59.51 0 1.02-.2 1.41-.59l7.78-7.78 2.81-2.81c.8-.78.8-2.07 0-2.86zM5.41 20L4 18.59l7.72-7.72 1.47 1.35L5.41 20z\"/>\n",
              "  </svg>\n",
              "      </button>\n",
              "\n",
              "\n",
              "\n",
              "    <div id=\"df-fe3ffdf2-df2b-44b1-bb05-1a277d4ef7ba\">\n",
              "      <button class=\"colab-df-quickchart\" onclick=\"quickchart('df-fe3ffdf2-df2b-44b1-bb05-1a277d4ef7ba')\"\n",
              "              title=\"Suggest charts.\"\n",
              "              style=\"display:none;\">\n",
              "\n",
              "<svg xmlns=\"http://www.w3.org/2000/svg\" height=\"24px\"viewBox=\"0 0 24 24\"\n",
              "     width=\"24px\">\n",
              "    <g>\n",
              "        <path d=\"M19 3H5c-1.1 0-2 .9-2 2v14c0 1.1.9 2 2 2h14c1.1 0 2-.9 2-2V5c0-1.1-.9-2-2-2zM9 17H7v-7h2v7zm4 0h-2V7h2v10zm4 0h-2v-4h2v4z\"/>\n",
              "    </g>\n",
              "</svg>\n",
              "      </button>\n",
              "    </div>\n",
              "\n",
              "<style>\n",
              "  .colab-df-quickchart {\n",
              "    background-color: #E8F0FE;\n",
              "    border: none;\n",
              "    border-radius: 50%;\n",
              "    cursor: pointer;\n",
              "    display: none;\n",
              "    fill: #1967D2;\n",
              "    height: 32px;\n",
              "    padding: 0 0 0 0;\n",
              "    width: 32px;\n",
              "  }\n",
              "\n",
              "  .colab-df-quickchart:hover {\n",
              "    background-color: #E2EBFA;\n",
              "    box-shadow: 0px 1px 2px rgba(60, 64, 67, 0.3), 0px 1px 3px 1px rgba(60, 64, 67, 0.15);\n",
              "    fill: #174EA6;\n",
              "  }\n",
              "\n",
              "  [theme=dark] .colab-df-quickchart {\n",
              "    background-color: #3B4455;\n",
              "    fill: #D2E3FC;\n",
              "  }\n",
              "\n",
              "  [theme=dark] .colab-df-quickchart:hover {\n",
              "    background-color: #434B5C;\n",
              "    box-shadow: 0px 1px 3px 1px rgba(0, 0, 0, 0.15);\n",
              "    filter: drop-shadow(0px 1px 2px rgba(0, 0, 0, 0.3));\n",
              "    fill: #FFFFFF;\n",
              "  }\n",
              "</style>\n",
              "\n",
              "    <script>\n",
              "      async function quickchart(key) {\n",
              "        const containerElement = document.querySelector('#' + key);\n",
              "        const charts = await google.colab.kernel.invokeFunction(\n",
              "            'suggestCharts', [key], {});\n",
              "      }\n",
              "    </script>\n",
              "\n",
              "      <script>\n",
              "\n",
              "function displayQuickchartButton(domScope) {\n",
              "  let quickchartButtonEl =\n",
              "    domScope.querySelector('#df-fe3ffdf2-df2b-44b1-bb05-1a277d4ef7ba button.colab-df-quickchart');\n",
              "  quickchartButtonEl.style.display =\n",
              "    google.colab.kernel.accessAllowed ? 'block' : 'none';\n",
              "}\n",
              "\n",
              "        displayQuickchartButton(document);\n",
              "      </script>\n",
              "      <style>\n",
              "    .colab-df-container {\n",
              "      display:flex;\n",
              "      flex-wrap:wrap;\n",
              "      gap: 12px;\n",
              "    }\n",
              "\n",
              "    .colab-df-convert {\n",
              "      background-color: #E8F0FE;\n",
              "      border: none;\n",
              "      border-radius: 50%;\n",
              "      cursor: pointer;\n",
              "      display: none;\n",
              "      fill: #1967D2;\n",
              "      height: 32px;\n",
              "      padding: 0 0 0 0;\n",
              "      width: 32px;\n",
              "    }\n",
              "\n",
              "    .colab-df-convert:hover {\n",
              "      background-color: #E2EBFA;\n",
              "      box-shadow: 0px 1px 2px rgba(60, 64, 67, 0.3), 0px 1px 3px 1px rgba(60, 64, 67, 0.15);\n",
              "      fill: #174EA6;\n",
              "    }\n",
              "\n",
              "    [theme=dark] .colab-df-convert {\n",
              "      background-color: #3B4455;\n",
              "      fill: #D2E3FC;\n",
              "    }\n",
              "\n",
              "    [theme=dark] .colab-df-convert:hover {\n",
              "      background-color: #434B5C;\n",
              "      box-shadow: 0px 1px 3px 1px rgba(0, 0, 0, 0.15);\n",
              "      filter: drop-shadow(0px 1px 2px rgba(0, 0, 0, 0.3));\n",
              "      fill: #FFFFFF;\n",
              "    }\n",
              "  </style>\n",
              "\n",
              "      <script>\n",
              "        const buttonEl =\n",
              "          document.querySelector('#df-8a5f5a46-6d55-4639-b1a1-1a3ff6fd84cf button.colab-df-convert');\n",
              "        buttonEl.style.display =\n",
              "          google.colab.kernel.accessAllowed ? 'block' : 'none';\n",
              "\n",
              "        async function convertToInteractive(key) {\n",
              "          const element = document.querySelector('#df-8a5f5a46-6d55-4639-b1a1-1a3ff6fd84cf');\n",
              "          const dataTable =\n",
              "            await google.colab.kernel.invokeFunction('convertToInteractive',\n",
              "                                                     [key], {});\n",
              "          if (!dataTable) return;\n",
              "\n",
              "          const docLinkHtml = 'Like what you see? Visit the ' +\n",
              "            '<a target=\"_blank\" href=https://colab.research.google.com/notebooks/data_table.ipynb>data table notebook</a>'\n",
              "            + ' to learn more about interactive tables.';\n",
              "          element.innerHTML = '';\n",
              "          dataTable['output_type'] = 'display_data';\n",
              "          await google.colab.output.renderOutput(dataTable, element);\n",
              "          const docLink = document.createElement('div');\n",
              "          docLink.innerHTML = docLinkHtml;\n",
              "          element.appendChild(docLink);\n",
              "        }\n",
              "      </script>\n",
              "    </div>\n",
              "  </div>\n"
            ]
          },
          "metadata": {},
          "execution_count": 10
        }
      ]
    },
    {
      "cell_type": "code",
      "source": [
        "df['content_html'].iloc[455673]"
      ],
      "metadata": {
        "colab": {
          "base_uri": "https://localhost:8080/",
          "height": 123
        },
        "id": "xJfzvaQBCZPk",
        "outputId": "b2a617f9-2eca-4ada-ec92-45cee59a1824"
      },
      "execution_count": null,
      "outputs": [
        {
          "output_type": "execute_result",
          "data": {
            "text/plain": [
              "'CIKARANG, KOMPAS.com - Puncak perayaan tahun baru diprediksi akan terjadi Senin (1/1/2018). Kepala Korps Lalu Lintas Polri Irjen Royke Lumowa mengatakan, diperkirakan sekitar 107.000 kendaraan akan kembali ke Jakarta. \"Prediksi dari Jasa Marga, besok diperkirakan totally masih ada 107.000 kendaraan yang akan masuk Jakarta lewat sini,\" ujar Royke di Tol Cikarang Utama, Cikarang, Minggu (31/12/2017) malam. Arus kendaraan menuju Jakarta diperkirakan mulai pukul 15.00 hingga tengah malam. Sementara itu, situasi Tol Cikarang Utama saat ini terbilang lengang. Volume kendaraan yang masuk dan keluar tidak banyak. \"Kerja keras nih besok kami. Sekarang landai keluar masuk,\" kata Royke. Baca juga: Sebelumnya, Royke juga memantau situasi lalu lintas di kawasan Puncak, Bogor. Sama dengan Tol Cikarang Utama, Tol Jagorawi ke arah Puncak dan Ciawi sangat lengang. Bahkan, sebelum jalan menuju Puncak ditutup pukul 18.00 WIB. Sudah tidak ada lagi kendaraan yang melintas. Penutupan jalur teraebut terkait dilakukannya car free night hingga Senin pagi. Sementara itu, di kawasan wisata lain di kota besar terpantau padat. \"Contohnya, Jakarta car free night kami lakukan di Sudirman, Thamrin, Monas, ini sangat mengurangi kepadatan. Begitu juga kota lain,\" kata Royke. Kompas TV Mengantisipasi kemacetan Polda Bali melakukan pengalihan lalu lintas terutama menuju Pantai Kuta Bali.'"
            ],
            "application/vnd.google.colaboratory.intrinsic+json": {
              "type": "string"
            }
          },
          "metadata": {},
          "execution_count": 11
        }
      ]
    },
    {
      "cell_type": "code",
      "source": [
        "test = df['content_html'].iloc[455673]\n",
        "x = test.split('Baca juga')"
      ],
      "metadata": {
        "id": "BkMnv1GlCmTV"
      },
      "execution_count": null,
      "outputs": []
    },
    {
      "cell_type": "code",
      "source": [
        "x_1 = x[0]\n",
        "x_1"
      ],
      "metadata": {
        "colab": {
          "base_uri": "https://localhost:8080/",
          "height": 105
        },
        "id": "OY0sQ_mKC3xc",
        "outputId": "d82e5a57-f44e-431b-fc0f-9d0d923780e4"
      },
      "execution_count": null,
      "outputs": [
        {
          "output_type": "execute_result",
          "data": {
            "text/plain": [
              "'CIKARANG, KOMPAS.com - Puncak perayaan tahun baru diprediksi akan terjadi Senin (1/1/2018). Kepala Korps Lalu Lintas Polri Irjen Royke Lumowa mengatakan, diperkirakan sekitar 107.000 kendaraan akan kembali ke Jakarta. \"Prediksi dari Jasa Marga, besok diperkirakan totally masih ada 107.000 kendaraan yang akan masuk Jakarta lewat sini,\" ujar Royke di Tol Cikarang Utama, Cikarang, Minggu (31/12/2017) malam. Arus kendaraan menuju Jakarta diperkirakan mulai pukul 15.00 hingga tengah malam. Sementara itu, situasi Tol Cikarang Utama saat ini terbilang lengang. Volume kendaraan yang masuk dan keluar tidak banyak. \"Kerja keras nih besok kami. Sekarang landai keluar masuk,\" kata Royke. '"
            ],
            "application/vnd.google.colaboratory.intrinsic+json": {
              "type": "string"
            }
          },
          "metadata": {},
          "execution_count": 17
        }
      ]
    },
    {
      "cell_type": "code",
      "source": [
        "x_2 = x_1.split('-')\n",
        "x_2"
      ],
      "metadata": {
        "colab": {
          "base_uri": "https://localhost:8080/"
        },
        "id": "JGcCfSWeDldL",
        "outputId": "8e4f96fe-34ba-4049-d72c-d12276eeb240"
      },
      "execution_count": null,
      "outputs": [
        {
          "output_type": "execute_result",
          "data": {
            "text/plain": [
              "['CIKARANG, KOMPAS.com ',\n",
              " ' Puncak perayaan tahun baru diprediksi akan terjadi Senin (1/1/2018). Kepala Korps Lalu Lintas Polri Irjen Royke Lumowa mengatakan, diperkirakan sekitar 107.000 kendaraan akan kembali ke Jakarta. \"Prediksi dari Jasa Marga, besok diperkirakan totally masih ada 107.000 kendaraan yang akan masuk Jakarta lewat sini,\" ujar Royke di Tol Cikarang Utama, Cikarang, Minggu (31/12/2017) malam. Arus kendaraan menuju Jakarta diperkirakan mulai pukul 15.00 hingga tengah malam. Sementara itu, situasi Tol Cikarang Utama saat ini terbilang lengang. Volume kendaraan yang masuk dan keluar tidak banyak. \"Kerja keras nih besok kami. Sekarang landai keluar masuk,\" kata Royke. ']"
            ]
          },
          "metadata": {},
          "execution_count": 24
        }
      ]
    },
    {
      "cell_type": "code",
      "source": [
        "test1 = df['content_html'].iloc[455674]\n",
        "test2 = test1.split('-')\n",
        "test2"
      ],
      "metadata": {
        "colab": {
          "base_uri": "https://localhost:8080/"
        },
        "id": "nd2n3RWiEGmz",
        "outputId": "c55e7011-0a28-4e2c-ed05-627db3678377"
      },
      "execution_count": null,
      "outputs": [
        {
          "output_type": "execute_result",
          "data": {
            "text/plain": [
              "['TEMPO.CO , Jakarta ',\n",
              " 'Kabar perpindahan gelandang Philippe Coutinho dari Liverpool ke semakin memanas setelah si pemain disebut absen dalam sesi latihan hari ini, Ahad 31 Desember 2017. Pihak Liverpool sendiri tak menjelaskan alasan gelandang asal Brasil itu tak hadir. Laman Express menyebutkan bahwa Liverpool menggelar sesi latihan untuk persiapan menghadapi Burnley Senin besok. Sesi hari ini diikuti oleh hampir semua pemain. Hanya dua orang yang absen, yaitu: Mohamed Salah dan Coutinho. Soal Salah, laman resmi Liverpool menyebutkan bahwa pemain sayap asal Mesir tersebut mengalami cedera pada saat mereka menumbangkan Leicester City 2',\n",
              " '1 Sabtu kemarin. Manajer Jurgen Klopp memang sempat mengkhawatirkan Salah absen pada laga di kandang Burnley. \"Kami harus melihat apa masalahnya. Kami akan melihat apakah Salah akan bermain untuk laga berikutnya. Saya tak tahu saat ini tetapi dia mengalami kesakitan. Itu bukan petanda yang bagus,\" ujarnya usai laga melawan Leicester tersebut. Namun soal Coutinho, Liverpool tak memberikan penjelasan apa pun. Absennya gelandang 25 tahun itu menambah besar gaung kepindahannya ke Barcelona yang dipicu oleh Nike, sponsor Barcelona. Laman resmi perusahaan peralatan olahraga tersebut sempat memasang iklan pemesanan kostum Barcelona dengan nama Coutinho di belakangnya. Namun iklan tersebut segera dicabut oleh Nike. \"Phlippe Coutinho siap untuk mencerahkan Camp Nou. Dapatkan perlengkapan Barcelona musim 2017',\n",
              " '2018 dengan nama Si Penyihir. Cepat ',\n",
              " ' bebas biaya personalisasi hingga 6 Januari,\" begitu tulis Nike dalam iklan di laman mereka. Rumor kedatangan Coutinho ke memang terus memanas. Terakhir, Barcelona dikabarkan akan menggelar pertemuan dengan agen si pemain pada awal tahun 2018. EXPRESS']"
            ]
          },
          "metadata": {},
          "execution_count": 27
        }
      ]
    },
    {
      "cell_type": "code",
      "source": [
        "test3 = ' '.join(test2[1:])\n",
        "test3"
      ],
      "metadata": {
        "colab": {
          "base_uri": "https://localhost:8080/",
          "height": 227
        },
        "id": "RF2ot9pGFw2D",
        "outputId": "df122bcf-a006-44c4-c55f-6d767bbf7ff1"
      },
      "execution_count": null,
      "outputs": [
        {
          "output_type": "execute_result",
          "data": {
            "text/plain": [
              "'Kabar perpindahan gelandang Philippe Coutinho dari Liverpool ke semakin memanas setelah si pemain disebut absen dalam sesi latihan hari ini, Ahad 31 Desember 2017. Pihak Liverpool sendiri tak menjelaskan alasan gelandang asal Brasil itu tak hadir. Laman Express menyebutkan bahwa Liverpool menggelar sesi latihan untuk persiapan menghadapi Burnley Senin besok. Sesi hari ini diikuti oleh hampir semua pemain. Hanya dua orang yang absen, yaitu: Mohamed Salah dan Coutinho. Soal Salah, laman resmi Liverpool menyebutkan bahwa pemain sayap asal Mesir tersebut mengalami cedera pada saat mereka menumbangkan Leicester City 2 1 Sabtu kemarin. Manajer Jurgen Klopp memang sempat mengkhawatirkan Salah absen pada laga di kandang Burnley. \"Kami harus melihat apa masalahnya. Kami akan melihat apakah Salah akan bermain untuk laga berikutnya. Saya tak tahu saat ini tetapi dia mengalami kesakitan. Itu bukan petanda yang bagus,\" ujarnya usai laga melawan Leicester tersebut. Namun soal Coutinho, Liverpool tak memberikan penjelasan apa pun. Absennya gelandang 25 tahun itu menambah besar gaung kepindahannya ke Barcelona yang dipicu oleh Nike, sponsor Barcelona. Laman resmi perusahaan peralatan olahraga tersebut sempat memasang iklan pemesanan kostum Barcelona dengan nama Coutinho di belakangnya. Namun iklan tersebut segera dicabut oleh Nike. \"Phlippe Coutinho siap untuk mencerahkan Camp Nou. Dapatkan perlengkapan Barcelona musim 2017 2018 dengan nama Si Penyihir. Cepat   bebas biaya personalisasi hingga 6 Januari,\" begitu tulis Nike dalam iklan di laman mereka. Rumor kedatangan Coutinho ke memang terus memanas. Terakhir, Barcelona dikabarkan akan menggelar pertemuan dengan agen si pemain pada awal tahun 2018. EXPRESS'"
            ],
            "application/vnd.google.colaboratory.intrinsic+json": {
              "type": "string"
            }
          },
          "metadata": {},
          "execution_count": 30
        }
      ]
    },
    {
      "cell_type": "code",
      "source": [
        "re.sub(r'^\\s*|\\s\\s*', ' ', test3).strip()"
      ],
      "metadata": {
        "colab": {
          "base_uri": "https://localhost:8080/",
          "height": 227
        },
        "id": "tSQUs8ZuGPAQ",
        "outputId": "a557af99-7c7d-41a5-be1a-07ed15fcc338"
      },
      "execution_count": null,
      "outputs": [
        {
          "output_type": "execute_result",
          "data": {
            "text/plain": [
              "'Kabar perpindahan gelandang Philippe Coutinho dari Liverpool ke semakin memanas setelah si pemain disebut absen dalam sesi latihan hari ini, Ahad 31 Desember 2017. Pihak Liverpool sendiri tak menjelaskan alasan gelandang asal Brasil itu tak hadir. Laman Express menyebutkan bahwa Liverpool menggelar sesi latihan untuk persiapan menghadapi Burnley Senin besok. Sesi hari ini diikuti oleh hampir semua pemain. Hanya dua orang yang absen, yaitu: Mohamed Salah dan Coutinho. Soal Salah, laman resmi Liverpool menyebutkan bahwa pemain sayap asal Mesir tersebut mengalami cedera pada saat mereka menumbangkan Leicester City 2 1 Sabtu kemarin. Manajer Jurgen Klopp memang sempat mengkhawatirkan Salah absen pada laga di kandang Burnley. \"Kami harus melihat apa masalahnya. Kami akan melihat apakah Salah akan bermain untuk laga berikutnya. Saya tak tahu saat ini tetapi dia mengalami kesakitan. Itu bukan petanda yang bagus,\" ujarnya usai laga melawan Leicester tersebut. Namun soal Coutinho, Liverpool tak memberikan penjelasan apa pun. Absennya gelandang 25 tahun itu menambah besar gaung kepindahannya ke Barcelona yang dipicu oleh Nike, sponsor Barcelona. Laman resmi perusahaan peralatan olahraga tersebut sempat memasang iklan pemesanan kostum Barcelona dengan nama Coutinho di belakangnya. Namun iklan tersebut segera dicabut oleh Nike. \"Phlippe Coutinho siap untuk mencerahkan Camp Nou. Dapatkan perlengkapan Barcelona musim 2017 2018 dengan nama Si Penyihir. Cepat bebas biaya personalisasi hingga 6 Januari,\" begitu tulis Nike dalam iklan di laman mereka. Rumor kedatangan Coutinho ke memang terus memanas. Terakhir, Barcelona dikabarkan akan menggelar pertemuan dengan agen si pemain pada awal tahun 2018. EXPRESS'"
            ],
            "application/vnd.google.colaboratory.intrinsic+json": {
              "type": "string"
            }
          },
          "metadata": {},
          "execution_count": 31
        }
      ]
    },
    {
      "cell_type": "code",
      "source": [
        "test1"
      ],
      "metadata": {
        "colab": {
          "base_uri": "https://localhost:8080/",
          "height": 227
        },
        "id": "l_x1eQwxFh45",
        "outputId": "b834ae9c-793e-48f5-aa38-4b2df85722af"
      },
      "execution_count": null,
      "outputs": [
        {
          "output_type": "execute_result",
          "data": {
            "text/plain": [
              "'TEMPO.CO , Jakarta -Kabar perpindahan gelandang Philippe Coutinho dari Liverpool ke semakin memanas setelah si pemain disebut absen dalam sesi latihan hari ini, Ahad 31 Desember 2017. Pihak Liverpool sendiri tak menjelaskan alasan gelandang asal Brasil itu tak hadir. Laman Express menyebutkan bahwa Liverpool menggelar sesi latihan untuk persiapan menghadapi Burnley Senin besok. Sesi hari ini diikuti oleh hampir semua pemain. Hanya dua orang yang absen, yaitu: Mohamed Salah dan Coutinho. Soal Salah, laman resmi Liverpool menyebutkan bahwa pemain sayap asal Mesir tersebut mengalami cedera pada saat mereka menumbangkan Leicester City 2-1 Sabtu kemarin. Manajer Jurgen Klopp memang sempat mengkhawatirkan Salah absen pada laga di kandang Burnley. \"Kami harus melihat apa masalahnya. Kami akan melihat apakah Salah akan bermain untuk laga berikutnya. Saya tak tahu saat ini tetapi dia mengalami kesakitan. Itu bukan petanda yang bagus,\" ujarnya usai laga melawan Leicester tersebut. Namun soal Coutinho, Liverpool tak memberikan penjelasan apa pun. Absennya gelandang 25 tahun itu menambah besar gaung kepindahannya ke Barcelona yang dipicu oleh Nike, sponsor Barcelona. Laman resmi perusahaan peralatan olahraga tersebut sempat memasang iklan pemesanan kostum Barcelona dengan nama Coutinho di belakangnya. Namun iklan tersebut segera dicabut oleh Nike. \"Phlippe Coutinho siap untuk mencerahkan Camp Nou. Dapatkan perlengkapan Barcelona musim 2017-2018 dengan nama Si Penyihir. Cepat - bebas biaya personalisasi hingga 6 Januari,\" begitu tulis Nike dalam iklan di laman mereka. Rumor kedatangan Coutinho ke memang terus memanas. Terakhir, Barcelona dikabarkan akan menggelar pertemuan dengan agen si pemain pada awal tahun 2018. EXPRESS'"
            ],
            "application/vnd.google.colaboratory.intrinsic+json": {
              "type": "string"
            }
          },
          "metadata": {},
          "execution_count": 28
        }
      ]
    },
    {
      "cell_type": "code",
      "source": [
        "def remove_news_headline(text,delim):\n",
        "\n",
        "  # Split teks menjadi headline dan isi\n",
        "  sentences = text.split(delim)\n",
        "\n",
        "  # Jika banyaknya komponen dalam x lebih dari 1, artinya terdapat headline di dalam teks asli\n",
        "  # Hilangkan headline tersebut\n",
        "  if len(sentences) > 1:\n",
        "    return \" \".join(sentences[1:])\n",
        "\n",
        "  else:\n",
        "    return sentences[0]\n",
        "\n",
        "def remove_baca_juga(text):\n",
        "\n",
        "  # Split teks menjadi bagian sebelum dan setelah baca juga\n",
        "  sentences = text.split('baca juga')\n",
        "\n",
        "  # Menghilangkan bagian baca juga kebelakang\n",
        "  return sentences[0]\n",
        "\n",
        "\n",
        "def text_cleaning(input_string):\n",
        "\n",
        "  # Membuat semua karakter menjadi huruf kecil\n",
        "  lowercased_text = input_string.lower()\n",
        "\n",
        "  # Menghilangkan link website\n",
        "  removed_link = re.sub(r'(https?:\\/\\/)?([\\da-z\\.-]+)\\.([a-z\\.]{2,6})([\\/\\w\\.-]*)', '', lowercased_text).replace(\"&amp;\",\"&\")\n",
        "\n",
        "  # Menghapus bullet points\n",
        "  removed_bullet = \"\\n\".join([T for T in removed_link.split('\\n') if '•' not in T])\n",
        "\n",
        "  # Menghapus bagian \"baca juga\" dan seterusnya\n",
        "  removed_bullet = remove_baca_juga(removed_bullet)\n",
        "\n",
        "  # Menghapus aksen pada karakter (seperti ä menjadi a)\n",
        "  removed_accented = unicodedata.normalize('NFKD', removed_bullet).encode('ascii', 'ignore').decode('utf-8', 'ignore')\n",
        "\n",
        "  # Menghapus headline dari berita\n",
        "  removed_headline = remove_news_headline(removed_accented,'-')\n",
        "\n",
        "  # Menghapus tanda kurung\n",
        "  removed_parentheses = re.sub(\"([\\(\\|]).*?([\\)\\|])\", \"\\g<1>\\g<2>\", removed_headline)\n",
        "\n",
        "  # Menghilangkan tanda baca selain titik dan koma\n",
        "  removed_punctuations = re.sub(r\"[^\\w\\d.,\\s]+\",' ', removed_parentheses)\n",
        "\n",
        "  # Menghapus spasi (whitespace) berlebih\n",
        "  removed_extra_whitespace =  re.sub(r'^\\s*|\\s\\s*', ' ', removed_punctuations).strip()\n",
        "\n",
        "  # Mengembalikan hasil teks yang sudah bersih\n",
        "  return \".\".join([s for s in removed_extra_whitespace.strip().split('.') if len(s.strip())>5]).replace(\"_\",\"\")"
      ],
      "metadata": {
        "id": "sM8CsBsrdftA"
      },
      "execution_count": null,
      "outputs": []
    },
    {
      "cell_type": "code",
      "source": [
        "new_df = df.copy()\n",
        "new_df['content_html'] = new_df['content_html'].progress_apply(lambda row: text_cleaning(row))"
      ],
      "metadata": {
        "colab": {
          "base_uri": "https://localhost:8080/",
          "height": 49,
          "referenced_widgets": [
            "ff59a55eee9a4f99a24d8ca6d394033c",
            "9e750e7ecb1349459aff895315ea3b06",
            "f426dd287f4c48ecba7f488418ff7c0e",
            "2a550890be4c478f933de1acf98fff73",
            "56c6ec16acac438793fc2a480bac61ba",
            "de671ae091774575b819b4ae526c3e81",
            "88f52f18753f40a7b60547ba6eed432c",
            "73cb962c8d554c9ea4c3d999bd269601",
            "8899150fe1f7429a9b1ad16f52612896",
            "e190478cafd54094999f5154c8ddf832",
            "401d4cc0120c4b29b6a678fc36660d7d"
          ]
        },
        "id": "2TlTM7IsGmho",
        "outputId": "608632f6-26d8-459e-a0f9-40d007f368c6"
      },
      "execution_count": null,
      "outputs": [
        {
          "output_type": "display_data",
          "data": {
            "text/plain": [
              "  0%|          | 0/455678 [00:00<?, ?it/s]"
            ],
            "application/vnd.jupyter.widget-view+json": {
              "version_major": 2,
              "version_minor": 0,
              "model_id": "ff59a55eee9a4f99a24d8ca6d394033c"
            }
          },
          "metadata": {}
        }
      ]
    },
    {
      "cell_type": "code",
      "source": [
        "new_df['content_html']"
      ],
      "metadata": {
        "colab": {
          "base_uri": "https://localhost:8080/"
        },
        "id": "nTSmkx_4ICSE",
        "outputId": "9f9fe6f2-4fbe-4cb3-d74c-1da22892b3a4"
      },
      "execution_count": null,
      "outputs": [
        {
          "output_type": "execute_result",
          "data": {
            "text/plain": [
              "0         hal seperti pekerjaan karir, jodoh keluarga, k...\n",
              "1         366 hari telah berlalu. di penghujung 2016, ma...\n",
              "2         kapolda metro jaya irjen mochamad iriawan mema...\n",
              "3         akhirnya tiba. kedatangan tahun yang baru ini ...\n",
              "4         belasan orang mengantre di pos pengamanan sub ...\n",
              "                                ...                        \n",
              "455673    puncak perayaan tahun baru diprediksi akan ter...\n",
              "455674    kabar perpindahan gelandang philippe coutinho ...\n",
              "455675    gubernur dki anies baswedan naik panggung di m...\n",
              "455676    gubernur dki jakarta bernyanyi bersama rhoma i...\n",
              "455677    tugu pal putih menjadi salah satu tujuan utama...\n",
              "Name: content_html, Length: 455678, dtype: object"
            ]
          },
          "metadata": {},
          "execution_count": 14
        }
      ]
    },
    {
      "cell_type": "code",
      "source": [
        "new_df['content_html'].iloc[0]"
      ],
      "metadata": {
        "colab": {
          "base_uri": "https://localhost:8080/",
          "height": 227
        },
        "id": "EFcDfzOxJF1h",
        "outputId": "536f3ff0-0089-47b8-8bdb-e6b7e61ce5b0"
      },
      "execution_count": null,
      "outputs": [
        {
          "output_type": "execute_result",
          "data": {
            "text/plain": [
              "'hal seperti pekerjaan karir, jodoh keluarga, kesehatan menyangkut makanan, olahraga, penurunan berat badan, berhenti merokok, target hidup seimbang dari sisi religi, rekreasi, travelling, dan juga yang berkaitan dengan keuangan seperti mengatur pengeluaran, memperbanyak tabungan, serta membuat perencanaan keuangan melalui asuransi dan investasi. namun pertanyaannya sekarang, berapa banyak dari semua resolusi yang kita buat di awal tahun baru itu bisa tercapai di akhir tahun biasanya resolusi tahun baru hanya menjadi ekspektasi, cita cita, angan angan atau sebatas wacana saja. banyak hal yang akhirnya membuat resolusi tahun baru tersebut gagal diwujudkan. lima tips berikut ini bisa anda coba agar resolusi tahun baru bisa menjadi aksi nyata. tidak perlu muluk muluk atau berlebihan dalam membuat resolusi tahun baru. cukup tentukan tiga prioritas yang ingin anda capai di tahun baru ini. yang terpenting setelah membuat tiga prioritas tersebut adalah niat untuk mengerjakannya. semuanya tergantung niat anda. seperti apa niat kita diawal akan ikut menentukan hasil akhirnya kelak. jangan pernah menunda nunda. segera mulai lakukan aksi nyata meskipun bertahap sedikit sedikit yang menunjukkan usaha nyata untuk mewujudkan prioritas yang sudah ditentukan. pastikan diri untuk selalu disiplin dan komit meluangkan waktu untuk terus melakukan aksi nyata mewujudkan tiga prioritas yang menjadi resolusi tsb. konsisten untuk terus melakukan aksi nyata sedikit demi sedikit sepanjang tahun. jangan cuma semangat di awal dan kendor di kemudian hari. walau sekecil apapun bentuk aksi itu, jika dilakukan dengan konsisten maka apapun yang kita inginkan sedikit demi sedikit akan menghasilkan progres untuk mewujudkan resolusi tersebut di akhir tahun nanti. jadi tunggu apalagi yuk, mulai beraksi, bukan hanya beresolusi. selamat mengawali aksi mewujudkan mimpi di tahun 2017. bagi anda yang tertarik untuk mendapatkan tips tips bermanfaat lain yang bisa anda gunakan dalam menyambut hari hari baru di tahun 2017, segera klik blog ilovelife berikut pt astra aviva life terdaftar diawasi oleh otoritas jasa keuangan'"
            ],
            "application/vnd.google.colaboratory.intrinsic+json": {
              "type": "string"
            }
          },
          "metadata": {},
          "execution_count": 17
        }
      ]
    },
    {
      "cell_type": "markdown",
      "source": [
        "# Analisis dan Eksplorasi Data"
      ],
      "metadata": {
        "id": "YDx-_HVdj4EH"
      }
    },
    {
      "cell_type": "markdown",
      "source": [
        "## Untuk Kolom \"content_html\""
      ],
      "metadata": {
        "id": "ZQeLtDKej8qT"
      }
    },
    {
      "cell_type": "code",
      "source": [
        "# Menambahkan kolom 'length' untuk mengetahui jumlah kata pada setiap artikel\n",
        "new_df['length'] = new_df['content_html'].progress_apply(lambda row: len(row.split(' ')))"
      ],
      "metadata": {
        "id": "OwxT4tqKjdKp",
        "colab": {
          "base_uri": "https://localhost:8080/",
          "height": 49,
          "referenced_widgets": [
            "26b25919cc6c48b58b465d94da629c41",
            "2435ae87ef654833b82e388ef463d425",
            "7a0f04ae6fed495888e56cbe08a4a4a5",
            "4c712961155d44a1afe83d61e80b689c",
            "2cc91f21d8a642379680c19ca9809a20",
            "148a1620a1004784a5518a264d98afb9",
            "b4e37dbbc68242fb9210845a24d2e0ae",
            "3ee401e626e44e25ab0ad34a31804f9d",
            "d356d7ac3a7843a683a2ba72432bd15b",
            "a90596a52cb949afaf8c751d6b236d46",
            "4ebacd5ef9c748879d654e47daaf8012"
          ]
        },
        "outputId": "c333ae53-88f9-4c98-d7a7-3331a17b2b89"
      },
      "execution_count": null,
      "outputs": [
        {
          "output_type": "display_data",
          "data": {
            "text/plain": [
              "  0%|          | 0/455678 [00:00<?, ?it/s]"
            ],
            "application/vnd.jupyter.widget-view+json": {
              "version_major": 2,
              "version_minor": 0,
              "model_id": "26b25919cc6c48b58b465d94da629c41"
            }
          },
          "metadata": {}
        }
      ]
    },
    {
      "cell_type": "code",
      "source": [
        "# Menampilkan histogram untuk distribusi jumlah kata dari keseluruhan data artikel berita\n",
        "colors = sns.color_palette('pastel')\n",
        "sns.histplot(new_df['length'])\n",
        "plt.title('Distribusi Jumlah Kata pada Data Artikel Berita')\n",
        "plt.xticks([i*1000 for i in range(11)])\n",
        "plt.xlabel('Jumlah Kata')\n",
        "plt.ylabel('Jumlah Artikel')\n",
        "plt.show()"
      ],
      "metadata": {
        "id": "yQJJW8QZkF2L",
        "colab": {
          "base_uri": "https://localhost:8080/",
          "height": 472
        },
        "outputId": "45cb9e6d-2ca9-4987-b286-6f6f44d5b68f"
      },
      "execution_count": null,
      "outputs": [
        {
          "output_type": "display_data",
          "data": {
            "text/plain": [
              "<Figure size 640x480 with 1 Axes>"
            ],
            "image/png": "[encoded data removed]"
          },
          "metadata": {}
        }
      ]
    },
    {
      "cell_type": "code",
      "source": [
        "# Mengambil artikel-artikel dengan jumlah kata kurang dari 1000\n",
        "df_test = new_df[new_df['length'] < 1000]"
      ],
      "metadata": {
        "id": "6HZzbsEXkHd7"
      },
      "execution_count": null,
      "outputs": []
    },
    {
      "cell_type": "code",
      "source": [
        "# Menampilkan histogram distribusi banyak kata pada artikel-artikel di df_all (jumlah kata kurang dari 1000)\n",
        "colors = sns.color_palette('pastel')\n",
        "sns.histplot(df_test['length'])\n",
        "plt.title('Distribusi Jumlah Kata pada Data Artikel Berita')\n",
        "plt.xlabel('Jumlah Kata')\n",
        "plt.ylabel('Jumlah Artikel')\n",
        "plt.show()"
      ],
      "metadata": {
        "id": "KRtTPEbOkJRl",
        "colab": {
          "base_uri": "https://localhost:8080/",
          "height": 472
        },
        "outputId": "845ae49f-869c-431b-c756-b6eee353426a"
      },
      "execution_count": null,
      "outputs": [
        {
          "output_type": "display_data",
          "data": {
            "text/plain": [
              "<Figure size 640x480 with 1 Axes>"
            ],
            "image/png": "[encoded data removed]"
          },
          "metadata": {}
        }
      ]
    },
    {
      "cell_type": "code",
      "source": [
        "# Cek persentase artikel yang memiliki jumlah kata kurang dari 1000\n",
        "print('Persentase jumlah artikel berita dengan jumlah kata kurang dari 1000:', len(new_df[new_df['length'] < 1000])/len(new_df) * 100, '%')"
      ],
      "metadata": {
        "id": "dnzy_g_zkLOd",
        "colab": {
          "base_uri": "https://localhost:8080/"
        },
        "outputId": "d2c883c3-193e-46f6-b6c5-eb69d4518b43"
      },
      "execution_count": null,
      "outputs": [
        {
          "output_type": "stream",
          "name": "stdout",
          "text": [
            "Persentase jumlah artikel berita dengan jumlah kata kurang dari 1000: 99.65041103586304 %\n"
          ]
        }
      ]
    },
    {
      "cell_type": "code",
      "source": [
        "# Cek jumlah baris data artikel yang memiliki jumlah kata kurang dari 1000\n",
        "print('Banyaknya baris artikel berita dengan jumlah kata kurang dari 1000:', len(new_df[new_df['length'] < 1000]), 'baris')"
      ],
      "metadata": {
        "colab": {
          "base_uri": "https://localhost:8080/"
        },
        "id": "jQ9U9PbItD-l",
        "outputId": "709a123a-49b8-4335-a074-7fa1346d6b68"
      },
      "execution_count": null,
      "outputs": [
        {
          "output_type": "stream",
          "name": "stdout",
          "text": [
            "Banyaknya baris artikel berita dengan jumlah kata kurang dari 1000: 454085 baris\n"
          ]
        }
      ]
    },
    {
      "cell_type": "code",
      "source": [
        "# Mengambil artikel-artikel dengan jumlah kata <= 500\n",
        "df_test2 = new_df[new_df['length'] <= 500]"
      ],
      "metadata": {
        "id": "aMqjQhewkM5y"
      },
      "execution_count": null,
      "outputs": []
    },
    {
      "cell_type": "code",
      "source": [
        "# Menampilkan histogram distribusi banyak kata pada artikel-artikel di df_all (jumlah kata kurang dari 500)\n",
        "colors = sns.color_palette('pastel')\n",
        "sns.histplot(df_test2['length'])\n",
        "plt.title('Distribusi Jumlah Kata pada Data Artikel Berita')\n",
        "plt.xticks([i*10 for i in range(0, 51, 5)])\n",
        "plt.xlabel('Jumlah Kata')\n",
        "plt.ylabel('Jumlah Artikel')\n",
        "plt.show()"
      ],
      "metadata": {
        "id": "H8QuMZnRkP4V",
        "colab": {
          "base_uri": "https://localhost:8080/",
          "height": 472
        },
        "outputId": "7568b4c9-7b17-4eb1-912a-30634b04c41e"
      },
      "execution_count": null,
      "outputs": [
        {
          "output_type": "display_data",
          "data": {
            "text/plain": [
              "<Figure size 640x480 with 1 Axes>"
            ],
            "image/png": "[encoded data removed]"
          },
          "metadata": {}
        }
      ]
    },
    {
      "cell_type": "code",
      "source": [
        "# Cek persentase artikel yang memiliki jumlah <= 500\n",
        "print('Persentase jumlah artikel yang memiliki jumlah kata kurang dari atau sama dengan 500:', len(df_test2)/len(new_df) * 100, '%')"
      ],
      "metadata": {
        "id": "YXNebU3wkSbV",
        "colab": {
          "base_uri": "https://localhost:8080/"
        },
        "outputId": "7a70fdd9-b47e-4c0e-8721-a97cec841f8e"
      },
      "execution_count": null,
      "outputs": [
        {
          "output_type": "stream",
          "name": "stdout",
          "text": [
            "Persentase jumlah artikel yang memiliki jumlah kata kurang dari atau sama dengan 500: 96.0733237066525 %\n"
          ]
        }
      ]
    },
    {
      "cell_type": "code",
      "source": [
        "# Cek jumlah baris data artikel yang memiliki jumlah kata  <= 500\n",
        "print('Banyaknya baris artikel yang memiliki jumlah kata kurang dari atau sama dengan 500:', len(df_test2), 'baris')"
      ],
      "metadata": {
        "colab": {
          "base_uri": "https://localhost:8080/"
        },
        "id": "dIMKrqdquFNB",
        "outputId": "a1ec8488-8435-456a-c9bb-d09e6d402cac"
      },
      "execution_count": null,
      "outputs": [
        {
          "output_type": "stream",
          "name": "stdout",
          "text": [
            "Banyaknya baris artikel yang memiliki jumlah kata kurang dari atau sama dengan 500: 437785 baris\n"
          ]
        }
      ]
    },
    {
      "cell_type": "code",
      "source": [
        "# Mengambil artikel-artikel dengan jumlah kata lebih dari 50 dan kurang dari 500\n",
        "df_test3 = new_df[(new_df['length'] >= 50) & (new_df['length'] <= 500)]"
      ],
      "metadata": {
        "id": "wbG0hhLakZJn"
      },
      "execution_count": null,
      "outputs": []
    },
    {
      "cell_type": "code",
      "source": [
        "# Menampilkan histogram distribusi banyak kata pada artikel-artikel di df_all (jumlah kata minimal 50 dan maksimal 500)\n",
        "colors = sns.color_palette('pastel')\n",
        "sns.histplot(df_test3['length'])\n",
        "plt.title('Distribusi Jumlah Kata pada Data Artikel Berita')\n",
        "plt.xticks([i*10 for i in range(5,51,5)])\n",
        "plt.xlabel('Jumlah Kata')\n",
        "plt.ylabel('Jumlah Artikel')\n",
        "plt.show()"
      ],
      "metadata": {
        "id": "5ftNcmgKkahq",
        "colab": {
          "base_uri": "https://localhost:8080/",
          "height": 472
        },
        "outputId": "1f587781-f1d9-43fa-dfbd-74d419d92028"
      },
      "execution_count": null,
      "outputs": [
        {
          "output_type": "display_data",
          "data": {
            "text/plain": [
              "<Figure size 640x480 with 1 Axes>"
            ],
            "image/png": "[encoded data removed]"
          },
          "metadata": {}
        }
      ]
    },
    {
      "cell_type": "code",
      "source": [
        "# Cek persentase artikel yang memiliki jumlah kata minimal 50 dan maksimal 500\n",
        "print('Persentase jumlah artikel yang memiliki jumlah kata lebih dari 50 dan kurang dari 500:', len(df_test3)/len(new_df) * 100, '%')"
      ],
      "metadata": {
        "id": "vVunm2DikooQ",
        "colab": {
          "base_uri": "https://localhost:8080/"
        },
        "outputId": "84e85b09-a779-4d16-be5a-04344170f14e"
      },
      "execution_count": null,
      "outputs": [
        {
          "output_type": "stream",
          "name": "stdout",
          "text": [
            "Persentase jumlah artikel yang memiliki jumlah kata lebih dari 50 dan kurang dari 500: 93.3211609952642 %\n"
          ]
        }
      ]
    },
    {
      "cell_type": "code",
      "source": [
        "# Cek persentase artikel yang memiliki jumlah kata minimal 50 dan maksimal 500\n",
        "print('Banyaknya baris artikel yang memiliki jumlah kata lebih dari 50 dan kurang dari 500:', len(df_test3), 'baris')"
      ],
      "metadata": {
        "colab": {
          "base_uri": "https://localhost:8080/"
        },
        "id": "nF0S1m4euYu3",
        "outputId": "b8d712dd-43fc-4aa4-9619-e24327539882"
      },
      "execution_count": null,
      "outputs": [
        {
          "output_type": "stream",
          "name": "stdout",
          "text": [
            "Banyaknya baris artikel yang memiliki jumlah kata lebih dari 50 dan kurang dari 500: 425244 baris\n"
          ]
        }
      ]
    },
    {
      "cell_type": "markdown",
      "source": [
        "## Untuk Kolom \"title\""
      ],
      "metadata": {
        "id": "s_1opcOhkzpO"
      }
    },
    {
      "cell_type": "code",
      "source": [
        "# Menambahkan kolom 'title_length' untuk mengetahui jumlah kata pada setiap judul\n",
        "df_test3['title_length'] = df_test3['title'].progress_apply(lambda row: len(row.split(' ')))"
      ],
      "metadata": {
        "id": "fmcFyO0yk1hL",
        "colab": {
          "base_uri": "https://localhost:8080/",
          "height": 153,
          "referenced_widgets": [
            "1ff1789cb5764a39ac01c34a9d0e64de",
            "500b7e4289d04b2dacdd7bf9b78deeac",
            "49ac6c2b4aeb4f27ac1d728f45336493",
            "9985e9c51bfd4441a344f61756b7c6a4",
            "cc1bdd26f1b84779a70d2af06fe2ca28",
            "be16015033844bf69219bfe529d2edd2",
            "ec86dbfdbfc344509fc9344d6f4531fb",
            "b297f4e11f564cf787fbfc89178190dc",
            "a56154f5b1c246f69523a74717f14d16",
            "af20f546020c4d419bd9e5c5307fd255",
            "f55a7566743a4a52b0d8d60a7de80a39"
          ]
        },
        "outputId": "0e6b88dc-8c48-4c90-f629-a0d194352aaa"
      },
      "execution_count": null,
      "outputs": [
        {
          "output_type": "display_data",
          "data": {
            "text/plain": [
              "  0%|          | 0/425244 [00:00<?, ?it/s]"
            ],
            "application/vnd.jupyter.widget-view+json": {
              "version_major": 2,
              "version_minor": 0,
              "model_id": "1ff1789cb5764a39ac01c34a9d0e64de"
            }
          },
          "metadata": {}
        },
        {
          "output_type": "stream",
          "name": "stderr",
          "text": [
            "<ipython-input-39-24e234742bec>:2: SettingWithCopyWarning: \n",
            "A value is trying to be set on a copy of a slice from a DataFrame.\n",
            "Try using .loc[row_indexer,col_indexer] = value instead\n",
            "\n",
            "See the caveats in the documentation: https://pandas.pydata.org/pandas-docs/stable/user_guide/indexing.html#returning-a-view-versus-a-copy\n",
            "  df_test3['title_length'] = df_test3['title'].progress_apply(lambda row: len(row.split(' ')))\n"
          ]
        }
      ]
    },
    {
      "cell_type": "code",
      "source": [
        "# Menampilkan distribusi banyaknya kata dalam judul\n",
        "x = df_test3['title_length'].value_counts().index\n",
        "y = df_test3['title_length'].value_counts().values\n",
        "colors = sns.color_palette('pastel')\n",
        "sns.barplot(data=df_test3, x=x, y=y, palette=colors)\n",
        "plt.title('Distribusi Jumlah Kata pada Data Judul Berita')\n",
        "plt.xlabel('Jumlah Kata')\n",
        "plt.ylabel('Jumlah Artikel')\n",
        "plt.show()"
      ],
      "metadata": {
        "id": "HwxNw-Emk5aG",
        "colab": {
          "base_uri": "https://localhost:8080/",
          "height": 472
        },
        "outputId": "23118615-0ff7-4bd1-eb4e-3c09b4687fa0"
      },
      "execution_count": null,
      "outputs": [
        {
          "output_type": "display_data",
          "data": {
            "text/plain": [
              "<Figure size 640x480 with 1 Axes>"
            ],
            "image/png": "[encoded data removed]"
          },
          "metadata": {}
        }
      ]
    },
    {
      "cell_type": "code",
      "source": [
        "# Mendapatkan rata-rata jumlah kata dalam judul berita\n",
        "df_test3['title_length'].mean()"
      ],
      "metadata": {
        "colab": {
          "base_uri": "https://localhost:8080/"
        },
        "id": "oFfcCWNv1V6-",
        "outputId": "706bc67b-f077-4602-f66a-cb7129fb5833"
      },
      "execution_count": null,
      "outputs": [
        {
          "output_type": "execute_result",
          "data": {
            "text/plain": [
              "9.006361053889062"
            ]
          },
          "metadata": {},
          "execution_count": 47
        }
      ]
    },
    {
      "cell_type": "markdown",
      "source": [
        "# Menyimpan Data Baru"
      ],
      "metadata": {
        "id": "54XyiFF-OQ7H"
      }
    },
    {
      "cell_type": "code",
      "source": [
        "df_test3.to_csv('/content/drive/MyDrive/Tugas Akhir 2/Files/Data Artikel 2 v3.csv')"
      ],
      "metadata": {
        "id": "E0o6e6A9zTUv"
      },
      "execution_count": null,
      "outputs": []
    }
  ]
}